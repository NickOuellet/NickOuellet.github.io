{
 "cells": [
  {
   "cell_type": "markdown",
   "metadata": {},
   "source": [
    "# [https://nickouellet.github.io](https://nickouellet.github.io)"
   ]
  },
  {
   "cell_type": "markdown",
   "metadata": {},
   "source": [
    "# Nick Ouellet and Garrett Gilliom"
   ]
  },
  {
   "cell_type": "markdown",
   "metadata": {},
   "source": [
    "# Investigating K-12 Academic Performance Based on District Data"
   ]
  },
  {
   "cell_type": "markdown",
   "metadata": {},
   "source": [
    "## Project Goals\n",
    "The team, **Nick Ouellet and Garrett Gilliom**, will be investigating data sets related to public school districts that measure student, faculty, and staff demographics, school district academic performance and finances, and more. So far, the team has come across two data sets for Louisiana school districts and many more for New Jersey school districts. Collectively, the data measures different variables and attributes of each state's school districts across the same year; the data is also well-populated and taken from each state's Department of Education, which is a reputable source.\n",
    "\n",
    "The following tutorial will investigate the following questions:\n",
    "- **What relationships exist between variables of financial, or otherwise demographic, data and the academic performance of school districts?** Examples:\n",
    "    * How important a role does teacher compensation play in testing scores?\n",
    "    * Is overall funding or spending of school district at all indicative of its academic performance?\n",
    "    * Which areas are most effective at promoting successful test scores? For example, does allocating money to extracurriculars like sports aid or hinder testing scores?\n",
    "- **Louisiana is consistently ranked as a low-performing state, education-wise. What differences exist between Louisiana and other high-performaing states that may highlight why Louisiana is ranked as such?**\n",
    "- **Can data from one or a small group of states allow for the prediction of academic performance of other states' school districts?**\n",
    "\n",
    "### Collaboration Plan\n",
    "The team plans to meet once a week to work on this project to finalize our project vision, determine objectives, and assist each other where necessary. We will also be communicating thoroughly over text messages to keep each other updated with task progress and will be using Google Docs to keep an ongoing list of to-do items that’s accessible by each of us at all times. The team has also set up a shared Github repository to store, coordinate, and update our code."
   ]
  },
  {
   "cell_type": "code",
   "execution_count": 1,
   "metadata": {},
   "outputs": [],
   "source": [
    "import pandas as pd \n",
    "import numpy as np\n",
    "import re\n",
    "import matplotlib.pyplot as plt\n",
    "import seaborn as sns\n",
    "import shapefile as shp\n",
    "import geopandas as gpd\n",
    "pd.set_option(\"display.max_rows\", None, \"display.max_columns\", None)"
   ]
  },
  {
   "cell_type": "markdown",
   "metadata": {},
   "source": [
    "## Louisiana Table 1: \n",
    "This first table is from the [U.S. Department of Education National Center for Education Statistics Common Code of Data (CCD)](https://nces.ed.gov/ccd/elsi/tableGenerator.aspx). Their website allows users to make specific queries to their database to get personalized data; the team opted to focus on 2016-2017 data on Louisiana public school districts, each of which is its own observation and row, and included nearly all variable measurements to be included for each district, including diversity levels within the district, pupil/teacher ratio, total revenue from different sources, and expenditures. The team chose this data set because it provides data on many points and variables that may be relevant upon further investigation; the years chosen were also found to be relatively well-populated and up-to-date."
   ]
  },
  {
   "cell_type": "code",
   "execution_count": 2,
   "metadata": {},
   "outputs": [
    {
     "data": {
      "text/html": [
       "<div>\n",
       "<style scoped>\n",
       "    .dataframe tbody tr th:only-of-type {\n",
       "        vertical-align: middle;\n",
       "    }\n",
       "\n",
       "    .dataframe tbody tr th {\n",
       "        vertical-align: top;\n",
       "    }\n",
       "\n",
       "    .dataframe thead th {\n",
       "        text-align: right;\n",
       "    }\n",
       "</style>\n",
       "<table border=\"1\" class=\"dataframe\">\n",
       "  <thead>\n",
       "    <tr style=\"text-align: right;\">\n",
       "      <th></th>\n",
       "      <th>Agency Name</th>\n",
       "      <th>State Name [District] Latest available year</th>\n",
       "      <th>State Name [District] 2016-17</th>\n",
       "      <th>Agency Name [District] 2016-17</th>\n",
       "      <th>Agency Type [District] 2016-17</th>\n",
       "      <th>Total Students All Grades (Includes AE) [District] 2016-17</th>\n",
       "      <th>Male Students [District] 2016-17</th>\n",
       "      <th>Female Students [District] 2016-17</th>\n",
       "      <th>American Indian/Alaska Native - male [District] 2016-17</th>\n",
       "      <th>American Indian/Alaska Native - female [District] 2016-17</th>\n",
       "      <th>Asian or Asian/Pacific Islander - male [District] 2016-17</th>\n",
       "      <th>Asian or Asian/Pacific Islander - female [District] 2016-17</th>\n",
       "      <th>Hispanic - male [District] 2016-17</th>\n",
       "      <th>Hispanic - female [District] 2016-17</th>\n",
       "      <th>Black or African American - male [District] 2016-17</th>\n",
       "      <th>Black or African American - female [District] 2016-17</th>\n",
       "      <th>White - male [District] 2016-17</th>\n",
       "      <th>White - female [District] 2016-17</th>\n",
       "      <th>Nat. Hawaiian or Other Pacific Isl. - male [District] 2016-17</th>\n",
       "      <th>Nat. Hawaiian or Other Pacific Isl. - female [District] 2016-17</th>\n",
       "      <th>Two or More Races - male [District] 2016-17</th>\n",
       "      <th>Two or More Races - female [District] 2016-17</th>\n",
       "      <th>Full-Time Equivalent (FTE) Teachers [District] 2016-17</th>\n",
       "      <th>Pupil/Teacher Ratio [District] 2016-17</th>\n",
       "      <th>Kindergarten Teachers [District] 2016-17</th>\n",
       "      <th>Elementary Teachers [District] 2016-17</th>\n",
       "      <th>Secondary Teachers [District] 2016-17</th>\n",
       "      <th>Total Staff [District] 2016-17</th>\n",
       "      <th>Total General Revenue (TOTALREV) [District Finance] 2016-17</th>\n",
       "      <th>Total Revenue - Federal Sources (TFEDREV) [District Finance] 2016-17</th>\n",
       "      <th>Total Revenue - State Sources (TSTREV) [District Finance] 2016-17</th>\n",
       "      <th>Total Revenue - Local Sources (TLOCREV) [District Finance] 2016-17</th>\n",
       "      <th>Total Revenue (TOTALREV) per Pupil (V33) [District Finance] 2016-17</th>\n",
       "      <th>Instruction Expenditures - Total (E13) [District Finance] 2016-17</th>\n",
       "      <th>Salary - Instruction Expenditures (Z33) [District Finance] 2016-17</th>\n",
       "    </tr>\n",
       "  </thead>\n",
       "  <tbody>\n",
       "    <tr>\n",
       "      <th>0</th>\n",
       "      <td>A.E. PHILLIPS LABORATORY SCHOOL</td>\n",
       "      <td>Louisiana</td>\n",
       "      <td>LOUISIANA</td>\n",
       "      <td>A.E. Phillips Laboratory School</td>\n",
       "      <td>8-Other education agencies</td>\n",
       "      <td>394</td>\n",
       "      <td>194</td>\n",
       "      <td>195</td>\n",
       "      <td>–</td>\n",
       "      <td>–</td>\n",
       "      <td>5</td>\n",
       "      <td>5</td>\n",
       "      <td>3</td>\n",
       "      <td>1</td>\n",
       "      <td>41</td>\n",
       "      <td>41</td>\n",
       "      <td>148</td>\n",
       "      <td>149</td>\n",
       "      <td>–</td>\n",
       "      <td>–</td>\n",
       "      <td>–</td>\n",
       "      <td>1</td>\n",
       "      <td>22.00</td>\n",
       "      <td>17.91</td>\n",
       "      <td>2.50</td>\n",
       "      <td>18.50</td>\n",
       "      <td>1.00</td>\n",
       "      <td>25.00</td>\n",
       "      <td>–</td>\n",
       "      <td>–</td>\n",
       "      <td>–</td>\n",
       "      <td>–</td>\n",
       "      <td>=\"0\"</td>\n",
       "      <td>–</td>\n",
       "      <td>–</td>\n",
       "    </tr>\n",
       "    <tr>\n",
       "      <th>1</th>\n",
       "      <td>ABRAMSON SCI ACADEMY</td>\n",
       "      <td>LOUISIANA</td>\n",
       "      <td>LOUISIANA</td>\n",
       "      <td>RSD-Collegiate Academies</td>\n",
       "      <td>7-Independent Charter District</td>\n",
       "      <td>561</td>\n",
       "      <td>307</td>\n",
       "      <td>253</td>\n",
       "      <td>1</td>\n",
       "      <td>–</td>\n",
       "      <td>21</td>\n",
       "      <td>21</td>\n",
       "      <td>5</td>\n",
       "      <td>2</td>\n",
       "      <td>268</td>\n",
       "      <td>221</td>\n",
       "      <td>8</td>\n",
       "      <td>5</td>\n",
       "      <td>1</td>\n",
       "      <td>2</td>\n",
       "      <td>3</td>\n",
       "      <td>3</td>\n",
       "      <td>36.99</td>\n",
       "      <td>15.17</td>\n",
       "      <td>†</td>\n",
       "      <td>†</td>\n",
       "      <td>36.99</td>\n",
       "      <td>83.74</td>\n",
       "      <td>8252000</td>\n",
       "      <td>1397000</td>\n",
       "      <td>3605000</td>\n",
       "      <td>3250000</td>\n",
       "      <td>14709</td>\n",
       "      <td>3473000</td>\n",
       "      <td>2588000</td>\n",
       "    </tr>\n",
       "    <tr>\n",
       "      <th>2</th>\n",
       "      <td>ACADIA PARISH</td>\n",
       "      <td>Louisiana</td>\n",
       "      <td>LOUISIANA</td>\n",
       "      <td>Acadia Parish</td>\n",
       "      <td>1-Regular local school district that is NOT a ...</td>\n",
       "      <td>9839</td>\n",
       "      <td>5050</td>\n",
       "      <td>4787</td>\n",
       "      <td>9</td>\n",
       "      <td>9</td>\n",
       "      <td>9</td>\n",
       "      <td>5</td>\n",
       "      <td>149</td>\n",
       "      <td>115</td>\n",
       "      <td>1339</td>\n",
       "      <td>1212</td>\n",
       "      <td>3347</td>\n",
       "      <td>3233</td>\n",
       "      <td>–</td>\n",
       "      <td>–</td>\n",
       "      <td>198</td>\n",
       "      <td>214</td>\n",
       "      <td>548.94</td>\n",
       "      <td>17.92</td>\n",
       "      <td>39.00</td>\n",
       "      <td>322.36</td>\n",
       "      <td>163.58</td>\n",
       "      <td>1119.35</td>\n",
       "      <td>95051000</td>\n",
       "      <td>15149000</td>\n",
       "      <td>53342000</td>\n",
       "      <td>26560000</td>\n",
       "      <td>9661</td>\n",
       "      <td>54183000</td>\n",
       "      <td>35390000</td>\n",
       "    </tr>\n",
       "    <tr>\n",
       "      <th>3</th>\n",
       "      <td>ACADIANA RENAISSANCE CHARTER ACADEMY</td>\n",
       "      <td>LOUISIANA</td>\n",
       "      <td>LOUISIANA</td>\n",
       "      <td>Acadiana Renaissance Charter Academy</td>\n",
       "      <td>7-Independent Charter District</td>\n",
       "      <td>887</td>\n",
       "      <td>430</td>\n",
       "      <td>454</td>\n",
       "      <td>1</td>\n",
       "      <td>3</td>\n",
       "      <td>3</td>\n",
       "      <td>4</td>\n",
       "      <td>20</td>\n",
       "      <td>15</td>\n",
       "      <td>39</td>\n",
       "      <td>46</td>\n",
       "      <td>367</td>\n",
       "      <td>388</td>\n",
       "      <td>–</td>\n",
       "      <td>–</td>\n",
       "      <td>1</td>\n",
       "      <td>–</td>\n",
       "      <td>53.08</td>\n",
       "      <td>16.71</td>\n",
       "      <td>6.95</td>\n",
       "      <td>27.16</td>\n",
       "      <td>18.97</td>\n",
       "      <td>86.36</td>\n",
       "      <td>8941000</td>\n",
       "      <td>433000</td>\n",
       "      <td>3525000</td>\n",
       "      <td>4983000</td>\n",
       "      <td>10080</td>\n",
       "      <td>4328000</td>\n",
       "      <td>3089000</td>\n",
       "    </tr>\n",
       "    <tr>\n",
       "      <th>4</th>\n",
       "      <td>ADVANTAGE CHARTER ACADEMY</td>\n",
       "      <td>LOUISIANA</td>\n",
       "      <td>LOUISIANA</td>\n",
       "      <td>Advantage Charter Academy</td>\n",
       "      <td>7-Independent Charter District</td>\n",
       "      <td>553</td>\n",
       "      <td>279</td>\n",
       "      <td>267</td>\n",
       "      <td>–</td>\n",
       "      <td>1</td>\n",
       "      <td>–</td>\n",
       "      <td>–</td>\n",
       "      <td>8</td>\n",
       "      <td>6</td>\n",
       "      <td>268</td>\n",
       "      <td>253</td>\n",
       "      <td>7</td>\n",
       "      <td>10</td>\n",
       "      <td>–</td>\n",
       "      <td>–</td>\n",
       "      <td>–</td>\n",
       "      <td>–</td>\n",
       "      <td>34.30</td>\n",
       "      <td>16.12</td>\n",
       "      <td>5.27</td>\n",
       "      <td>23.03</td>\n",
       "      <td>6.00</td>\n",
       "      <td>67.63</td>\n",
       "      <td>6703000</td>\n",
       "      <td>753000</td>\n",
       "      <td>2952000</td>\n",
       "      <td>2998000</td>\n",
       "      <td>12121</td>\n",
       "      <td>2891000</td>\n",
       "      <td>1776000</td>\n",
       "    </tr>\n",
       "  </tbody>\n",
       "</table>\n",
       "</div>"
      ],
      "text/plain": [
       "                            Agency Name  \\\n",
       "0       A.E. PHILLIPS LABORATORY SCHOOL   \n",
       "1                  ABRAMSON SCI ACADEMY   \n",
       "2                         ACADIA PARISH   \n",
       "3  ACADIANA RENAISSANCE CHARTER ACADEMY   \n",
       "4             ADVANTAGE CHARTER ACADEMY   \n",
       "\n",
       "  State Name [District] Latest available year State Name [District] 2016-17  \\\n",
       "0                                   Louisiana                     LOUISIANA   \n",
       "1                                   LOUISIANA                     LOUISIANA   \n",
       "2                                   Louisiana                     LOUISIANA   \n",
       "3                                   LOUISIANA                     LOUISIANA   \n",
       "4                                   LOUISIANA                     LOUISIANA   \n",
       "\n",
       "         Agency Name [District] 2016-17  \\\n",
       "0       A.E. Phillips Laboratory School   \n",
       "1              RSD-Collegiate Academies   \n",
       "2                         Acadia Parish   \n",
       "3  Acadiana Renaissance Charter Academy   \n",
       "4             Advantage Charter Academy   \n",
       "\n",
       "                      Agency Type [District] 2016-17  \\\n",
       "0                         8-Other education agencies   \n",
       "1                     7-Independent Charter District   \n",
       "2  1-Regular local school district that is NOT a ...   \n",
       "3                     7-Independent Charter District   \n",
       "4                     7-Independent Charter District   \n",
       "\n",
       "  Total Students All Grades (Includes AE) [District] 2016-17  \\\n",
       "0                                                394           \n",
       "1                                                561           \n",
       "2                                               9839           \n",
       "3                                                887           \n",
       "4                                                553           \n",
       "\n",
       "   Male Students [District] 2016-17 Female Students [District] 2016-17  \\\n",
       "0                               194                                195   \n",
       "1                               307                                253   \n",
       "2                              5050                               4787   \n",
       "3                               430                                454   \n",
       "4                               279                                267   \n",
       "\n",
       "  American Indian/Alaska Native - male [District] 2016-17  \\\n",
       "0                                                  –        \n",
       "1                                                  1        \n",
       "2                                                  9        \n",
       "3                                                  1        \n",
       "4                                                  –        \n",
       "\n",
       "  American Indian/Alaska Native - female [District] 2016-17  \\\n",
       "0                                                  –          \n",
       "1                                                  –          \n",
       "2                                                  9          \n",
       "3                                                  3          \n",
       "4                                                  1          \n",
       "\n",
       "  Asian or Asian/Pacific Islander - male [District] 2016-17  \\\n",
       "0                                                  5          \n",
       "1                                                 21          \n",
       "2                                                  9          \n",
       "3                                                  3          \n",
       "4                                                  –          \n",
       "\n",
       "  Asian or Asian/Pacific Islander - female [District] 2016-17  \\\n",
       "0                                                  5            \n",
       "1                                                 21            \n",
       "2                                                  5            \n",
       "3                                                  4            \n",
       "4                                                  –            \n",
       "\n",
       "  Hispanic - male [District] 2016-17 Hispanic - female [District] 2016-17  \\\n",
       "0                                  3                                    1   \n",
       "1                                  5                                    2   \n",
       "2                                149                                  115   \n",
       "3                                 20                                   15   \n",
       "4                                  8                                    6   \n",
       "\n",
       "  Black or African American - male [District] 2016-17  \\\n",
       "0                                                 41    \n",
       "1                                                268    \n",
       "2                                               1339    \n",
       "3                                                 39    \n",
       "4                                                268    \n",
       "\n",
       "  Black or African American - female [District] 2016-17  \\\n",
       "0                                                 41      \n",
       "1                                                221      \n",
       "2                                               1212      \n",
       "3                                                 46      \n",
       "4                                                253      \n",
       "\n",
       "  White - male [District] 2016-17 White - female [District] 2016-17  \\\n",
       "0                             148                               149   \n",
       "1                               8                                 5   \n",
       "2                            3347                              3233   \n",
       "3                             367                               388   \n",
       "4                               7                                10   \n",
       "\n",
       "  Nat. Hawaiian or Other Pacific Isl. - male [District] 2016-17  \\\n",
       "0                                                  –              \n",
       "1                                                  1              \n",
       "2                                                  –              \n",
       "3                                                  –              \n",
       "4                                                  –              \n",
       "\n",
       "  Nat. Hawaiian or Other Pacific Isl. - female [District] 2016-17  \\\n",
       "0                                                  –                \n",
       "1                                                  2                \n",
       "2                                                  –                \n",
       "3                                                  –                \n",
       "4                                                  –                \n",
       "\n",
       "  Two or More Races - male [District] 2016-17  \\\n",
       "0                                           –   \n",
       "1                                           3   \n",
       "2                                         198   \n",
       "3                                           1   \n",
       "4                                           –   \n",
       "\n",
       "  Two or More Races - female [District] 2016-17  \\\n",
       "0                                             1   \n",
       "1                                             3   \n",
       "2                                           214   \n",
       "3                                             –   \n",
       "4                                             –   \n",
       "\n",
       "  Full-Time Equivalent (FTE) Teachers [District] 2016-17  \\\n",
       "0                                              22.00       \n",
       "1                                              36.99       \n",
       "2                                             548.94       \n",
       "3                                              53.08       \n",
       "4                                              34.30       \n",
       "\n",
       "  Pupil/Teacher Ratio [District] 2016-17  \\\n",
       "0                                  17.91   \n",
       "1                                  15.17   \n",
       "2                                  17.92   \n",
       "3                                  16.71   \n",
       "4                                  16.12   \n",
       "\n",
       "  Kindergarten Teachers [District] 2016-17  \\\n",
       "0                                     2.50   \n",
       "1                                        †   \n",
       "2                                    39.00   \n",
       "3                                     6.95   \n",
       "4                                     5.27   \n",
       "\n",
       "  Elementary Teachers [District] 2016-17  \\\n",
       "0                                  18.50   \n",
       "1                                      †   \n",
       "2                                 322.36   \n",
       "3                                  27.16   \n",
       "4                                  23.03   \n",
       "\n",
       "  Secondary Teachers [District] 2016-17 Total Staff [District] 2016-17  \\\n",
       "0                                  1.00                          25.00   \n",
       "1                                 36.99                          83.74   \n",
       "2                                163.58                        1119.35   \n",
       "3                                 18.97                          86.36   \n",
       "4                                  6.00                          67.63   \n",
       "\n",
       "  Total General Revenue (TOTALREV) [District Finance] 2016-17  \\\n",
       "0                                                  –            \n",
       "1                                            8252000            \n",
       "2                                           95051000            \n",
       "3                                            8941000            \n",
       "4                                            6703000            \n",
       "\n",
       "  Total Revenue - Federal Sources (TFEDREV) [District Finance] 2016-17  \\\n",
       "0                                                  –                     \n",
       "1                                            1397000                     \n",
       "2                                           15149000                     \n",
       "3                                             433000                     \n",
       "4                                             753000                     \n",
       "\n",
       "  Total Revenue - State Sources (TSTREV) [District Finance] 2016-17  \\\n",
       "0                                                  –                  \n",
       "1                                            3605000                  \n",
       "2                                           53342000                  \n",
       "3                                            3525000                  \n",
       "4                                            2952000                  \n",
       "\n",
       "  Total Revenue - Local Sources (TLOCREV) [District Finance] 2016-17  \\\n",
       "0                                                  –                   \n",
       "1                                            3250000                   \n",
       "2                                           26560000                   \n",
       "3                                            4983000                   \n",
       "4                                            2998000                   \n",
       "\n",
       "  Total Revenue (TOTALREV) per Pupil (V33) [District Finance] 2016-17  \\\n",
       "0                                               =\"0\"                    \n",
       "1                                              14709                    \n",
       "2                                               9661                    \n",
       "3                                              10080                    \n",
       "4                                              12121                    \n",
       "\n",
       "  Instruction Expenditures - Total (E13) [District Finance] 2016-17  \\\n",
       "0                                                  –                  \n",
       "1                                            3473000                  \n",
       "2                                           54183000                  \n",
       "3                                            4328000                  \n",
       "4                                            2891000                  \n",
       "\n",
       "  Salary - Instruction Expenditures (Z33) [District Finance] 2016-17  \n",
       "0                                                  –                  \n",
       "1                                            2588000                  \n",
       "2                                           35390000                  \n",
       "3                                            3089000                  \n",
       "4                                            1776000                  "
      ]
     },
     "execution_count": 2,
     "metadata": {},
     "output_type": "execute_result"
    }
   ],
   "source": [
    "info_df = pd.read_csv(r'LA_districts_2017.csv') #import financial/teacher/pupil info per district of LA\n",
    "info_df.head()"
   ]
  },
  {
   "cell_type": "markdown",
   "metadata": {},
   "source": [
    "This data table not only includes parish (equivalent to districts) information, but information about each school. Because we only wish to study parish data, we will drop the rest of the columns."
   ]
  },
  {
   "cell_type": "code",
   "execution_count": 3,
   "metadata": {},
   "outputs": [],
   "source": [
    "def check_parish(entry):\n",
    "    if re.search(r'PARISH',entry) == None:\n",
    "        return \"not a parish\"\n",
    "    return entry"
   ]
  },
  {
   "cell_type": "code",
   "execution_count": 4,
   "metadata": {},
   "outputs": [
    {
     "name": "stdout",
     "output_type": "stream",
     "text": [
      "64\n"
     ]
    }
   ],
   "source": [
    "info_df['Agency Name'] = info_df['Agency Name'].apply(check_parish) #mark all entries that are no parishes\n",
    "info_df = info_df[info_df[\"Agency Name\"] != \"not a parish\"]\n",
    "print(len(info_df)) #we know we have succedded because there are 64 entries and 64 parishes in LA"
   ]
  },
  {
   "cell_type": "markdown",
   "metadata": {},
   "source": [
    "We are only studying Louisiana schools, so will will drop the columns that give us redundant data (namely 'State Name [District] Latest available year' and 'State Name [District] 2016-17'). We will also drop 'Agency Name [District]' column because we already are representing that info and 'Agency Type [District] 2016-17' because we know we are only dealing with districts."
   ]
  },
  {
   "cell_type": "code",
   "execution_count": 5,
   "metadata": {},
   "outputs": [],
   "source": [
    "info_df.drop(columns = [\"State Name [District] Latest available year\", \"State Name [District] 2016-17\", \"Agency Name [District] 2016-17\",\"Agency Type [District] 2016-17\"], inplace = True)\n",
    "info_df = info_df.reset_index(drop=True) #reset the numberical index to be 0-63 to accomidate for dropped rows\n"
   ]
  },
  {
   "cell_type": "markdown",
   "metadata": {},
   "source": [
    "Now we will rename certain columns to remove excess wording."
   ]
  },
  {
   "cell_type": "code",
   "execution_count": 6,
   "metadata": {},
   "outputs": [],
   "source": [
    "info_df = info_df.rename(columns = { \"Agency Name\": \"Parish\",\n",
    "                                     \"Total Students All Grades (Includes AE) [District] 2016-17\":\"Total Students\",\n",
    "                                     'Male Students [District] 2016-17': \"Male Students\",\n",
    "                                     'Female Students [District] 2016-17':\"Female Students\", \n",
    "                                     'American Indian/Alaska Native - male [District] 2016-17': 'American Indian/Alaska Native - Male',\n",
    "                                     \"American Indian/Alaska Native - female [District] 2016-17\": \"American Indian/Alaska Native - Female\",\n",
    "                                     'Asian or Asian/Pacific Islander - male [District] 2016-17':\"Asian or Asian/Pacific Islander - Male\",\n",
    "                                     'Asian or Asian/Pacific Islander - female [District] 2016-17': \"Asian or Asian/Pacific Islander - Female\",\n",
    "                                     \"Total General Revenue (TOTALREV) [District Finance] 2016-17\": \"Total Revenue\",\n",
    "                                     \"Total Revenue - Federal Sources (TFEDREV) [District Finance] 2016-17\": \"Federal Revenue\", \n",
    "                                     \"Total Revenue - State Sources (TSTREV) [District Finance] 2016-17\": \"State Revenue\", \n",
    "                                     \"Total Revenue - Local Sources (TLOCREV) [District Finance] 2016-17\": \"Local Revenue\",\n",
    "                                     \"Total Revenue (TOTALREV) per Pupil (V33) [District Finance] 2016-17\": \"Revenue per Pupil\", \n",
    "                                     \"Instruction Expenditures - Total (E13) [District Finance] 2016-17\": \"Instruction Expendeture\", \n",
    "                                     \"Salary - Instruction Expenditures (Z33) [District Finance] 2016-17\": \"Salary Expendeture\", \n",
    "                                     'Hispanic - male [District] 2016-17': \"Hispanic - Male\",\n",
    "                                    'Hispanic - female [District] 2016-17':\"Hispanic - Female\",\n",
    "                                    'Black or African American - male [District] 2016-17':\"Black or African American - Male\",\n",
    "                                    'Black or African American - female [District] 2016-17':\"Black or African American - Female\",\n",
    "                                    'White - male [District] 2016-17':\"White - Male\",\n",
    "                                    'White - female [District] 2016-17':\"White - Female\",\n",
    "                                    'Nat. Hawaiian or Other Pacific Isl. - male [District] 2016-17':\"Nat. Hawaiian or Other Pacific Isl. - Male\",\n",
    "                                    'Nat. Hawaiian or Other Pacific Isl. - female [District] 2016-17':\"Nat. Hawaiian or Other Pacific Isl. - Female\",\n",
    "                                    'Two or More Races - male [District] 2016-17':\"Two or More Races - Male\",\n",
    "                                    'Two or More Races - female [District] 2016-17':\"Two or More Races - Female\",\n",
    "                                    'Full-Time Equivalent (FTE) Teachers [District] 2016-17':\"Full-Time Teachers\",\n",
    "                                    'Pupil/Teacher Ratio [District] 2016-17':\"Pupil/Teacher Ratio\",\n",
    "                                    'Kindergarten Teachers [District] 2016-17':\"Kindergarten Teachers\",\n",
    "                                    'Elementary Teachers [District] 2016-17':\"Elementary Teachers\",\n",
    "                                    'Secondary Teachers [District] 2016-17':\"Secondary Teachers\",\n",
    "                                    'Total Staff [District] 2016-17':\"Total Staff\"\n",
    "                                     })"
   ]
  },
  {
   "cell_type": "markdown",
   "metadata": {},
   "source": [
    "Now, we will remove the \"PARISH\" values from each row entry under the Parish column and also return the entries as lower case."
   ]
  },
  {
   "cell_type": "code",
   "execution_count": 7,
   "metadata": {},
   "outputs": [],
   "source": [
    "def remove_Parish(entry):\n",
    "    return re.sub(r\" PARISH\", r\"\", entry)\n",
    "\n",
    "def get_lower(entry):\n",
    "    return entry.lower()"
   ]
  },
  {
   "cell_type": "code",
   "execution_count": 8,
   "metadata": {},
   "outputs": [],
   "source": [
    "info_df['Parish'] = info_df['Parish'].apply(remove_Parish)\n",
    "info_df['Parish'] = info_df['Parish'].apply(get_lower)"
   ]
  },
  {
   "cell_type": "markdown",
   "metadata": {},
   "source": [
    "Let's now remove all missing data and replace it with NaN."
   ]
  },
  {
   "cell_type": "code",
   "execution_count": 9,
   "metadata": {},
   "outputs": [],
   "source": [
    "def replace_empty_with_NAN(entry):\n",
    "    entry = str(entry)\n",
    "    if re.search(\"–\", entry) != None:\n",
    "        return np.nan\n",
    "    elif re.search('=\"0\"',entry) != None:\n",
    "        return np.nan\n",
    "    elif re.search('=\"0.00\"', entry) != None:\n",
    "        return np.nan\n",
    "    return entry\n"
   ]
  },
  {
   "cell_type": "code",
   "execution_count": 10,
   "metadata": {},
   "outputs": [],
   "source": [
    "for col in info_df.columns:\n",
    "    info_df[col] = info_df[col].apply(replace_empty_with_NAN)"
   ]
  },
  {
   "cell_type": "markdown",
   "metadata": {},
   "source": [
    "Checking the dtypes, we find that the columns are not properly formatted so we make the appropriate changes. "
   ]
  },
  {
   "cell_type": "code",
   "execution_count": 11,
   "metadata": {},
   "outputs": [
    {
     "data": {
      "text/plain": [
       "Parish                                  object\n",
       "Total Students                          object\n",
       "Male Students                           object\n",
       "Female Students                         object\n",
       "American Indian/Alaska Native - Male    object\n",
       "dtype: object"
      ]
     },
     "execution_count": 11,
     "metadata": {},
     "output_type": "execute_result"
    }
   ],
   "source": [
    "info_df.dtypes.head()"
   ]
  },
  {
   "cell_type": "code",
   "execution_count": 12,
   "metadata": {},
   "outputs": [],
   "source": [
    "lst_of_col = [\"Total Students\", \"Male Students\",\"Female Students\", \"American Indian/Alaska Native - Male\", \"American Indian/Alaska Native - Female\",\"Asian or Asian/Pacific Islander - Male\", \"Asian or Asian/Pacific Islander - Female\",\"Hispanic - Male\", \"Hispanic - Female\",\n",
    "\"Black or African American - Male\",\n",
    "\"Black or African American - Female\",\n",
    "\"White - Male\",\n",
    "\"White - Female\",\n",
    "\"Nat. Hawaiian or Other Pacific Isl. - Male\",\n",
    "\"Nat. Hawaiian or Other Pacific Isl. - Female\",\n",
    "\"Two or More Races - Male\",\n",
    "\"Two or More Races - Female\", \n",
    "\"Total Staff\",\n",
    "\"Total Revenue\",\n",
    "\"Federal Revenue\",\n",
    "\"State Revenue\",\n",
    "\"Local Revenue\",\n",
    "\"Revenue per Pupil\",\n",
    "\"Instruction Expendeture\",\n",
    "\"Salary Expendeture\",\n",
    "\"Full-Time Teachers\",\n",
    "\"Pupil/Teacher Ratio\",\n",
    "\"Kindergarten Teachers\",\n",
    "\"Elementary Teachers\",\n",
    "\"Secondary Teachers\"]\n",
    "\n",
    "for col in lst_of_col:\n",
    "    info_df[col] = info_df[col].astype('float')"
   ]
  },
  {
   "cell_type": "code",
   "execution_count": 13,
   "metadata": {},
   "outputs": [
    {
     "data": {
      "text/plain": [
       "Parish                                   object\n",
       "Total Students                          float64\n",
       "Male Students                           float64\n",
       "Female Students                         float64\n",
       "American Indian/Alaska Native - Male    float64\n",
       "dtype: object"
      ]
     },
     "execution_count": 13,
     "metadata": {},
     "output_type": "execute_result"
    }
   ],
   "source": [
    "info_df.dtypes.head() #much better"
   ]
  },
  {
   "cell_type": "code",
   "execution_count": 14,
   "metadata": {},
   "outputs": [
    {
     "data": {
      "text/html": [
       "<div>\n",
       "<style scoped>\n",
       "    .dataframe tbody tr th:only-of-type {\n",
       "        vertical-align: middle;\n",
       "    }\n",
       "\n",
       "    .dataframe tbody tr th {\n",
       "        vertical-align: top;\n",
       "    }\n",
       "\n",
       "    .dataframe thead th {\n",
       "        text-align: right;\n",
       "    }\n",
       "</style>\n",
       "<table border=\"1\" class=\"dataframe\">\n",
       "  <thead>\n",
       "    <tr style=\"text-align: right;\">\n",
       "      <th></th>\n",
       "      <th>Parish</th>\n",
       "      <th>Total Students</th>\n",
       "      <th>Male Students</th>\n",
       "      <th>Female Students</th>\n",
       "      <th>American Indian/Alaska Native - Male</th>\n",
       "      <th>American Indian/Alaska Native - Female</th>\n",
       "      <th>Asian or Asian/Pacific Islander - Male</th>\n",
       "      <th>Asian or Asian/Pacific Islander - Female</th>\n",
       "      <th>Hispanic - Male</th>\n",
       "      <th>Hispanic - Female</th>\n",
       "      <th>Black or African American - Male</th>\n",
       "      <th>Black or African American - Female</th>\n",
       "      <th>White - Male</th>\n",
       "      <th>White - Female</th>\n",
       "      <th>Nat. Hawaiian or Other Pacific Isl. - Male</th>\n",
       "      <th>Nat. Hawaiian or Other Pacific Isl. - Female</th>\n",
       "      <th>Two or More Races - Male</th>\n",
       "      <th>Two or More Races - Female</th>\n",
       "      <th>Full-Time Teachers</th>\n",
       "      <th>Pupil/Teacher Ratio</th>\n",
       "      <th>Kindergarten Teachers</th>\n",
       "      <th>Elementary Teachers</th>\n",
       "      <th>Secondary Teachers</th>\n",
       "      <th>Total Staff</th>\n",
       "      <th>Total Revenue</th>\n",
       "      <th>Federal Revenue</th>\n",
       "      <th>State Revenue</th>\n",
       "      <th>Local Revenue</th>\n",
       "      <th>Revenue per Pupil</th>\n",
       "      <th>Instruction Expendeture</th>\n",
       "      <th>Salary Expendeture</th>\n",
       "    </tr>\n",
       "  </thead>\n",
       "  <tbody>\n",
       "    <tr>\n",
       "      <th>0</th>\n",
       "      <td>acadia</td>\n",
       "      <td>9839.0</td>\n",
       "      <td>5050.0</td>\n",
       "      <td>4787.0</td>\n",
       "      <td>9.0</td>\n",
       "      <td>9.0</td>\n",
       "      <td>9.0</td>\n",
       "      <td>5.0</td>\n",
       "      <td>149.0</td>\n",
       "      <td>115.0</td>\n",
       "      <td>1339.0</td>\n",
       "      <td>1212.0</td>\n",
       "      <td>3347.0</td>\n",
       "      <td>3233.0</td>\n",
       "      <td>NaN</td>\n",
       "      <td>NaN</td>\n",
       "      <td>198.0</td>\n",
       "      <td>214.0</td>\n",
       "      <td>548.94</td>\n",
       "      <td>17.92</td>\n",
       "      <td>39.00</td>\n",
       "      <td>322.36</td>\n",
       "      <td>163.58</td>\n",
       "      <td>1119.35</td>\n",
       "      <td>95051000.0</td>\n",
       "      <td>15149000.0</td>\n",
       "      <td>53342000.0</td>\n",
       "      <td>26560000.0</td>\n",
       "      <td>9661.0</td>\n",
       "      <td>54183000.0</td>\n",
       "      <td>35390000.0</td>\n",
       "    </tr>\n",
       "    <tr>\n",
       "      <th>1</th>\n",
       "      <td>allen</td>\n",
       "      <td>4279.0</td>\n",
       "      <td>2167.0</td>\n",
       "      <td>2112.0</td>\n",
       "      <td>29.0</td>\n",
       "      <td>19.0</td>\n",
       "      <td>22.0</td>\n",
       "      <td>18.0</td>\n",
       "      <td>33.0</td>\n",
       "      <td>30.0</td>\n",
       "      <td>438.0</td>\n",
       "      <td>436.0</td>\n",
       "      <td>1581.0</td>\n",
       "      <td>1545.0</td>\n",
       "      <td>2.0</td>\n",
       "      <td>1.0</td>\n",
       "      <td>62.0</td>\n",
       "      <td>63.0</td>\n",
       "      <td>321.63</td>\n",
       "      <td>13.30</td>\n",
       "      <td>22.50</td>\n",
       "      <td>187.11</td>\n",
       "      <td>93.52</td>\n",
       "      <td>623.56</td>\n",
       "      <td>48581000.0</td>\n",
       "      <td>4348000.0</td>\n",
       "      <td>29928000.0</td>\n",
       "      <td>14305000.0</td>\n",
       "      <td>11353.0</td>\n",
       "      <td>26659000.0</td>\n",
       "      <td>17209000.0</td>\n",
       "    </tr>\n",
       "    <tr>\n",
       "      <th>2</th>\n",
       "      <td>ascension</td>\n",
       "      <td>21942.0</td>\n",
       "      <td>11398.0</td>\n",
       "      <td>10544.0</td>\n",
       "      <td>32.0</td>\n",
       "      <td>32.0</td>\n",
       "      <td>157.0</td>\n",
       "      <td>114.0</td>\n",
       "      <td>857.0</td>\n",
       "      <td>775.0</td>\n",
       "      <td>3474.0</td>\n",
       "      <td>3232.0</td>\n",
       "      <td>6649.0</td>\n",
       "      <td>6136.0</td>\n",
       "      <td>15.0</td>\n",
       "      <td>17.0</td>\n",
       "      <td>214.0</td>\n",
       "      <td>238.0</td>\n",
       "      <td>1339.28</td>\n",
       "      <td>16.38</td>\n",
       "      <td>44.99</td>\n",
       "      <td>852.30</td>\n",
       "      <td>414.69</td>\n",
       "      <td>2603.89</td>\n",
       "      <td>308842000.0</td>\n",
       "      <td>47048000.0</td>\n",
       "      <td>98359000.0</td>\n",
       "      <td>163435000.0</td>\n",
       "      <td>14075.0</td>\n",
       "      <td>158570000.0</td>\n",
       "      <td>84263000.0</td>\n",
       "    </tr>\n",
       "    <tr>\n",
       "      <th>3</th>\n",
       "      <td>assumption</td>\n",
       "      <td>3589.0</td>\n",
       "      <td>1845.0</td>\n",
       "      <td>1742.0</td>\n",
       "      <td>4.0</td>\n",
       "      <td>5.0</td>\n",
       "      <td>8.0</td>\n",
       "      <td>8.0</td>\n",
       "      <td>85.0</td>\n",
       "      <td>81.0</td>\n",
       "      <td>796.0</td>\n",
       "      <td>724.0</td>\n",
       "      <td>931.0</td>\n",
       "      <td>903.0</td>\n",
       "      <td>NaN</td>\n",
       "      <td>NaN</td>\n",
       "      <td>22.0</td>\n",
       "      <td>22.0</td>\n",
       "      <td>214.98</td>\n",
       "      <td>16.69</td>\n",
       "      <td>11.05</td>\n",
       "      <td>118.38</td>\n",
       "      <td>65.01</td>\n",
       "      <td>506.84</td>\n",
       "      <td>42026000.0</td>\n",
       "      <td>5487000.0</td>\n",
       "      <td>22872000.0</td>\n",
       "      <td>13667000.0</td>\n",
       "      <td>11710.0</td>\n",
       "      <td>21872000.0</td>\n",
       "      <td>13509000.0</td>\n",
       "    </tr>\n",
       "    <tr>\n",
       "      <th>4</th>\n",
       "      <td>avoyelles</td>\n",
       "      <td>5534.0</td>\n",
       "      <td>2892.0</td>\n",
       "      <td>2641.0</td>\n",
       "      <td>33.0</td>\n",
       "      <td>23.0</td>\n",
       "      <td>18.0</td>\n",
       "      <td>13.0</td>\n",
       "      <td>22.0</td>\n",
       "      <td>31.0</td>\n",
       "      <td>1387.0</td>\n",
       "      <td>1251.0</td>\n",
       "      <td>1340.0</td>\n",
       "      <td>1243.0</td>\n",
       "      <td>1.0</td>\n",
       "      <td>NaN</td>\n",
       "      <td>91.0</td>\n",
       "      <td>81.0</td>\n",
       "      <td>271.80</td>\n",
       "      <td>20.36</td>\n",
       "      <td>20.91</td>\n",
       "      <td>120.59</td>\n",
       "      <td>117.30</td>\n",
       "      <td>614.02</td>\n",
       "      <td>54910000.0</td>\n",
       "      <td>8976000.0</td>\n",
       "      <td>33037000.0</td>\n",
       "      <td>12897000.0</td>\n",
       "      <td>9922.0</td>\n",
       "      <td>29270000.0</td>\n",
       "      <td>15720000.0</td>\n",
       "    </tr>\n",
       "  </tbody>\n",
       "</table>\n",
       "</div>"
      ],
      "text/plain": [
       "       Parish  Total Students  Male Students  Female Students  \\\n",
       "0      acadia          9839.0         5050.0           4787.0   \n",
       "1       allen          4279.0         2167.0           2112.0   \n",
       "2   ascension         21942.0        11398.0          10544.0   \n",
       "3  assumption          3589.0         1845.0           1742.0   \n",
       "4   avoyelles          5534.0         2892.0           2641.0   \n",
       "\n",
       "   American Indian/Alaska Native - Male  \\\n",
       "0                                   9.0   \n",
       "1                                  29.0   \n",
       "2                                  32.0   \n",
       "3                                   4.0   \n",
       "4                                  33.0   \n",
       "\n",
       "   American Indian/Alaska Native - Female  \\\n",
       "0                                     9.0   \n",
       "1                                    19.0   \n",
       "2                                    32.0   \n",
       "3                                     5.0   \n",
       "4                                    23.0   \n",
       "\n",
       "   Asian or Asian/Pacific Islander - Male  \\\n",
       "0                                     9.0   \n",
       "1                                    22.0   \n",
       "2                                   157.0   \n",
       "3                                     8.0   \n",
       "4                                    18.0   \n",
       "\n",
       "   Asian or Asian/Pacific Islander - Female  Hispanic - Male  \\\n",
       "0                                       5.0            149.0   \n",
       "1                                      18.0             33.0   \n",
       "2                                     114.0            857.0   \n",
       "3                                       8.0             85.0   \n",
       "4                                      13.0             22.0   \n",
       "\n",
       "   Hispanic - Female  Black or African American - Male  \\\n",
       "0              115.0                            1339.0   \n",
       "1               30.0                             438.0   \n",
       "2              775.0                            3474.0   \n",
       "3               81.0                             796.0   \n",
       "4               31.0                            1387.0   \n",
       "\n",
       "   Black or African American - Female  White - Male  White - Female  \\\n",
       "0                              1212.0        3347.0          3233.0   \n",
       "1                               436.0        1581.0          1545.0   \n",
       "2                              3232.0        6649.0          6136.0   \n",
       "3                               724.0         931.0           903.0   \n",
       "4                              1251.0        1340.0          1243.0   \n",
       "\n",
       "   Nat. Hawaiian or Other Pacific Isl. - Male  \\\n",
       "0                                         NaN   \n",
       "1                                         2.0   \n",
       "2                                        15.0   \n",
       "3                                         NaN   \n",
       "4                                         1.0   \n",
       "\n",
       "   Nat. Hawaiian or Other Pacific Isl. - Female  Two or More Races - Male  \\\n",
       "0                                           NaN                     198.0   \n",
       "1                                           1.0                      62.0   \n",
       "2                                          17.0                     214.0   \n",
       "3                                           NaN                      22.0   \n",
       "4                                           NaN                      91.0   \n",
       "\n",
       "   Two or More Races - Female  Full-Time Teachers  Pupil/Teacher Ratio  \\\n",
       "0                       214.0              548.94                17.92   \n",
       "1                        63.0              321.63                13.30   \n",
       "2                       238.0             1339.28                16.38   \n",
       "3                        22.0              214.98                16.69   \n",
       "4                        81.0              271.80                20.36   \n",
       "\n",
       "   Kindergarten Teachers  Elementary Teachers  Secondary Teachers  \\\n",
       "0                  39.00               322.36              163.58   \n",
       "1                  22.50               187.11               93.52   \n",
       "2                  44.99               852.30              414.69   \n",
       "3                  11.05               118.38               65.01   \n",
       "4                  20.91               120.59              117.30   \n",
       "\n",
       "   Total Staff  Total Revenue  Federal Revenue  State Revenue  Local Revenue  \\\n",
       "0      1119.35     95051000.0       15149000.0     53342000.0     26560000.0   \n",
       "1       623.56     48581000.0        4348000.0     29928000.0     14305000.0   \n",
       "2      2603.89    308842000.0       47048000.0     98359000.0    163435000.0   \n",
       "3       506.84     42026000.0        5487000.0     22872000.0     13667000.0   \n",
       "4       614.02     54910000.0        8976000.0     33037000.0     12897000.0   \n",
       "\n",
       "   Revenue per Pupil  Instruction Expendeture  Salary Expendeture  \n",
       "0             9661.0               54183000.0          35390000.0  \n",
       "1            11353.0               26659000.0          17209000.0  \n",
       "2            14075.0              158570000.0          84263000.0  \n",
       "3            11710.0               21872000.0          13509000.0  \n",
       "4             9922.0               29270000.0          15720000.0  "
      ]
     },
     "execution_count": 14,
     "metadata": {},
     "output_type": "execute_result"
    }
   ],
   "source": [
    "info_df.head() #a look at the final dataframe after data has been tidied"
   ]
  },
  {
   "cell_type": "markdown",
   "metadata": {},
   "source": [
    "___"
   ]
  },
  {
   "cell_type": "markdown",
   "metadata": {},
   "source": [
    "## Louisiana Table 2:\n",
    "The second dataset comes from the [Louisiana Department of Education](https://www.louisianabelieves.com/resources/library/performance-scores) and includes data relating to measurements of student performance, including a “Letter Grade,” Assessment Index/Index ACT, strength of diploma, cohort graduation rate index, and progress points. The folloiwng data can be downloaded by clicking on the \"2017 District Performance Scores\" link under \"District Performance Scores.\"\n",
    "\n",
    "Each school district is, again, separated as their own observation, which marks school districts as the unit of observation across both this and the former dataset. Again, this dataset comes from a reputable source, being the Louisiana Department of Education; the data also recognizes that some of its measurements may not be too complete or are unreliable and marks values as such; however, nearly every cell is filled in, so little cleaning will need to be done otherwise. This dataset may provide insight into the following questions:\n",
    "* What school districts perform best in Louisiana?\n",
    "* What performance-related measurements correlate with each other?\n",
    "* What are poorly performing districts struggling with?\n",
    "* What might poorly performing districts attempt to focus on to improve?\n"
   ]
  },
  {
   "cell_type": "code",
   "execution_count": 15,
   "metadata": {},
   "outputs": [
    {
     "data": {
      "text/html": [
       "<div>\n",
       "<style scoped>\n",
       "    .dataframe tbody tr th:only-of-type {\n",
       "        vertical-align: middle;\n",
       "    }\n",
       "\n",
       "    .dataframe tbody tr th {\n",
       "        vertical-align: top;\n",
       "    }\n",
       "\n",
       "    .dataframe thead th {\n",
       "        text-align: right;\n",
       "    }\n",
       "</style>\n",
       "<table border=\"1\" class=\"dataframe\">\n",
       "  <thead>\n",
       "    <tr style=\"text-align: right;\">\n",
       "      <th></th>\n",
       "      <th>District</th>\n",
       "      <th>2017 Letter Grade</th>\n",
       "      <th>2017 Annual DPS</th>\n",
       "      <th>2016 Letter Grade</th>\n",
       "      <th>2016 Annual DPS</th>\n",
       "      <th>2017 Assessment Index\\nGrades 3-8*</th>\n",
       "      <th>2017 Dropout Credit Accumulation Index*</th>\n",
       "      <th>2017 Assessment Index\\nEnd-of-Course Exams*</th>\n",
       "      <th>2017 Assessment Index\\nACT*</th>\n",
       "      <th>Strength of Diploma (Graduation Index) (2015-16 Cohort)*</th>\n",
       "      <th>Cohort Graduation Rate Index \\n(Points Earned for Cohort Graduation Rate)      \\n(2015-16 Cohort)*</th>\n",
       "      <th>Cohort Graduation Rate (Actual Graduation Rate) (2015-16 Cohort)**</th>\n",
       "      <th>2017 Progress Points</th>\n",
       "      <th>2016 Assessment Index\\nGrades 3-8*</th>\n",
       "      <th>2016 Dropout Credit Accumulation Index*</th>\n",
       "      <th>2016 Assessment Index\\nEnd-of-Course Exams*</th>\n",
       "      <th>2016 Assessment Index\\nACT*</th>\n",
       "      <th>Strength of Diploma (Graduation Index) (2014-15 Cohort)*</th>\n",
       "      <th>Cohort Graduation Rate Index \\n(Points Earned for Cohort Graduation Rate)  \\n (2014-15 Cohort)*</th>\n",
       "      <th>Cohort Graduation Rate (Actual Graduation Rate) (2014-15 Cohort)**</th>\n",
       "      <th>2016 Progress Points</th>\n",
       "      <th>Unnamed: 21</th>\n",
       "    </tr>\n",
       "  </thead>\n",
       "  <tbody>\n",
       "    <tr>\n",
       "      <th>0</th>\n",
       "      <td>Acadia Parish</td>\n",
       "      <td>B</td>\n",
       "      <td>90.0</td>\n",
       "      <td>B</td>\n",
       "      <td>97.3</td>\n",
       "      <td>78.8</td>\n",
       "      <td>137.4</td>\n",
       "      <td>70.5</td>\n",
       "      <td>90.6</td>\n",
       "      <td>93.4</td>\n",
       "      <td>122.6</td>\n",
       "      <td>86.3</td>\n",
       "      <td>3.3</td>\n",
       "      <td>81.6</td>\n",
       "      <td>139.8</td>\n",
       "      <td>69.6</td>\n",
       "      <td>87.2</td>\n",
       "      <td>89.8</td>\n",
       "      <td>120.2</td>\n",
       "      <td>85.1</td>\n",
       "      <td>10.0</td>\n",
       "      <td>NaN</td>\n",
       "    </tr>\n",
       "    <tr>\n",
       "      <th>1</th>\n",
       "      <td>Allen Parish</td>\n",
       "      <td>A</td>\n",
       "      <td>103.4</td>\n",
       "      <td>A</td>\n",
       "      <td>104.2</td>\n",
       "      <td>85.9</td>\n",
       "      <td>143.6</td>\n",
       "      <td>77.4</td>\n",
       "      <td>98.2</td>\n",
       "      <td>96.3</td>\n",
       "      <td>127.6</td>\n",
       "      <td>88.8</td>\n",
       "      <td>10.0</td>\n",
       "      <td>88.6</td>\n",
       "      <td>139.8</td>\n",
       "      <td>68.9</td>\n",
       "      <td>93.4</td>\n",
       "      <td>98.9</td>\n",
       "      <td>132.2</td>\n",
       "      <td>91.1</td>\n",
       "      <td>10.0</td>\n",
       "      <td>NaN</td>\n",
       "    </tr>\n",
       "    <tr>\n",
       "      <th>2</th>\n",
       "      <td>Ascension Parish</td>\n",
       "      <td>A</td>\n",
       "      <td>110.4</td>\n",
       "      <td>A</td>\n",
       "      <td>109.3</td>\n",
       "      <td>92.6</td>\n",
       "      <td>141.8</td>\n",
       "      <td>97.9</td>\n",
       "      <td>99.0</td>\n",
       "      <td>105.9</td>\n",
       "      <td>125.8</td>\n",
       "      <td>87.9</td>\n",
       "      <td>10.0</td>\n",
       "      <td>92.6</td>\n",
       "      <td>140.9</td>\n",
       "      <td>97.1</td>\n",
       "      <td>95.0</td>\n",
       "      <td>101.5</td>\n",
       "      <td>125.4</td>\n",
       "      <td>87.7</td>\n",
       "      <td>10.0</td>\n",
       "      <td>NaN</td>\n",
       "    </tr>\n",
       "    <tr>\n",
       "      <th>3</th>\n",
       "      <td>Assumption Parish</td>\n",
       "      <td>B</td>\n",
       "      <td>95.0</td>\n",
       "      <td>B</td>\n",
       "      <td>93.3</td>\n",
       "      <td>75.5</td>\n",
       "      <td>143.6</td>\n",
       "      <td>67.9</td>\n",
       "      <td>91.4</td>\n",
       "      <td>90.7</td>\n",
       "      <td>119.6</td>\n",
       "      <td>84.8</td>\n",
       "      <td>10.0</td>\n",
       "      <td>78.0</td>\n",
       "      <td>139.7</td>\n",
       "      <td>68.9</td>\n",
       "      <td>75.9</td>\n",
       "      <td>88.1</td>\n",
       "      <td>111</td>\n",
       "      <td>80.5</td>\n",
       "      <td>10.0</td>\n",
       "      <td>NaN</td>\n",
       "    </tr>\n",
       "    <tr>\n",
       "      <th>4</th>\n",
       "      <td>Avoyelles Parish</td>\n",
       "      <td>C</td>\n",
       "      <td>71.5</td>\n",
       "      <td>C</td>\n",
       "      <td>73.6</td>\n",
       "      <td>53.7</td>\n",
       "      <td>128.6</td>\n",
       "      <td>54.7</td>\n",
       "      <td>95.1</td>\n",
       "      <td>86.6</td>\n",
       "      <td>103.4</td>\n",
       "      <td>76.7</td>\n",
       "      <td>3.1</td>\n",
       "      <td>57.3</td>\n",
       "      <td>123</td>\n",
       "      <td>48.3</td>\n",
       "      <td>91.4</td>\n",
       "      <td>75.1</td>\n",
       "      <td>93.2</td>\n",
       "      <td>71.6</td>\n",
       "      <td>6.2</td>\n",
       "      <td>NaN</td>\n",
       "    </tr>\n",
       "  </tbody>\n",
       "</table>\n",
       "</div>"
      ],
      "text/plain": [
       "            District 2017 Letter Grade   2017 Annual DPS  2016 Letter Grade   \\\n",
       "0      Acadia Parish                  B              90.0                  B   \n",
       "1       Allen Parish                  A             103.4                  A   \n",
       "2   Ascension Parish                  A             110.4                  A   \n",
       "3  Assumption Parish                  B              95.0                  B   \n",
       "4   Avoyelles Parish                  C              71.5                  C   \n",
       "\n",
       "   2016 Annual DPS   2017 Assessment Index\\nGrades 3-8*  \\\n",
       "0              97.3                                78.8   \n",
       "1             104.2                                85.9   \n",
       "2             109.3                                92.6   \n",
       "3              93.3                                75.5   \n",
       "4              73.6                                53.7   \n",
       "\n",
       "  2017 Dropout Credit Accumulation Index*  \\\n",
       "0                                   137.4   \n",
       "1                                   143.6   \n",
       "2                                   141.8   \n",
       "3                                   143.6   \n",
       "4                                   128.6   \n",
       "\n",
       "   2017 Assessment Index\\nEnd-of-Course Exams*  2017 Assessment Index\\nACT*  \\\n",
       "0                                         70.5                         90.6   \n",
       "1                                         77.4                         98.2   \n",
       "2                                         97.9                         99.0   \n",
       "3                                         67.9                         91.4   \n",
       "4                                         54.7                         95.1   \n",
       "\n",
       "   Strength of Diploma (Graduation Index) (2015-16 Cohort)*  \\\n",
       "0                                               93.4          \n",
       "1                                               96.3          \n",
       "2                                              105.9          \n",
       "3                                               90.7          \n",
       "4                                               86.6          \n",
       "\n",
       "    Cohort Graduation Rate Index \\n(Points Earned for Cohort Graduation Rate)      \\n(2015-16 Cohort)*  \\\n",
       "0                                              122.6                                                     \n",
       "1                                              127.6                                                     \n",
       "2                                              125.8                                                     \n",
       "3                                              119.6                                                     \n",
       "4                                              103.4                                                     \n",
       "\n",
       "   Cohort Graduation Rate (Actual Graduation Rate) (2015-16 Cohort)**  \\\n",
       "0                                               86.3                    \n",
       "1                                               88.8                    \n",
       "2                                               87.9                    \n",
       "3                                               84.8                    \n",
       "4                                               76.7                    \n",
       "\n",
       "   2017 Progress Points  2016 Assessment Index\\nGrades 3-8*  \\\n",
       "0                   3.3                                81.6   \n",
       "1                  10.0                                88.6   \n",
       "2                  10.0                                92.6   \n",
       "3                  10.0                                78.0   \n",
       "4                   3.1                                57.3   \n",
       "\n",
       "  2016 Dropout Credit Accumulation Index*  \\\n",
       "0                                   139.8   \n",
       "1                                   139.8   \n",
       "2                                   140.9   \n",
       "3                                   139.7   \n",
       "4                                     123   \n",
       "\n",
       "   2016 Assessment Index\\nEnd-of-Course Exams*  2016 Assessment Index\\nACT*  \\\n",
       "0                                         69.6                         87.2   \n",
       "1                                         68.9                         93.4   \n",
       "2                                         97.1                         95.0   \n",
       "3                                         68.9                         75.9   \n",
       "4                                         48.3                         91.4   \n",
       "\n",
       "   Strength of Diploma (Graduation Index) (2014-15 Cohort)*  \\\n",
       "0                                               89.8          \n",
       "1                                               98.9          \n",
       "2                                              101.5          \n",
       "3                                               88.1          \n",
       "4                                               75.1          \n",
       "\n",
       "   Cohort Graduation Rate Index \\n(Points Earned for Cohort Graduation Rate)  \\n (2014-15 Cohort)*  \\\n",
       "0                                              120.2                                                 \n",
       "1                                              132.2                                                 \n",
       "2                                              125.4                                                 \n",
       "3                                                111                                                 \n",
       "4                                               93.2                                                 \n",
       "\n",
       "   Cohort Graduation Rate (Actual Graduation Rate) (2014-15 Cohort)**  \\\n",
       "0                                               85.1                    \n",
       "1                                               91.1                    \n",
       "2                                               87.7                    \n",
       "3                                               80.5                    \n",
       "4                                               71.6                    \n",
       "\n",
       "   2016 Progress Points  Unnamed: 21  \n",
       "0                  10.0          NaN  \n",
       "1                  10.0          NaN  \n",
       "2                  10.0          NaN  \n",
       "3                  10.0          NaN  \n",
       "4                   6.2          NaN  "
      ]
     },
     "execution_count": 15,
     "metadata": {},
     "output_type": "execute_result"
    }
   ],
   "source": [
    "grades_df = pd.read_csv(r'performance_summary.csv') #import grading of each district of LA\n",
    "grades_df.head() #Livingston parish not reported due to flooding in '16-'17"
   ]
  },
  {
   "cell_type": "markdown",
   "metadata": {},
   "source": [
    "Rename 'District' column to 'Parish', and lower case all parish names as well as removing \"Parish\" from values."
   ]
  },
  {
   "cell_type": "code",
   "execution_count": 16,
   "metadata": {},
   "outputs": [],
   "source": [
    "def remove_parish(entry):\n",
    "    return re.sub(r\" parish\", r\"\", entry)\n",
    "\n",
    "grades_df = grades_df.rename(columns = {\"District\": \"Parish\"})\n",
    "grades_df[\"Parish\"] = grades_df[\"Parish\"].apply(get_lower)\n",
    "grades_df[\"Parish\"] = grades_df[\"Parish\"].apply(remove_parish) #important to run this command after the get_lower() command because get_parish is only looking for lower case "
   ]
  },
  {
   "cell_type": "markdown",
   "metadata": {},
   "source": [
    "We have too much information right now, let's drop some unnecessary columns to de-cluter the dataframe."
   ]
  },
  {
   "cell_type": "code",
   "execution_count": 17,
   "metadata": {},
   "outputs": [],
   "source": [
    "# Drop observstions in both tables that don't align and unnecessary columns\n",
    "grades_df = grades_df.loc[:62]\n",
    "grades_df = grades_df.drop([\"Unnamed: 21\"], axis=1)\n",
    "grades_df = grades_df.drop(columns = ['2017 Annual DPS ',\n",
    "       '2016 Letter Grade ', '2016 Annual DPS ',\n",
    "       '2017 Assessment Index\\nGrades 3-8*',\n",
    "       '2017 Dropout Credit Accumulation Index*',\n",
    "       '2017 Assessment Index\\nEnd-of-Course Exams*','Strength of Diploma (Graduation Index) (2015-16 Cohort)*',\n",
    "       '2017 Progress Points', '2016 Assessment Index\\nGrades 3-8*',\n",
    "       '2016 Dropout Credit Accumulation Index*',\n",
    "       '2016 Assessment Index\\nEnd-of-Course Exams*',\n",
    "       '2016 Assessment Index\\nACT*',\n",
    "       'Strength of Diploma (Graduation Index) (2014-15 Cohort)*',\n",
    "       ' Cohort Graduation Rate Index \\n(Points Earned for Cohort Graduation Rate)  \\n (2014-15 Cohort)*',\n",
    "       ' Cohort Graduation Rate (Actual Graduation Rate) (2014-15 Cohort)**',\n",
    "       '2016 Progress Points',' Cohort Graduation Rate Index \\n(Points Earned for Cohort Graduation Rate)      \\n(2015-16 Cohort)*'])\n",
    "grades_df = grades_df.rename(columns={\" Cohort Graduation Rate (Actual Graduation Rate) (2015-16 Cohort)**\":\"Graduation Rate\", \"2017 Letter Grade \": \"2017 Letter Grade\"})\n",
    "info_df = info_df.drop(31).reset_index().drop([\"index\"], axis=1)"
   ]
  },
  {
   "cell_type": "markdown",
   "metadata": {},
   "source": [
    "As of now, the ACT assesment index does not mean much. We will translate the ACT index score to an average score reflective of the actual ACT scores achieved by students. The scale is as follows ([from louisianabelieves.com](https://www.louisianabelieves.com/docs/default-source/district-support/using-the-school-performance-score-calculator.pdf)): <br/>\n",
    "\n",
    "ACT Score -> ACT Index Score <br/>\n",
    "0-17     ->    0.0 <br/>\n",
    "18       ->    70.0 <br/>\n",
    "19       ->    80.0 <br/> \n",
    "20       ->    90.0 <br/>\n",
    "21       ->    100.0 <br/>\n",
    "22       ->    103.4 <br/>\n",
    "23       ->    106.8 <br/>\n",
    "24       ->    110.2 <br/>\n"
   ]
  },
  {
   "cell_type": "code",
   "execution_count": 18,
   "metadata": {},
   "outputs": [
    {
     "name": "stdout",
     "output_type": "stream",
     "text": [
      "Lowest ACT index: 53.4\n",
      "Highest ACT index: 106.0\n"
     ]
    }
   ],
   "source": [
    "min_score, max_score = grades_df[\"2017 Assessment Index\\nACT*\"].min(),grades_df[\"2017 Assessment Index\\nACT*\"].max()\n",
    "print(\"Lowest ACT index:\",min_score)\n",
    "print(\"Highest ACT index:\", max_score)"
   ]
  },
  {
   "cell_type": "markdown",
   "metadata": {},
   "source": [
    "Since our highest score is a 106.0, we won't need to convert to a score higher than a 22 according to the table, and we will convert the lowest score to a 70."
   ]
  },
  {
   "cell_type": "code",
   "execution_count": 19,
   "metadata": {},
   "outputs": [],
   "source": [
    "def convert_to_raw_act(entry):\n",
    "    if entry < 70:\n",
    "        return 17\n",
    "    elif entry < 80:\n",
    "        return 18\n",
    "    elif entry < 90:\n",
    "        return 19\n",
    "    elif entry < 100:\n",
    "        return 20\n",
    "    elif entry < 103.4:\n",
    "        return 21\n",
    "    else:\n",
    "        return 22"
   ]
  },
  {
   "cell_type": "code",
   "execution_count": 20,
   "metadata": {},
   "outputs": [],
   "source": [
    "grades_df[\"Raw ACT Score\"] = grades_df[\"2017 Assessment Index\\nACT*\"].apply(convert_to_raw_act)\n",
    "grades_df = grades_df.drop(columns=[\"2017 Assessment Index\\nACT*\"])"
   ]
  },
  {
   "cell_type": "code",
   "execution_count": 21,
   "metadata": {},
   "outputs": [],
   "source": [
    "# Merge grades and info into one large dataframe, where each row is an observation of a district\n",
    "la_df = grades_df.merge(info_df, on=[\"Parish\"])"
   ]
  },
  {
   "cell_type": "markdown",
   "metadata": {},
   "source": [
    "## The Final Louisiana Dataframe:"
   ]
  },
  {
   "cell_type": "code",
   "execution_count": 22,
   "metadata": {},
   "outputs": [
    {
     "data": {
      "text/html": [
       "<div>\n",
       "<style scoped>\n",
       "    .dataframe tbody tr th:only-of-type {\n",
       "        vertical-align: middle;\n",
       "    }\n",
       "\n",
       "    .dataframe tbody tr th {\n",
       "        vertical-align: top;\n",
       "    }\n",
       "\n",
       "    .dataframe thead th {\n",
       "        text-align: right;\n",
       "    }\n",
       "</style>\n",
       "<table border=\"1\" class=\"dataframe\">\n",
       "  <thead>\n",
       "    <tr style=\"text-align: right;\">\n",
       "      <th></th>\n",
       "      <th>Parish</th>\n",
       "      <th>2017 Letter Grade</th>\n",
       "      <th>Graduation Rate</th>\n",
       "      <th>Raw ACT Score</th>\n",
       "      <th>Total Students</th>\n",
       "      <th>Male Students</th>\n",
       "      <th>Female Students</th>\n",
       "      <th>American Indian/Alaska Native - Male</th>\n",
       "      <th>American Indian/Alaska Native - Female</th>\n",
       "      <th>Asian or Asian/Pacific Islander - Male</th>\n",
       "      <th>Asian or Asian/Pacific Islander - Female</th>\n",
       "      <th>Hispanic - Male</th>\n",
       "      <th>Hispanic - Female</th>\n",
       "      <th>Black or African American - Male</th>\n",
       "      <th>Black or African American - Female</th>\n",
       "      <th>White - Male</th>\n",
       "      <th>White - Female</th>\n",
       "      <th>Nat. Hawaiian or Other Pacific Isl. - Male</th>\n",
       "      <th>Nat. Hawaiian or Other Pacific Isl. - Female</th>\n",
       "      <th>Two or More Races - Male</th>\n",
       "      <th>Two or More Races - Female</th>\n",
       "      <th>Full-Time Teachers</th>\n",
       "      <th>Pupil/Teacher Ratio</th>\n",
       "      <th>Kindergarten Teachers</th>\n",
       "      <th>Elementary Teachers</th>\n",
       "      <th>Secondary Teachers</th>\n",
       "      <th>Total Staff</th>\n",
       "      <th>Total Revenue</th>\n",
       "      <th>Federal Revenue</th>\n",
       "      <th>State Revenue</th>\n",
       "      <th>Local Revenue</th>\n",
       "      <th>Revenue per Pupil</th>\n",
       "      <th>Instruction Expendeture</th>\n",
       "      <th>Salary Expendeture</th>\n",
       "    </tr>\n",
       "  </thead>\n",
       "  <tbody>\n",
       "    <tr>\n",
       "      <th>0</th>\n",
       "      <td>acadia</td>\n",
       "      <td>B</td>\n",
       "      <td>86.3</td>\n",
       "      <td>20</td>\n",
       "      <td>9839.0</td>\n",
       "      <td>5050.0</td>\n",
       "      <td>4787.0</td>\n",
       "      <td>9.0</td>\n",
       "      <td>9.0</td>\n",
       "      <td>9.0</td>\n",
       "      <td>5.0</td>\n",
       "      <td>149.0</td>\n",
       "      <td>115.0</td>\n",
       "      <td>1339.0</td>\n",
       "      <td>1212.0</td>\n",
       "      <td>3347.0</td>\n",
       "      <td>3233.0</td>\n",
       "      <td>NaN</td>\n",
       "      <td>NaN</td>\n",
       "      <td>198.0</td>\n",
       "      <td>214.0</td>\n",
       "      <td>548.94</td>\n",
       "      <td>17.92</td>\n",
       "      <td>39.00</td>\n",
       "      <td>322.36</td>\n",
       "      <td>163.58</td>\n",
       "      <td>1119.35</td>\n",
       "      <td>95051000.0</td>\n",
       "      <td>15149000.0</td>\n",
       "      <td>53342000.0</td>\n",
       "      <td>26560000.0</td>\n",
       "      <td>9661.0</td>\n",
       "      <td>54183000.0</td>\n",
       "      <td>35390000.0</td>\n",
       "    </tr>\n",
       "    <tr>\n",
       "      <th>1</th>\n",
       "      <td>allen</td>\n",
       "      <td>A</td>\n",
       "      <td>88.8</td>\n",
       "      <td>20</td>\n",
       "      <td>4279.0</td>\n",
       "      <td>2167.0</td>\n",
       "      <td>2112.0</td>\n",
       "      <td>29.0</td>\n",
       "      <td>19.0</td>\n",
       "      <td>22.0</td>\n",
       "      <td>18.0</td>\n",
       "      <td>33.0</td>\n",
       "      <td>30.0</td>\n",
       "      <td>438.0</td>\n",
       "      <td>436.0</td>\n",
       "      <td>1581.0</td>\n",
       "      <td>1545.0</td>\n",
       "      <td>2.0</td>\n",
       "      <td>1.0</td>\n",
       "      <td>62.0</td>\n",
       "      <td>63.0</td>\n",
       "      <td>321.63</td>\n",
       "      <td>13.30</td>\n",
       "      <td>22.50</td>\n",
       "      <td>187.11</td>\n",
       "      <td>93.52</td>\n",
       "      <td>623.56</td>\n",
       "      <td>48581000.0</td>\n",
       "      <td>4348000.0</td>\n",
       "      <td>29928000.0</td>\n",
       "      <td>14305000.0</td>\n",
       "      <td>11353.0</td>\n",
       "      <td>26659000.0</td>\n",
       "      <td>17209000.0</td>\n",
       "    </tr>\n",
       "    <tr>\n",
       "      <th>2</th>\n",
       "      <td>ascension</td>\n",
       "      <td>A</td>\n",
       "      <td>87.9</td>\n",
       "      <td>20</td>\n",
       "      <td>21942.0</td>\n",
       "      <td>11398.0</td>\n",
       "      <td>10544.0</td>\n",
       "      <td>32.0</td>\n",
       "      <td>32.0</td>\n",
       "      <td>157.0</td>\n",
       "      <td>114.0</td>\n",
       "      <td>857.0</td>\n",
       "      <td>775.0</td>\n",
       "      <td>3474.0</td>\n",
       "      <td>3232.0</td>\n",
       "      <td>6649.0</td>\n",
       "      <td>6136.0</td>\n",
       "      <td>15.0</td>\n",
       "      <td>17.0</td>\n",
       "      <td>214.0</td>\n",
       "      <td>238.0</td>\n",
       "      <td>1339.28</td>\n",
       "      <td>16.38</td>\n",
       "      <td>44.99</td>\n",
       "      <td>852.30</td>\n",
       "      <td>414.69</td>\n",
       "      <td>2603.89</td>\n",
       "      <td>308842000.0</td>\n",
       "      <td>47048000.0</td>\n",
       "      <td>98359000.0</td>\n",
       "      <td>163435000.0</td>\n",
       "      <td>14075.0</td>\n",
       "      <td>158570000.0</td>\n",
       "      <td>84263000.0</td>\n",
       "    </tr>\n",
       "    <tr>\n",
       "      <th>3</th>\n",
       "      <td>assumption</td>\n",
       "      <td>B</td>\n",
       "      <td>84.8</td>\n",
       "      <td>20</td>\n",
       "      <td>3589.0</td>\n",
       "      <td>1845.0</td>\n",
       "      <td>1742.0</td>\n",
       "      <td>4.0</td>\n",
       "      <td>5.0</td>\n",
       "      <td>8.0</td>\n",
       "      <td>8.0</td>\n",
       "      <td>85.0</td>\n",
       "      <td>81.0</td>\n",
       "      <td>796.0</td>\n",
       "      <td>724.0</td>\n",
       "      <td>931.0</td>\n",
       "      <td>903.0</td>\n",
       "      <td>NaN</td>\n",
       "      <td>NaN</td>\n",
       "      <td>22.0</td>\n",
       "      <td>22.0</td>\n",
       "      <td>214.98</td>\n",
       "      <td>16.69</td>\n",
       "      <td>11.05</td>\n",
       "      <td>118.38</td>\n",
       "      <td>65.01</td>\n",
       "      <td>506.84</td>\n",
       "      <td>42026000.0</td>\n",
       "      <td>5487000.0</td>\n",
       "      <td>22872000.0</td>\n",
       "      <td>13667000.0</td>\n",
       "      <td>11710.0</td>\n",
       "      <td>21872000.0</td>\n",
       "      <td>13509000.0</td>\n",
       "    </tr>\n",
       "    <tr>\n",
       "      <th>4</th>\n",
       "      <td>avoyelles</td>\n",
       "      <td>C</td>\n",
       "      <td>76.7</td>\n",
       "      <td>20</td>\n",
       "      <td>5534.0</td>\n",
       "      <td>2892.0</td>\n",
       "      <td>2641.0</td>\n",
       "      <td>33.0</td>\n",
       "      <td>23.0</td>\n",
       "      <td>18.0</td>\n",
       "      <td>13.0</td>\n",
       "      <td>22.0</td>\n",
       "      <td>31.0</td>\n",
       "      <td>1387.0</td>\n",
       "      <td>1251.0</td>\n",
       "      <td>1340.0</td>\n",
       "      <td>1243.0</td>\n",
       "      <td>1.0</td>\n",
       "      <td>NaN</td>\n",
       "      <td>91.0</td>\n",
       "      <td>81.0</td>\n",
       "      <td>271.80</td>\n",
       "      <td>20.36</td>\n",
       "      <td>20.91</td>\n",
       "      <td>120.59</td>\n",
       "      <td>117.30</td>\n",
       "      <td>614.02</td>\n",
       "      <td>54910000.0</td>\n",
       "      <td>8976000.0</td>\n",
       "      <td>33037000.0</td>\n",
       "      <td>12897000.0</td>\n",
       "      <td>9922.0</td>\n",
       "      <td>29270000.0</td>\n",
       "      <td>15720000.0</td>\n",
       "    </tr>\n",
       "  </tbody>\n",
       "</table>\n",
       "</div>"
      ],
      "text/plain": [
       "       Parish 2017 Letter Grade Graduation Rate  Raw ACT Score  \\\n",
       "0      acadia                 B            86.3             20   \n",
       "1       allen                 A            88.8             20   \n",
       "2   ascension                 A            87.9             20   \n",
       "3  assumption                 B            84.8             20   \n",
       "4   avoyelles                 C            76.7             20   \n",
       "\n",
       "   Total Students  Male Students  Female Students  \\\n",
       "0          9839.0         5050.0           4787.0   \n",
       "1          4279.0         2167.0           2112.0   \n",
       "2         21942.0        11398.0          10544.0   \n",
       "3          3589.0         1845.0           1742.0   \n",
       "4          5534.0         2892.0           2641.0   \n",
       "\n",
       "   American Indian/Alaska Native - Male  \\\n",
       "0                                   9.0   \n",
       "1                                  29.0   \n",
       "2                                  32.0   \n",
       "3                                   4.0   \n",
       "4                                  33.0   \n",
       "\n",
       "   American Indian/Alaska Native - Female  \\\n",
       "0                                     9.0   \n",
       "1                                    19.0   \n",
       "2                                    32.0   \n",
       "3                                     5.0   \n",
       "4                                    23.0   \n",
       "\n",
       "   Asian or Asian/Pacific Islander - Male  \\\n",
       "0                                     9.0   \n",
       "1                                    22.0   \n",
       "2                                   157.0   \n",
       "3                                     8.0   \n",
       "4                                    18.0   \n",
       "\n",
       "   Asian or Asian/Pacific Islander - Female  Hispanic - Male  \\\n",
       "0                                       5.0            149.0   \n",
       "1                                      18.0             33.0   \n",
       "2                                     114.0            857.0   \n",
       "3                                       8.0             85.0   \n",
       "4                                      13.0             22.0   \n",
       "\n",
       "   Hispanic - Female  Black or African American - Male  \\\n",
       "0              115.0                            1339.0   \n",
       "1               30.0                             438.0   \n",
       "2              775.0                            3474.0   \n",
       "3               81.0                             796.0   \n",
       "4               31.0                            1387.0   \n",
       "\n",
       "   Black or African American - Female  White - Male  White - Female  \\\n",
       "0                              1212.0        3347.0          3233.0   \n",
       "1                               436.0        1581.0          1545.0   \n",
       "2                              3232.0        6649.0          6136.0   \n",
       "3                               724.0         931.0           903.0   \n",
       "4                              1251.0        1340.0          1243.0   \n",
       "\n",
       "   Nat. Hawaiian or Other Pacific Isl. - Male  \\\n",
       "0                                         NaN   \n",
       "1                                         2.0   \n",
       "2                                        15.0   \n",
       "3                                         NaN   \n",
       "4                                         1.0   \n",
       "\n",
       "   Nat. Hawaiian or Other Pacific Isl. - Female  Two or More Races - Male  \\\n",
       "0                                           NaN                     198.0   \n",
       "1                                           1.0                      62.0   \n",
       "2                                          17.0                     214.0   \n",
       "3                                           NaN                      22.0   \n",
       "4                                           NaN                      91.0   \n",
       "\n",
       "   Two or More Races - Female  Full-Time Teachers  Pupil/Teacher Ratio  \\\n",
       "0                       214.0              548.94                17.92   \n",
       "1                        63.0              321.63                13.30   \n",
       "2                       238.0             1339.28                16.38   \n",
       "3                        22.0              214.98                16.69   \n",
       "4                        81.0              271.80                20.36   \n",
       "\n",
       "   Kindergarten Teachers  Elementary Teachers  Secondary Teachers  \\\n",
       "0                  39.00               322.36              163.58   \n",
       "1                  22.50               187.11               93.52   \n",
       "2                  44.99               852.30              414.69   \n",
       "3                  11.05               118.38               65.01   \n",
       "4                  20.91               120.59              117.30   \n",
       "\n",
       "   Total Staff  Total Revenue  Federal Revenue  State Revenue  Local Revenue  \\\n",
       "0      1119.35     95051000.0       15149000.0     53342000.0     26560000.0   \n",
       "1       623.56     48581000.0        4348000.0     29928000.0     14305000.0   \n",
       "2      2603.89    308842000.0       47048000.0     98359000.0    163435000.0   \n",
       "3       506.84     42026000.0        5487000.0     22872000.0     13667000.0   \n",
       "4       614.02     54910000.0        8976000.0     33037000.0     12897000.0   \n",
       "\n",
       "   Revenue per Pupil  Instruction Expendeture  Salary Expendeture  \n",
       "0             9661.0               54183000.0          35390000.0  \n",
       "1            11353.0               26659000.0          17209000.0  \n",
       "2            14075.0              158570000.0          84263000.0  \n",
       "3            11710.0               21872000.0          13509000.0  \n",
       "4             9922.0               29270000.0          15720000.0  "
      ]
     },
     "execution_count": 22,
     "metadata": {},
     "output_type": "execute_result"
    }
   ],
   "source": [
    "la_df.head()"
   ]
  },
  {
   "cell_type": "markdown",
   "metadata": {},
   "source": [
    "## Exploration of LA data:"
   ]
  },
  {
   "cell_type": "code",
   "execution_count": 23,
   "metadata": {},
   "outputs": [
    {
     "data": {
      "text/plain": [
       "<AxesSubplot:xlabel='Revenue per Pupil', ylabel='2017 Letter Grade'>"
      ]
     },
     "execution_count": 23,
     "metadata": {},
     "output_type": "execute_result"
    },
    {
     "data": {
      "image/png": "[encoded data removed]",
      "text/plain": [
       "<Figure size 432x288 with 1 Axes>"
      ]
     },
     "metadata": {
      "needs_background": "light"
     },
     "output_type": "display_data"
    }
   ],
   "source": [
    "sns.boxplot(x=la_df[\"Revenue per Pupil\"],y=la_df[\"2017 Letter Grade\"],order=[\"A\",\"B\",\"C\",\"D\"])"
   ]
  },
  {
   "cell_type": "markdown",
   "metadata": {},
   "source": [
    "Our intuition would tell us that the higher ranked schools would have a higher Revenue per Pupil, but upon further inspection we don't always see this to be true. While the median is highest in the highest ranked schools, we can see that the \"B\" rank schools actually have the lowest Revenue per Pupil ratio. Lets look at data that would indicate a sucessful education, namely ACT score."
   ]
  },
  {
   "cell_type": "code",
   "execution_count": 24,
   "metadata": {},
   "outputs": [
    {
     "data": {
      "text/html": [
       "<div>\n",
       "<style scoped>\n",
       "    .dataframe tbody tr th:only-of-type {\n",
       "        vertical-align: middle;\n",
       "    }\n",
       "\n",
       "    .dataframe tbody tr th {\n",
       "        vertical-align: top;\n",
       "    }\n",
       "\n",
       "    .dataframe thead th {\n",
       "        text-align: right;\n",
       "    }\n",
       "</style>\n",
       "<table border=\"1\" class=\"dataframe\">\n",
       "  <thead>\n",
       "    <tr style=\"text-align: right;\">\n",
       "      <th>Raw ACT Score</th>\n",
       "      <th>17</th>\n",
       "      <th>18</th>\n",
       "      <th>19</th>\n",
       "      <th>20</th>\n",
       "      <th>21</th>\n",
       "      <th>22</th>\n",
       "    </tr>\n",
       "    <tr>\n",
       "      <th>2017 Letter Grade</th>\n",
       "      <th></th>\n",
       "      <th></th>\n",
       "      <th></th>\n",
       "      <th></th>\n",
       "      <th></th>\n",
       "      <th></th>\n",
       "    </tr>\n",
       "  </thead>\n",
       "  <tbody>\n",
       "    <tr>\n",
       "      <th>A</th>\n",
       "      <td>0</td>\n",
       "      <td>0</td>\n",
       "      <td>1</td>\n",
       "      <td>10</td>\n",
       "      <td>1</td>\n",
       "      <td>3</td>\n",
       "    </tr>\n",
       "    <tr>\n",
       "      <th>B</th>\n",
       "      <td>0</td>\n",
       "      <td>2</td>\n",
       "      <td>6</td>\n",
       "      <td>12</td>\n",
       "      <td>2</td>\n",
       "      <td>1</td>\n",
       "    </tr>\n",
       "    <tr>\n",
       "      <th>C</th>\n",
       "      <td>3</td>\n",
       "      <td>3</td>\n",
       "      <td>7</td>\n",
       "      <td>3</td>\n",
       "      <td>0</td>\n",
       "      <td>1</td>\n",
       "    </tr>\n",
       "    <tr>\n",
       "      <th>D</th>\n",
       "      <td>4</td>\n",
       "      <td>3</td>\n",
       "      <td>0</td>\n",
       "      <td>0</td>\n",
       "      <td>0</td>\n",
       "      <td>0</td>\n",
       "    </tr>\n",
       "  </tbody>\n",
       "</table>\n",
       "</div>"
      ],
      "text/plain": [
       "Raw ACT Score      17  18  19  20  21  22\n",
       "2017 Letter Grade                        \n",
       "A                   0   0   1  10   1   3\n",
       "B                   0   2   6  12   2   1\n",
       "C                   3   3   7   3   0   1\n",
       "D                   4   3   0   0   0   0"
      ]
     },
     "execution_count": 24,
     "metadata": {},
     "output_type": "execute_result"
    }
   ],
   "source": [
    "act_table = pd.crosstab(la_df[\"2017 Letter Grade\"], la_df[\"Raw ACT Score\"])\n",
    "act_table"
   ]
  },
  {
   "cell_type": "markdown",
   "metadata": {},
   "source": [
    "It seems like the highely rated schools produce a higher ACT score in general. Lets plot this information, along with graduation rates and total revenues."
   ]
  },
  {
   "cell_type": "code",
   "execution_count": 25,
   "metadata": {},
   "outputs": [
    {
     "data": {
      "text/plain": [
       "<AxesSubplot:xlabel='Graduation Rate', ylabel='Total Revenue'>"
      ]
     },
     "execution_count": 25,
     "metadata": {},
     "output_type": "execute_result"
    },
    {
     "data": {
      "image/png": "[encoded data removed]",
      "text/plain": [
       "<Figure size 1224x360 with 2 Axes>"
      ]
     },
     "metadata": {
      "needs_background": "light"
     },
     "output_type": "display_data"
    }
   ],
   "source": [
    "total_rev_fig, total_rev_ax = plt.subplots(1,2,figsize = (17,5))\n",
    "\n",
    "sns.scatterplot(y=la_df[\"Total Revenue\"], x = la_df[\"Raw ACT Score\"], data=la_df, hue=la_df[\"2017 Letter Grade\"],hue_order=[\"A\",\"B\",\"C\",\"D\"],ax=total_rev_ax[0])\n",
    "sns.scatterplot(y=la_df[\"Total Revenue\"], x = la_df[\"Graduation Rate\"], data=la_df, hue=la_df[\"2017 Letter Grade\"],hue_order=[\"A\",\"B\",\"C\",\"D\"],ax = total_rev_ax[1])"
   ]
  },
  {
   "cell_type": "markdown",
   "metadata": {},
   "source": [
    "These tables shows that a higher revenue does not always mean a better education. Clearly we have an example of a school with a C rank, low graduation rate, and low ACT score having the highest revenue in the entire state. Let us now plot the average ACT score and graduation rate against the revenue per pupil so that schools with large populations are not skewed.\n"
   ]
  },
  {
   "cell_type": "code",
   "execution_count": 26,
   "metadata": {},
   "outputs": [
    {
     "data": {
      "text/plain": [
       "<AxesSubplot:xlabel='Graduation Rate', ylabel='Revenue per Pupil'>"
      ]
     },
     "execution_count": 26,
     "metadata": {},
     "output_type": "execute_result"
    },
    {
     "data": {
      "image/png": "[encoded data removed]",
      "text/plain": [
       "<Figure size 1224x360 with 2 Axes>"
      ]
     },
     "metadata": {
      "needs_background": "light"
     },
     "output_type": "display_data"
    }
   ],
   "source": [
    "rppfig,rppax = plt.subplots(1,2,figsize = (17,5))\n",
    "\n",
    "sns.scatterplot(y=la_df[\"Revenue per Pupil\"], x = la_df[\"Raw ACT Score\"], data=la_df, hue=la_df[\"2017 Letter Grade\"],hue_order=[\"A\",\"B\",\"C\",\"D\"], ax = rppax[0])\n",
    "sns.scatterplot(y=la_df[\"Revenue per Pupil\"], x = la_df[\"Graduation Rate\"], data=la_df, hue=la_df[\"2017 Letter Grade\"],hue_order=[\"A\",\"B\",\"C\",\"D\"],ax=rppax[1])"
   ]
  },
  {
   "cell_type": "markdown",
   "metadata": {},
   "source": [
    "We cannot say much in terms of Revenue per Pupil, ACT, and Graduation Rate as they do not seem to correlate much at all. Let us now explore a more successful school system: The New Jersey School System."
   ]
  },
  {
   "cell_type": "markdown",
   "metadata": {},
   "source": [
    "___\n",
    "## New Jersey: a Basis for Comparison\n",
    "Let's take a look at another state's education data, namely New Jersey, which is a consistently ranked high by [reputable sources](https://www.nj.gov/governor/news/news/562021/20210309a.shtml) for their K-12 public education system. By investigating the relative differences between New Jersey and Louisiana's education systems, explanations for why Louisiana underperforms may be found. </br> </br>\n",
    "Similar to the Louisiana data sets, we'll look into district demographics, financial information, and performance statistics to examine the attributes across school districts."
   ]
  },
  {
   "cell_type": "markdown",
   "metadata": {},
   "source": [
    "### New Jersey Budgets\n",
    "2016-2017 financial data for New Jersey public schools will be used for analysis and taken from the website of New Jersey's Department of Education. The data sets, along with a layout file, can be found [here](https://www.nj.gov/education/finance/fp/ufb/2016/download.shtml)."
   ]
  },
  {
   "cell_type": "markdown",
   "metadata": {},
   "source": [
    "#### Revenues\n",
    "Let's first take a look at revenues, or how much money each school district in New Jersey and Louisiana are bringing in from the local, state, and federal levels. </br>\n",
    "We would expect that, on average, New Jersey public schools have more funding, as its schools are consistently rated highly compared to other states'. </br>\n",
    "We will first clean the data, as the revenue for each district is split amoungst many rows."
   ]
  },
  {
   "cell_type": "code",
   "execution_count": 27,
   "metadata": {},
   "outputs": [],
   "source": [
    "nj_rev_df = pd.read_csv(r'nj_rev.csv')\n",
    "nj_rev_df = nj_rev_df[pd.notna(nj_rev_df[\"ACCOUNT\"])] # Remove subtotal observations\n",
    "nj_rev_df = nj_rev_df.drop(columns=[\"COUNTY_ID\", \"CONAME\", \"DISTRICT_ID\", \"LINE_NO\", \"ACCOUNT\", \"AMOUNT_2\", \"AMOUNT_3\"])\n",
    "nj_rev_df = nj_rev_df.rename(columns={\"AMOUNT_1\": \"Revenue\"})"
   ]
  },
  {
   "cell_type": "code",
   "execution_count": 28,
   "metadata": {},
   "outputs": [
    {
     "data": {
      "text/html": [
       "<div>\n",
       "<style scoped>\n",
       "    .dataframe tbody tr th:only-of-type {\n",
       "        vertical-align: middle;\n",
       "    }\n",
       "\n",
       "    .dataframe tbody tr th {\n",
       "        vertical-align: top;\n",
       "    }\n",
       "\n",
       "    .dataframe thead th {\n",
       "        text-align: right;\n",
       "    }\n",
       "</style>\n",
       "<table border=\"1\" class=\"dataframe\">\n",
       "  <thead>\n",
       "    <tr style=\"text-align: right;\">\n",
       "      <th></th>\n",
       "      <th>Revenue</th>\n",
       "    </tr>\n",
       "    <tr>\n",
       "      <th>DISTNAME</th>\n",
       "      <th></th>\n",
       "    </tr>\n",
       "  </thead>\n",
       "  <tbody>\n",
       "    <tr>\n",
       "      <th>ABSECON CITY</th>\n",
       "      <td>13397662.0</td>\n",
       "    </tr>\n",
       "    <tr>\n",
       "      <th>ALEXANDRIA TWP</th>\n",
       "      <td>10193006.0</td>\n",
       "    </tr>\n",
       "    <tr>\n",
       "      <th>ALLAMUCHY TWP</th>\n",
       "      <td>9709362.0</td>\n",
       "    </tr>\n",
       "    <tr>\n",
       "      <th>ALLENDALE BORO</th>\n",
       "      <td>16131608.0</td>\n",
       "    </tr>\n",
       "    <tr>\n",
       "      <th>ALLENHURST</th>\n",
       "      <td>255179.0</td>\n",
       "    </tr>\n",
       "  </tbody>\n",
       "</table>\n",
       "</div>"
      ],
      "text/plain": [
       "                   Revenue\n",
       "DISTNAME                  \n",
       "ABSECON CITY    13397662.0\n",
       "ALEXANDRIA TWP  10193006.0\n",
       "ALLAMUCHY TWP    9709362.0\n",
       "ALLENDALE BORO  16131608.0\n",
       "ALLENHURST        255179.0"
      ]
     },
     "execution_count": 28,
     "metadata": {},
     "output_type": "execute_result"
    }
   ],
   "source": [
    "# Group revenues together under one \"Revenue\" attribute\n",
    "nj_rev_cube = nj_rev_df.pivot_table(\n",
    "    index=\"DISTNAME\",\n",
    "    values=\"Revenue\", aggfunc=np.sum)\n",
    "nj_rev_cube.head()\n"
   ]
  },
  {
   "cell_type": "markdown",
   "metadata": {},
   "source": [
    "Much more neat and meaningful. </br>\n",
    "From this, we can determine both the total revenue of New Jersey public schools and average revenue across its school distrcits. Let's look at these numbers next to the saem statistics of Louisiana and its school districts to see how they line up."
   ]
  },
  {
   "cell_type": "code",
   "execution_count": 29,
   "metadata": {},
   "outputs": [
    {
     "name": "stdout",
     "output_type": "stream",
     "text": [
      "New Jersey total revenue: 26077730552.0\n",
      "New Jersey school district count: 582\n",
      "New Jersey average total revenue: 44807097.16838488\n",
      "\n",
      "Louisiana total revenue: 7387585000.0\n",
      "Louisiana school district count: 62\n",
      "Louisiana average total revenue: 119154596.77419356\n"
     ]
    }
   ],
   "source": [
    "nj_rev_sum = nj_rev_cube[\"Revenue\"].sum()\n",
    "print(\"New Jersey total revenue:\", nj_rev_sum)\n",
    "nj_rev_count = nj_rev_cube[\"Revenue\"].count()\n",
    "print(\"New Jersey school district count:\", nj_rev_count)\n",
    "nj_rev_mean = nj_rev_cube[\"Revenue\"].mean()\n",
    "print(\"New Jersey average total revenue:\", nj_rev_mean)\n",
    "print()\n",
    "la_rev_sum = la_df[\"Total Revenue\"].sum()\n",
    "print(\"Louisiana total revenue:\", la_rev_sum)\n",
    "la_rev_count = la_df[\"Total Revenue\"].count()\n",
    "print(\"Louisiana school district count:\", la_rev_count)\n",
    "la_rev_mean = la_df[\"Total Revenue\"].mean()\n",
    "print(\"Louisiana average total revenue:\", la_rev_mean)"
   ]
  },
  {
   "cell_type": "markdown",
   "metadata": {},
   "source": [
    "From this, we can see that although New Jersey receives nearly 4x more revenue in total than Louisiana does,  Louisiana school districts receive more funding, on average, than those in New Jersey. It's clear that this is the case because New Jersey has far more school distrits than Louisiana does – nearly 10x as many.</br></br>\n",
    "When we view histograms of each, we see that both states have a few outliers receiving a lot of funding, with most receiving a much lower portion:"
   ]
  },
  {
   "cell_type": "code",
   "execution_count": 30,
   "metadata": {},
   "outputs": [
    {
     "data": {
      "text/plain": [
       "<AxesSubplot:title={'center':'LA'}, ylabel='Frequency'>"
      ]
     },
     "execution_count": 30,
     "metadata": {},
     "output_type": "execute_result"
    },
    {
     "data": {
      "image/png": "[encoded data removed]",
      "text/plain": [
       "<Figure size 720x216 with 2 Axes>"
      ]
     },
     "metadata": {
      "needs_background": "light"
     },
     "output_type": "display_data"
    }
   ],
   "source": [
    "# https://stackoverflow.com/questions/45069828/how-to-plot-2-histograms-side-by-side\n",
    "fig, axes = plt.subplots(1,2,figsize=(10,3))\n",
    "\n",
    "axes[0].set_title('NJ')\n",
    "axes[1].set_title('LA')\n",
    "\n",
    "nj_rev_cube[\"Revenue\"].plot.hist(ax=axes[0],sharey=True)\n",
    "la_df[\"Total Revenue\"].plot.hist(ax=axes[1], sharey=True)"
   ]
  },
  {
   "cell_type": "markdown",
   "metadata": {},
   "source": [
    "By examining these distributions as a box plot, we can get a better sense of how the data is distributed:"
   ]
  },
  {
   "cell_type": "code",
   "execution_count": 31,
   "metadata": {},
   "outputs": [
    {
     "data": {
      "text/plain": [
       "<AxesSubplot:>"
      ]
     },
     "execution_count": 31,
     "metadata": {},
     "output_type": "execute_result"
    },
    {
     "data": {
      "image/png": "[encoded data removed]",
      "text/plain": [
       "<Figure size 432x288 with 1 Axes>"
      ]
     },
     "metadata": {
      "needs_background": "light"
     },
     "output_type": "display_data"
    }
   ],
   "source": [
    "sns.boxplot(data=[nj_rev_cube[\"Revenue\"].rename(\"NJ\"), la_df[\"Total Revenue\"].rename(\"LA\")], orient=\"h\")"
   ]
  },
  {
   "cell_type": "markdown",
   "metadata": {},
   "source": [
    "From this, we can tell that Louisiana's funding is spread out better than New Jersey's, as New Jersey's box plot reveals many outliers. Let's look at revenue per pupil, next:"
   ]
  },
  {
   "cell_type": "code",
   "execution_count": 32,
   "metadata": {},
   "outputs": [
    {
     "data": {
      "text/html": [
       "<div>\n",
       "<style scoped>\n",
       "    .dataframe tbody tr th:only-of-type {\n",
       "        vertical-align: middle;\n",
       "    }\n",
       "\n",
       "    .dataframe tbody tr th {\n",
       "        vertical-align: top;\n",
       "    }\n",
       "\n",
       "    .dataframe thead th {\n",
       "        text-align: right;\n",
       "    }\n",
       "</style>\n",
       "<table border=\"1\" class=\"dataframe\">\n",
       "  <thead>\n",
       "    <tr style=\"text-align: right;\">\n",
       "      <th></th>\n",
       "      <th>DISTNAME</th>\n",
       "      <th>Enrollment</th>\n",
       "    </tr>\n",
       "  </thead>\n",
       "  <tbody>\n",
       "    <tr>\n",
       "      <th>0</th>\n",
       "      <td>ABSECON CITY</td>\n",
       "      <td>804.0</td>\n",
       "    </tr>\n",
       "    <tr>\n",
       "      <th>1</th>\n",
       "      <td>ATLANTIC CITY</td>\n",
       "      <td>6630.0</td>\n",
       "    </tr>\n",
       "    <tr>\n",
       "      <th>2</th>\n",
       "      <td>ATLANTIC CO VOCATIONAL</td>\n",
       "      <td>1226.0</td>\n",
       "    </tr>\n",
       "    <tr>\n",
       "      <th>3</th>\n",
       "      <td>BRIGANTINE CITY</td>\n",
       "      <td>635.0</td>\n",
       "    </tr>\n",
       "    <tr>\n",
       "      <th>4</th>\n",
       "      <td>BUENA REGIONAL</td>\n",
       "      <td>1604.0</td>\n",
       "    </tr>\n",
       "  </tbody>\n",
       "</table>\n",
       "</div>"
      ],
      "text/plain": [
       "                 DISTNAME  Enrollment\n",
       "0            ABSECON CITY       804.0\n",
       "1           ATLANTIC CITY      6630.0\n",
       "2  ATLANTIC CO VOCATIONAL      1226.0\n",
       "3         BRIGANTINE CITY       635.0\n",
       "4          BUENA REGIONAL      1604.0"
      ]
     },
     "execution_count": 32,
     "metadata": {},
     "output_type": "execute_result"
    }
   ],
   "source": [
    "# Create enrollment dataframe\n",
    "nj_enroll_df = pd.read_csv(r'nj_enroll.csv')\n",
    "nj_enroll_df = nj_enroll_df[nj_enroll_df[\"ENROLL_CAT\"] == \"Onroll (Full)\"] # Get just full amounts\n",
    "nj_enroll_df.reset_index(inplace=True)\n",
    "nj_enroll_df.drop(columns=[\"index\", \"COUNTY_ID\", \"CONAME\", \"DISTRICT_ID\", \"ENROLL_LINE_NO\", \"ENROLL_CAT\", \"AMOUNT_2\", \"AMOUNT_3\"], inplace=True)\n",
    "nj_enroll_df = nj_enroll_df.rename(columns={\"AMOUNT_1\":\"Enrollment\"})\n",
    "nj_enroll_df.head()"
   ]
  },
  {
   "cell_type": "code",
   "execution_count": 33,
   "metadata": {},
   "outputs": [],
   "source": [
    "# Create revenue/pupil column\n",
    "nj_enroll_rev = nj_rev_cube.merge(nj_enroll_df, on=[\"DISTNAME\"], suffixes=(\"rev\", \"enroll\"))\n",
    "nj_enroll_rev = nj_enroll_rev[nj_enroll_rev[\"Enrollment\"] != 0]\n",
    "nj_enroll_rev[\"rev/pupil\"] = nj_enroll_rev[\"Revenue\"] / nj_enroll_rev[\"Enrollment\"]"
   ]
  },
  {
   "cell_type": "code",
   "execution_count": 34,
   "metadata": {},
   "outputs": [
    {
     "name": "stdout",
     "output_type": "stream",
     "text": [
      "NJ rev/pupil:  79844.84968801291\n",
      "LA rev/pupil: 12694.709677419354\n"
     ]
    }
   ],
   "source": [
    "print(\"NJ rev/pupil: \",nj_enroll_rev[\"rev/pupil\"].mean())\n",
    "print(\"LA rev/pupil:\",la_df[\"Revenue per Pupil\"].mean())"
   ]
  },
  {
   "cell_type": "markdown",
   "metadata": {},
   "source": [
    "Here we see that New Jersey spends far more money per pupil than Louisiana does – about 6.5x more. To better view this distribution, let's perform a log transform:"
   ]
  },
  {
   "cell_type": "code",
   "execution_count": 35,
   "metadata": {},
   "outputs": [
    {
     "data": {
      "text/plain": [
       "[Text(0.5, 0, '$ log(Revenue/Pupil)'),\n",
       " Text(0, 0.5, 'School'),\n",
       " Text(0.5, 1.0, 'NJ & LA Revenue/Pupil')]"
      ]
     },
     "execution_count": 35,
     "metadata": {},
     "output_type": "execute_result"
    },
    {
     "data": {
      "image/png": "[encoded data removed]",
      "text/plain": [
       "<Figure size 432x288 with 1 Axes>"
      ]
     },
     "metadata": {
      "needs_background": "light"
     },
     "output_type": "display_data"
    }
   ],
   "source": [
    "# Transform rev/pupil attribute\n",
    "nj_enroll_rev[\"log(rev/pupil)\"] = np.log(nj_enroll_rev[\"rev/pupil\"])\n",
    "la_df[\"log(Revenue per Pupil)\"] = np.log(la_df[\"Revenue per Pupil\"])\n",
    "nj_log = nj_enroll_rev[\"log(rev/pupil)\"].rename(\"NJ\")\n",
    "la_log = la_df[\"log(Revenue per Pupil)\"].rename(\"LA\")\n",
    "sns.boxplot(data=[nj_log, la_log], orient=\"h\").set(\n",
    "    xlabel='$ log(Revenue/Pupil)', \n",
    "    ylabel='School',\n",
    "    title=\"NJ & LA Revenue/Pupil\"\n",
    ")"
   ]
  },
  {
   "cell_type": "markdown",
   "metadata": {},
   "source": [
    "From the above, we can see that the average rate of revenue per pupil is much higher for New Jersey school districts than for Louisiana school districts. The two metrics we've looked at, average total revenue and average total revenue per pupil, indicate opposing results. Let's incorporate a metric of academic performance or success, such as graduation rate, to determine whether either of these correllate with academic performance."
   ]
  },
  {
   "cell_type": "markdown",
   "metadata": {},
   "source": [
    "#### Revenue and Graduation Rate\n",
    "New Jersey Enrollment data, as published by New Jersey's Department of Education, can be found [here](https://www.nj.gov/education/schoolperformance/grad/ACGR.shtml) under \"2016 Adjusted Cohort 4 year Graduation rates (Excel)\""
   ]
  },
  {
   "cell_type": "code",
   "execution_count": 36,
   "metadata": {},
   "outputs": [],
   "source": [
    "# Load in New Jersey Graduation data, convert to proper dtypes\n",
    "nj_grad_df = pd.read_csv(r'nj_grad.csv')\n",
    "nj_grad_all = nj_grad_df[nj_grad_df[\"SUBGROUP\"] == \"Districtwide\"]\n",
    "nj_grad_all.reset_index(inplace=True)\n",
    "nj_grad_all = nj_grad_all.drop(columns=[\"index\", \"COUNTY_ID\", \"COUNTY_NAME\", \"DISTRICT_ID\", \"SCHOOL_CODE\", \"SCHOOL_NAME\", \"SUBGROUP\", \"Unnamed: 10\"])\n",
    "\n",
    "grad_nums = pd.to_numeric(nj_grad_all[\"FOUR_YR_GRAD_RATE\"], errors=\"coerce\", downcast=\"integer\")\n",
    "grad_df = pd.DataFrame(grad_nums)\n",
    "nj_grad_all.pop(\"FOUR_YR_GRAD_RATE\")\n",
    "nj_grad_all = nj_grad_all.join(grad_df)\n",
    "\n",
    "grad_nums = pd.to_numeric(nj_grad_all[\"FOUR_YR_ADJ_COHORT_COUNT\"], errors=\"coerce\", downcast=\"integer\")\n",
    "grad_df = pd.DataFrame(grad_nums)\n",
    "nj_grad_all.pop(\"FOUR_YR_ADJ_COHORT_COUNT\")\n",
    "nj_grad_all = nj_grad_all.join(grad_df)\n",
    "\n",
    "grad_nums = pd.to_numeric(nj_grad_all[\"GRADUATED_COUNT\"], errors=\"coerce\", downcast=\"integer\")\n",
    "grad_df = pd.DataFrame(grad_nums)\n",
    "nj_grad_all.pop(\"GRADUATED_COUNT\")\n",
    "nj_grad_all = nj_grad_all.join(grad_df)\n",
    "\n",
    "grad_nums = pd.to_numeric(la_df[\"Graduation Rate\"], errors=\"coerce\", downcast=\"integer\")\n",
    "grad_df = pd.DataFrame(grad_nums)\n",
    "la_df.pop(\"Graduation Rate\")\n",
    "la_df = la_df.join(grad_df)\n"
   ]
  },
  {
   "cell_type": "code",
   "execution_count": 37,
   "metadata": {},
   "outputs": [
    {
     "name": "stdout",
     "output_type": "stream",
     "text": [
      "New Jersey average graduation rate: 91.09950657894736\n",
      "Louisiana average graduation rate: 81.5016393442623\n"
     ]
    }
   ],
   "source": [
    "print(\"New Jersey average graduation rate:\", nj_grad_all[\"FOUR_YR_GRAD_RATE\"].mean())\n",
    "print(\"Louisiana average graduation rate:\", la_df[\"Graduation Rate\"].mean())"
   ]
  },
  {
   "cell_type": "markdown",
   "metadata": {},
   "source": [
    "We can see that the average 4 year graduation rate for New Jersey school districts is about 10% higher than that of Louisiana school districts. We'll create scatter plots to test whether a correlation between graduation rate and revenue statistics exists for both New Jersey and Louisiana schools."
   ]
  },
  {
   "cell_type": "code",
   "execution_count": 38,
   "metadata": {},
   "outputs": [],
   "source": [
    "nj_combo = nj_grad_all.merge(nj_enroll_rev, left_on=\"DISTRICT_NAME\", right_on=\"DISTNAME\", how=\"inner\")\n",
    "nj_combo = nj_combo.rename(columns={\"DISTRICT_NAME\":\"District\",\n",
    "                         \"FOUR_YR_GRAD_RATE\": \"Graduation Rate\",\n",
    "                         \"rev/pupil\": \"Revenue per Pupil\",\n",
    "                         \"Revenue\": \"Total Revenue\" })"
   ]
  },
  {
   "cell_type": "markdown",
   "metadata": {},
   "source": [
    "From these two tables, we'll be able to plot points based on graduation rates and total revenue, enrollment, and revenue per pupil. To get a better sense of the distribution, we'll be limiting the New Jersey data set based on total revenue, as we've seen that a few isolated outliers exist that makes it difficult to differentiate between the rest of the points."
   ]
  },
  {
   "cell_type": "code",
   "execution_count": 39,
   "metadata": {},
   "outputs": [
    {
     "data": {
      "text/plain": [
       "<AxesSubplot:title={'center':'New Jersey Data'}, xlabel='Total Revenue', ylabel='Graduation Rate'>"
      ]
     },
     "execution_count": 39,
     "metadata": {},
     "output_type": "execute_result"
    },
    {
     "data": {
      "image/png": "[encoded data removed]",
      "text/plain": [
       "<Figure size 1080x360 with 2 Axes>"
      ]
     },
     "metadata": {
      "needs_background": "light"
     },
     "output_type": "display_data"
    }
   ],
   "source": [
    "def adjustSize(size):\n",
    "    return (size**1/600)*10\n",
    "\n",
    "\n",
    "sfig,sax = plt.subplots(1,2,figsize = (15,5))\n",
    "# Calculate sizes of plot points based on enrollment size, filtered by total revenue to remove outliers\n",
    "nj_sizes = nj_combo[nj_combo[\"Total Revenue\"] < 200000000][\"Enrollment\"].map(adjustSize)\n",
    "la_sizes = la_df[\"Total Students\"].map(adjustSize)\n",
    "\n",
    "la_df.plot.scatter(x=\"Total Revenue\", y=\"Graduation Rate\", s=la_sizes, title=\"Louisiana Data\",ax=sax[0])\n",
    "nj_combo[nj_combo[\"Total Revenue\"] < 200000000].plot.scatter(x=\"Total Revenue\", y=\"Graduation Rate\", s=nj_sizes,title=\"New Jersey Data\",ax=sax[1])"
   ]
  },
  {
   "cell_type": "markdown",
   "metadata": {},
   "source": [
    "From the above, we can see that not much of a correlation exists between revenue and 4-year graduation rates within school districts within either state. The size of each point corresponds to the number of enrolled students within each school, which was added for greater context when looking at the distribution of school districts.  </br> </br>\n",
    "Let's next test revenue per pupil:"
   ]
  },
  {
   "cell_type": "code",
   "execution_count": 40,
   "metadata": {},
   "outputs": [
    {
     "data": {
      "text/plain": [
       "<AxesSubplot:title={'center':'New Jersey Data'}, xlabel='Revenue per Pupil', ylabel='Graduation Rate'>"
      ]
     },
     "execution_count": 40,
     "metadata": {},
     "output_type": "execute_result"
    },
    {
     "data": {
      "image/png": "[encoded data removed]",
      "text/plain": [
       "<Figure size 1080x360 with 2 Axes>"
      ]
     },
     "metadata": {
      "needs_background": "light"
     },
     "output_type": "display_data"
    }
   ],
   "source": [
    "def adjustSize(size):\n",
    "    return (size**1/800)*10\n",
    "\n",
    "dfig,dax = plt.subplots(1,2,figsize = (15,5))\n",
    "\n",
    "# Calculate sizes of plot points based on enrollment size, filtered revenue per pupil to remove outliers\n",
    "nj_sizes = nj_combo[nj_combo[\"Revenue per Pupil\"] < 30000][\"Enrollment\"].map(adjustSize)\n",
    "la_sizes = la_df[\"Total Students\"].map(adjustSize)\n",
    "\n",
    "la_df.plot.scatter(x=\"Revenue per Pupil\", y=\"Graduation Rate\", s=la_sizes,title=\"Louisiana Data\",ax = dax[0])\n",
    "nj_combo[nj_combo[\"Revenue per Pupil\"] < 30000].plot.scatter(x=\"Revenue per Pupil\", y=\"Graduation Rate\", s=nj_sizes, title=\"New Jersey Data\",ax=dax[1])"
   ]
  },
  {
   "cell_type": "markdown",
   "metadata": {},
   "source": [
    "These plots, too, produce little to no evidence of a correlation between graduation rates and revenues per pupil. Similar to before, the size of each point corresponds to the size of that school district's student population."
   ]
  },
  {
   "cell_type": "markdown",
   "metadata": {},
   "source": [
    "### Appropriations"
   ]
  },
  {
   "cell_type": "markdown",
   "metadata": {},
   "source": [
    "So far, the team has found no relevant relationship between funding and academic perforamnce of school districts. Next, the team will investigate whether appropriations and spending, rather than funding, has any sort of relationship with academic performance. Instruction materials and resources, teacher salaries, and other forms of education expenditures will be looked into."
   ]
  },
  {
   "cell_type": "code",
   "execution_count": 41,
   "metadata": {},
   "outputs": [
    {
     "data": {
      "text/html": [
       "<div>\n",
       "<style scoped>\n",
       "    .dataframe tbody tr th:only-of-type {\n",
       "        vertical-align: middle;\n",
       "    }\n",
       "\n",
       "    .dataframe tbody tr th {\n",
       "        vertical-align: top;\n",
       "    }\n",
       "\n",
       "    .dataframe thead th {\n",
       "        text-align: right;\n",
       "    }\n",
       "</style>\n",
       "<table border=\"1\" class=\"dataframe\">\n",
       "  <thead>\n",
       "    <tr style=\"text-align: right;\">\n",
       "      <th></th>\n",
       "      <th>county_id</th>\n",
       "      <th>county_name</th>\n",
       "      <th>district_id</th>\n",
       "      <th>district_name</th>\n",
       "      <th>line_no</th>\n",
       "      <th>account</th>\n",
       "      <th>line_desc</th>\n",
       "      <th>amount_1</th>\n",
       "      <th>amount_2</th>\n",
       "      <th>amount_3</th>\n",
       "    </tr>\n",
       "  </thead>\n",
       "  <tbody>\n",
       "    <tr>\n",
       "      <th>20</th>\n",
       "      <td>1</td>\n",
       "      <td>Atlantic</td>\n",
       "      <td>10</td>\n",
       "      <td>Absecon City</td>\n",
       "      <td>47200</td>\n",
       "      <td>'11-000-251-XX</td>\n",
       "      <td>Total Undistributed Expenditures-Central Services</td>\n",
       "      <td>249715.0</td>\n",
       "      <td>322436.0</td>\n",
       "      <td>314885.0</td>\n",
       "    </tr>\n",
       "    <tr>\n",
       "      <th>21</th>\n",
       "      <td>1</td>\n",
       "      <td>Atlantic</td>\n",
       "      <td>10</td>\n",
       "      <td>Absecon City</td>\n",
       "      <td>47620</td>\n",
       "      <td>'11-000-252-XX</td>\n",
       "      <td>Total Undistributed Expenditures-Administrativ...</td>\n",
       "      <td>47683.0</td>\n",
       "      <td>28193.0</td>\n",
       "      <td>43749.0</td>\n",
       "    </tr>\n",
       "    <tr>\n",
       "      <th>22</th>\n",
       "      <td>1</td>\n",
       "      <td>Atlantic</td>\n",
       "      <td>10</td>\n",
       "      <td>Absecon City</td>\n",
       "      <td>51120</td>\n",
       "      <td>'11-000-26X-XX</td>\n",
       "      <td>Total Undistributed Expenditures-Operation and...</td>\n",
       "      <td>859261.0</td>\n",
       "      <td>1001516.0</td>\n",
       "      <td>1150554.0</td>\n",
       "    </tr>\n",
       "    <tr>\n",
       "      <th>23</th>\n",
       "      <td>1</td>\n",
       "      <td>Atlantic</td>\n",
       "      <td>10</td>\n",
       "      <td>Absecon City</td>\n",
       "      <td>52480</td>\n",
       "      <td>'11-000-270-XX</td>\n",
       "      <td>Total Undistributed Expenditures-Student Trans...</td>\n",
       "      <td>539058.0</td>\n",
       "      <td>613145.0</td>\n",
       "      <td>529685.0</td>\n",
       "    </tr>\n",
       "    <tr>\n",
       "      <th>24</th>\n",
       "      <td>1</td>\n",
       "      <td>Atlantic</td>\n",
       "      <td>10</td>\n",
       "      <td>Absecon City</td>\n",
       "      <td>71260</td>\n",
       "      <td>'11-XXX-XXX-2X</td>\n",
       "      <td>Total Personal Services-Employee Benefits</td>\n",
       "      <td>2594225.0</td>\n",
       "      <td>2966577.0</td>\n",
       "      <td>3010525.0</td>\n",
       "    </tr>\n",
       "    <tr>\n",
       "      <th>25</th>\n",
       "      <td>1</td>\n",
       "      <td>Atlantic</td>\n",
       "      <td>10</td>\n",
       "      <td>Absecon City</td>\n",
       "      <td>72140</td>\n",
       "      <td>'</td>\n",
       "      <td>Total Undistributed Expenditures</td>\n",
       "      <td>8452904.0</td>\n",
       "      <td>9460180.0</td>\n",
       "      <td>9672511.0</td>\n",
       "    </tr>\n",
       "    <tr>\n",
       "      <th>26</th>\n",
       "      <td>1</td>\n",
       "      <td>Atlantic</td>\n",
       "      <td>10</td>\n",
       "      <td>Absecon City</td>\n",
       "      <td>72180</td>\n",
       "      <td>'10-606</td>\n",
       "      <td>Interest Earned on Maintenance Reserve</td>\n",
       "      <td>0.0</td>\n",
       "      <td>10.0</td>\n",
       "      <td>10.0</td>\n",
       "    </tr>\n",
       "    <tr>\n",
       "      <th>27</th>\n",
       "      <td>1</td>\n",
       "      <td>Atlantic</td>\n",
       "      <td>10</td>\n",
       "      <td>Absecon City</td>\n",
       "      <td>72260</td>\n",
       "      <td>'</td>\n",
       "      <td>Total General Current Expense</td>\n",
       "      <td>14203334.0</td>\n",
       "      <td>15580351.0</td>\n",
       "      <td>16090335.0</td>\n",
       "    </tr>\n",
       "    <tr>\n",
       "      <th>28</th>\n",
       "      <td>1</td>\n",
       "      <td>Atlantic</td>\n",
       "      <td>10</td>\n",
       "      <td>Absecon City</td>\n",
       "      <td>75880</td>\n",
       "      <td>'12-XXX-XXX-73</td>\n",
       "      <td>Total Equipment</td>\n",
       "      <td>78291.0</td>\n",
       "      <td>78782.0</td>\n",
       "      <td>109582.0</td>\n",
       "    </tr>\n",
       "    <tr>\n",
       "      <th>29</th>\n",
       "      <td>1</td>\n",
       "      <td>Atlantic</td>\n",
       "      <td>10</td>\n",
       "      <td>Absecon City</td>\n",
       "      <td>76260</td>\n",
       "      <td>'12-000-400-XX</td>\n",
       "      <td>Total Facilities Acquisition and Construction ...</td>\n",
       "      <td>32553.0</td>\n",
       "      <td>40742.0</td>\n",
       "      <td>730242.0</td>\n",
       "    </tr>\n",
       "  </tbody>\n",
       "</table>\n",
       "</div>"
      ],
      "text/plain": [
       "    county_id county_name  district_id district_name  line_no         account  \\\n",
       "20          1    Atlantic           10  Absecon City    47200  '11-000-251-XX   \n",
       "21          1    Atlantic           10  Absecon City    47620  '11-000-252-XX   \n",
       "22          1    Atlantic           10  Absecon City    51120  '11-000-26X-XX   \n",
       "23          1    Atlantic           10  Absecon City    52480  '11-000-270-XX   \n",
       "24          1    Atlantic           10  Absecon City    71260  '11-XXX-XXX-2X   \n",
       "25          1    Atlantic           10  Absecon City    72140               '   \n",
       "26          1    Atlantic           10  Absecon City    72180         '10-606   \n",
       "27          1    Atlantic           10  Absecon City    72260               '   \n",
       "28          1    Atlantic           10  Absecon City    75880  '12-XXX-XXX-73   \n",
       "29          1    Atlantic           10  Absecon City    76260  '12-000-400-XX   \n",
       "\n",
       "                                            line_desc    amount_1    amount_2  \\\n",
       "20  Total Undistributed Expenditures-Central Services    249715.0    322436.0   \n",
       "21  Total Undistributed Expenditures-Administrativ...     47683.0     28193.0   \n",
       "22  Total Undistributed Expenditures-Operation and...    859261.0   1001516.0   \n",
       "23  Total Undistributed Expenditures-Student Trans...    539058.0    613145.0   \n",
       "24          Total Personal Services-Employee Benefits   2594225.0   2966577.0   \n",
       "25                   Total Undistributed Expenditures   8452904.0   9460180.0   \n",
       "26             Interest Earned on Maintenance Reserve         0.0        10.0   \n",
       "27                      Total General Current Expense  14203334.0  15580351.0   \n",
       "28                                    Total Equipment     78291.0     78782.0   \n",
       "29  Total Facilities Acquisition and Construction ...     32553.0     40742.0   \n",
       "\n",
       "      amount_3  \n",
       "20    314885.0  \n",
       "21     43749.0  \n",
       "22   1150554.0  \n",
       "23    529685.0  \n",
       "24   3010525.0  \n",
       "25   9672511.0  \n",
       "26        10.0  \n",
       "27  16090335.0  \n",
       "28    109582.0  \n",
       "29    730242.0  "
      ]
     },
     "execution_count": 41,
     "metadata": {},
     "output_type": "execute_result"
    }
   ],
   "source": [
    "# Read in appropriations DataFrame\n",
    "nj_approp_df = pd.read_csv(r'nj_approp.csv')\n",
    "nj_approp_df[20:30]"
   ]
  },
  {
   "cell_type": "markdown",
   "metadata": {},
   "source": [
    "By looking at this data closely, it can be seen that a few observations exist without an account. These can be attributed to subtotals that should not be considered a part of the overall summation of monies. Let's filter our data to only work with observations with an actual account number related to each expense."
   ]
  },
  {
   "cell_type": "code",
   "execution_count": 42,
   "metadata": {},
   "outputs": [],
   "source": [
    "# Drop observations with no account, drop irrelevant columns, rename relevant appropriations column\n",
    "nj_approp = nj_approp_df[nj_approp_df[\"account\"] != \"'\"]\n",
    "nj_approp = nj_approp.drop(columns=[\"county_id\", \"county_name\", \"district_id\",\n",
    "                                                  \"line_no\", \"account\", \"amount_2\", \"amount_3\"])\n",
    "nj_approp = nj_approp.rename(columns={\"amount_1\": \"Appropriations\"})"
   ]
  },
  {
   "cell_type": "code",
   "execution_count": 43,
   "metadata": {
    "scrolled": true
   },
   "outputs": [
    {
     "data": {
      "text/html": [
       "<div>\n",
       "<style scoped>\n",
       "    .dataframe tbody tr th:only-of-type {\n",
       "        vertical-align: middle;\n",
       "    }\n",
       "\n",
       "    .dataframe tbody tr th {\n",
       "        vertical-align: top;\n",
       "    }\n",
       "\n",
       "    .dataframe thead th {\n",
       "        text-align: right;\n",
       "    }\n",
       "</style>\n",
       "<table border=\"1\" class=\"dataframe\">\n",
       "  <thead>\n",
       "    <tr style=\"text-align: right;\">\n",
       "      <th></th>\n",
       "      <th>district_name</th>\n",
       "      <th>Appropriations</th>\n",
       "    </tr>\n",
       "  </thead>\n",
       "  <tbody>\n",
       "    <tr>\n",
       "      <th>0</th>\n",
       "      <td>Absecon City</td>\n",
       "      <td>19136368.0</td>\n",
       "    </tr>\n",
       "    <tr>\n",
       "      <th>1</th>\n",
       "      <td>Alexandria Twp</td>\n",
       "      <td>10511461.0</td>\n",
       "    </tr>\n",
       "    <tr>\n",
       "      <th>2</th>\n",
       "      <td>Allamuchy Twp</td>\n",
       "      <td>11470108.0</td>\n",
       "    </tr>\n",
       "    <tr>\n",
       "      <th>3</th>\n",
       "      <td>Allendale Boro</td>\n",
       "      <td>17378121.0</td>\n",
       "    </tr>\n",
       "    <tr>\n",
       "      <th>4</th>\n",
       "      <td>Allenhurst</td>\n",
       "      <td>322170.0</td>\n",
       "    </tr>\n",
       "  </tbody>\n",
       "</table>\n",
       "</div>"
      ],
      "text/plain": [
       "    district_name  Appropriations\n",
       "0    Absecon City      19136368.0\n",
       "1  Alexandria Twp      10511461.0\n",
       "2   Allamuchy Twp      11470108.0\n",
       "3  Allendale Boro      17378121.0\n",
       "4      Allenhurst        322170.0"
      ]
     },
     "execution_count": 43,
     "metadata": {},
     "output_type": "execute_result"
    }
   ],
   "source": [
    "# Sum appropriations values within each school district\n",
    "nj_app_cube = nj_approp.pivot_table(\n",
    "    index=\"district_name\",\n",
    "    values=\"Appropriations\", aggfunc=np.sum)\n",
    "nj_approp_totals = nj_app_cube.reset_index()\n",
    "nj_approp_totals.head()"
   ]
  },
  {
   "cell_type": "code",
   "execution_count": 44,
   "metadata": {},
   "outputs": [],
   "source": [
    "def make_uppercase(district):\n",
    "    return district.upper()"
   ]
  },
  {
   "cell_type": "code",
   "execution_count": 45,
   "metadata": {},
   "outputs": [],
   "source": [
    "nj_approp_totals['district_name'] = nj_approp_totals['district_name'].apply(make_uppercase)\n",
    "nj_approp_totals = nj_approp_totals.sort_values(by=\"district_name\")"
   ]
  },
  {
   "cell_type": "code",
   "execution_count": 46,
   "metadata": {},
   "outputs": [],
   "source": [
    "nj_finances = nj_combo.merge(nj_approp_totals, left_on=\"DISTNAME\", right_on=\"district_name\", how=\"inner\")\n",
    "nj_finances = nj_finances.drop(columns=[\"district_name\", \"DISTNAME\"])"
   ]
  },
  {
   "cell_type": "code",
   "execution_count": 47,
   "metadata": {},
   "outputs": [],
   "source": [
    "la_df[\"Total Expendeture\"] = la_df[\"Instruction Expendeture\"] + la_df[\"Salary Expendeture\"]"
   ]
  },
  {
   "cell_type": "markdown",
   "metadata": {},
   "source": [
    "At this point, we've successfully loaded in and processed total appropriations numbers for the New Jersey School districts that had available data. Next, let's take a look at how this feature compares across the LA and NJ school districts."
   ]
  },
  {
   "cell_type": "code",
   "execution_count": 48,
   "metadata": {},
   "outputs": [
    {
     "name": "stdout",
     "output_type": "stream",
     "text": [
      "New Jersey total appropriations: 30940087666.0\n",
      "New Jersey school district count: 581\n",
      "New Jersey average total appropriations: 53253162.9363167\n",
      "\n",
      "Louisiana total appropriations: 6028606000.0\n",
      "Louisiana school district count: 62\n",
      "Louisiana average total appropriations: 97235580.64516129\n",
      "\n",
      "NJ/LA ratio for total appropriations 5.132212598733439\n",
      "NJ/LA ratio for average total appropriations 0.5476715681953067\n"
     ]
    }
   ],
   "source": [
    "nj_app_sum = nj_approp_totals[\"Appropriations\"].sum()\n",
    "print(\"New Jersey total appropriations:\", nj_app_sum)\n",
    "nj_app_count = nj_approp_totals[\"Appropriations\"].count()\n",
    "print(\"New Jersey school district count:\", nj_app_count)\n",
    "nj_app_mean = nj_approp_totals[\"Appropriations\"].mean()\n",
    "print(\"New Jersey average total appropriations:\", nj_app_mean)\n",
    "print()\n",
    "la_app_sum = la_df[\"Total Expendeture\"].sum()\n",
    "print(\"Louisiana total appropriations:\", la_app_sum)\n",
    "la_app_count = la_df[\"Total Expendeture\"].count()\n",
    "print(\"Louisiana school district count:\", la_app_count)\n",
    "la_app_mean = la_df[\"Total Expendeture\"].mean()\n",
    "print(\"Louisiana average total appropriations:\", la_app_mean)\n",
    "print()\n",
    "print(\"NJ/LA ratio for total appropriations\", nj_app_sum/la_app_sum)\n",
    "print(\"NJ/LA ratio for average total appropriations\", nj_app_mean/la_app_mean)"
   ]
  },
  {
   "cell_type": "markdown",
   "metadata": {},
   "source": [
    "From this data, we can see that NJ spends much more money in total, which makes sense considering how many more school districts it has. However, what's interesting is that LA school districts spend, on average, about twice as much as NJ school districts do. This reflects what we found earlier: that LA school districts bring in about 3 times more revenue per school district, on average, than those on NJ. These changes between the statistics are likely a result of the presence of massive outliers within the New Jersey school districts, as seen in the scatter plots throughout this analysis.\n",
    "<br><br>\n",
    "To explore further, let's investigate appropriations and revenue at the same time by computing their difference for each school district; this will be represented by a new \"Monetary Difference\" value. We'll be working with a slightly smaller data set for NJ, as not every school district could be accounted for during data work and processing."
   ]
  },
  {
   "cell_type": "code",
   "execution_count": 49,
   "metadata": {},
   "outputs": [],
   "source": [
    "nj_finances[\"Monetary Difference\"] = nj_finances[\"Total Revenue\"] - nj_finances[\"Appropriations\"]\n",
    "la_df[\"Monetary Difference\"] = la_df[\"Total Revenue\"] - la_df[\"Total Expendeture\"]"
   ]
  },
  {
   "cell_type": "markdown",
   "metadata": {},
   "source": [
    "First, let's use a boxplot to get a sense of how this new value is distributed across each state. A positive value would indicate that more money is being brought in than being spent while a negative value means the reverse, where more money is being spent by the school district than is being brought in (a.k.a. going over budget)."
   ]
  },
  {
   "cell_type": "code",
   "execution_count": 50,
   "metadata": {},
   "outputs": [
    {
     "data": {
      "image/png": "[encoded data removed]",
      "text/plain": [
       "<Figure size 432x288 with 1 Axes>"
      ]
     },
     "metadata": {
      "needs_background": "light"
     },
     "output_type": "display_data"
    }
   ],
   "source": [
    "box = sns.boxplot(data=[nj_finances[\"Monetary Difference\"], la_df[\"Monetary Difference\"]], orient=\"h\").set(\n",
    "    xlabel='$ Monetary Difference', \n",
    "    ylabel='State',\n",
    "    title=\"Monetary Difference Distribution for NJ/LA Public School Districts\"\n",
    ")"
   ]
  },
  {
   "cell_type": "markdown",
   "metadata": {},
   "source": [
    "In New Jersey, it appears that most school districts are over-budget with a good portion being outliers that are __well__ over-budget. In Louisiana, on the other hand, the reverse is true: Most schools are just a bit under-budget with a few leaving lots of room to spare in terms of how much money they could spend.\n",
    "<br><br>\n",
    "Next, let's look at the relationship, if any, between graduation rate and appropriations for each state. To do so, we'll plot each variable combination on a scatter plot, similar to our methodology for investigating revenue and graduation rate:"
   ]
  },
  {
   "cell_type": "code",
   "execution_count": 51,
   "metadata": {},
   "outputs": [
    {
     "data": {
      "text/plain": [
       "<AxesSubplot:title={'center':'New Jersey Data'}, xlabel='Appropriations', ylabel='Graduation Rate'>"
      ]
     },
     "execution_count": 51,
     "metadata": {},
     "output_type": "execute_result"
    },
    {
     "data": {
      "image/png": "[encoded data removed]",
      "text/plain": [
       "<Figure size 1080x360 with 2 Axes>"
      ]
     },
     "metadata": {
      "needs_background": "light"
     },
     "output_type": "display_data"
    }
   ],
   "source": [
    "def adjustSize(size):\n",
    "    return (size**1/600)*10\n",
    "\n",
    "afig,aax = plt.subplots(1,2,figsize = (15,5))\n",
    "# Calculate sizes of plot points, based on total revenue\n",
    "nj_app_sizes = nj_finances[nj_finances[\"Appropriations\"] < .6*1e9][\"Enrollment\"].map(adjustSize)\n",
    "\n",
    "la_df.plot.scatter(x=\"Total Expendeture\", y=\"Graduation Rate\", s=la_sizes, title=\"Louisiana Data\",ax = aax[0])\n",
    "nj_finances[nj_finances[\"Appropriations\"] < .6*1e9].plot.scatter(x=\"Appropriations\", y=\"Graduation Rate\", s=nj_app_sizes, title=\"New Jersey Data\",ax=aax[1])\n"
   ]
  },
  {
   "cell_type": "markdown",
   "metadata": {},
   "source": [
    "Before the investigation, the team expected to find evidence for a positive correlation between appropriations and graduation rate; it would make sense that the school districts that spend the most money on learning supplies and resources would garner the best performance metrics. However, from these plots, little evidence exists to support a strong argument for this relationship between the two variables. In fact, they appear to be negatively correlated, if anything, which is contradictory to what the team expected and similar to the results of the revenue vs. graduation rate plots.\n",
    "<br> <br>\n",
    "Finally, we'll look into whether a relationship exists between monetary difference, or how much a school district goes over/under budget, and graduation rate:"
   ]
  },
  {
   "cell_type": "code",
   "execution_count": 52,
   "metadata": {},
   "outputs": [
    {
     "data": {
      "text/plain": [
       "<AxesSubplot:title={'center':'New Jersey Data'}, xlabel='Monetary Difference', ylabel='Graduation Rate'>"
      ]
     },
     "execution_count": 52,
     "metadata": {},
     "output_type": "execute_result"
    },
    {
     "data": {
      "image/png": "[encoded data removed]",
      "text/plain": [
       "<Figure size 1080x360 with 2 Axes>"
      ]
     },
     "metadata": {
      "needs_background": "light"
     },
     "output_type": "display_data"
    }
   ],
   "source": [
    "def adjustSize(size):\n",
    "    return (size**1/600)*10\n",
    "\n",
    "nj_diff = nj_finances[\"Monetary Difference\"]\n",
    "\n",
    "\n",
    "whisker = (nj_diff.quantile(.75)-nj_diff.quantile(.25)) * 1.5\n",
    "\n",
    "yfig, yax = plt.subplots(1,2,figsize = (15,5))\n",
    "# Calculate sizes of plot points, based on enrollment size\n",
    "\n",
    "nj_app_sizes = nj_finances[\"Enrollment\"].map(adjustSize)\n",
    "\n",
    "la_df.plot.scatter(x=\"Monetary Difference\", y=\"Graduation Rate\", s=la_sizes, title=\"Louisiana Data\",ax=yax[0])\n",
    "\n",
    "nj_finances.plot.scatter(x=\"Monetary Difference\", y=\"Graduation Rate\", s=nj_app_sizes, title=\"New Jersey Data\",ax=yax[1])\n"
   ]
  },
  {
   "cell_type": "markdown",
   "metadata": {},
   "source": [
    "A few observations can be made from the plots above. First, in both plots, the vast majority of school districts are huddled around the 0 value for monetary difference, which makes sense considering school districts likely aim to be on-par with their budget year after year. Those aforementioned districts also feature a variety of graduation rates, from a couple in the 70% range to nearly 95-100%. As the monetary values grow further from that center point, though, the graduation rate tends to move downward in both plots, albeit in different directions.\n",
    "<br>\n",
    "it can be argued that this distribution of the data makes sense in both cases..."
   ]
  },
  {
   "cell_type": "markdown",
   "metadata": {},
   "source": [
    "## MODEL"
   ]
  },
  {
   "cell_type": "code",
   "execution_count": 53,
   "metadata": {},
   "outputs": [],
   "source": [
    "def avoid_nan(x):\n",
    "    if pd.isna(x) == False:\n",
    "        return float(x)\n",
    "    return x\n",
    "\n",
    "def tofloat(x):\n",
    "    return float(x[:-2])"
   ]
  },
  {
   "cell_type": "code",
   "execution_count": 54,
   "metadata": {},
   "outputs": [],
   "source": [
    "nj_student_ratio = pd.read_csv(r'StudentToStaffRatio.csv')\n",
    "nj_student_ratio = nj_student_ratio[:-1] #drop last row because bad data\n",
    "nj_student_ratio[\"TeacherRatio\"] = nj_student_ratio[\"TeacherRatio\"].apply(tofloat)\n",
    "nj_district_code_translate = pd.read_csv(r'DistrictHeader.csv')\n",
    "nj_district_code_translate.columns\n",
    "nj_student_ratio[\"DistrictCode\"] = nj_student_ratio[\"DistrictCode\"].apply(avoid_nan)\n",
    "nj_student_ratio = nj_student_ratio.merge(nj_district_code_translate,on= \"DistrictCode\",how=\"outer\")\n",
    "nj_student_ratio.head()\n",
    "nj_student_ratio = nj_student_ratio.drop(columns = [\n",
    "    \"CountyCode\",\n",
    "    \"DistrictCode\",\n",
    "    \"AdministratorsRatio\",\n",
    "    \"LibrarianMediaSpecialistsRatioDistrict\",\n",
    "    \"NursesRatioDistrict\",\n",
    "    \"CounselorsRatioDistrict\",\n",
    "    \"ChildStudyTeamRatioDistrict\",\n",
    "    \"COUNTY_CODE\",\n",
    "    \"COUNTY_NAME\",\n",
    "    \"GRADESPAN\"\n",
    "])"
   ]
  },
  {
   "cell_type": "code",
   "execution_count": 55,
   "metadata": {},
   "outputs": [],
   "source": [
    "nj_student_ratio.rename(columns={\"DISTRICT_NAME\":\"District\"}, inplace=True)\n",
    "nj_finances = nj_finances.merge(nj_student_ratio, on=\"District\",how=\"inner\")"
   ]
  },
  {
   "cell_type": "code",
   "execution_count": 56,
   "metadata": {},
   "outputs": [],
   "source": [
    "nj_finances = nj_finances.dropna()"
   ]
  },
  {
   "cell_type": "code",
   "execution_count": 57,
   "metadata": {},
   "outputs": [],
   "source": [
    "from sklearn.neighbors import KNeighborsRegressor\n",
    "import math\n",
    "features = [\n",
    "            \"Appropriations\",\n",
    "            \"Total Revenue\",\n",
    "            \"Enrollment\",\n",
    "            \"TeacherRatio\"            \n",
    "            ]\n",
    "\n",
    "X_train = pd.get_dummies(nj_finances[features])\n",
    "\n",
    "X_train_mean = X_train.mean()\n",
    "X_train_std = X_train.std()\n",
    "X_train_sc = (X_train - X_train_mean) / X_train_std\n",
    "\n",
    "y_train = nj_finances[\"Graduation Rate\"]\n",
    "\n",
    "k = math.ceil(math.sqrt(len(nj_combo))) #accepted value of k is sqrt(N) where N is number of training points.\n",
    "model = KNeighborsRegressor(n_neighbors=k)\n",
    "\n",
    "\n",
    "pred_dict = {}\n",
    "for i,row in la_df.iterrows():\n",
    "    x_new = pd.Series(index=X_train.columns, dtype=float)\n",
    "    x_new[\"Appropriations\"] = row[\"Total Expendeture\"]\n",
    "    x_new[\"Total Revenue\"] = row[\"Total Revenue\"]\n",
    "    x_new[\"Enrollment\"] = row[\"Total Students\"]\n",
    "    x_new[\"TeacherRatio\"] = row[\"Pupil/Teacher Ratio\"]\n",
    "    # ...\n",
    "    x_new.fillna(0, inplace=True)\n",
    "    x_new_sc = (x_new - X_train_mean) / X_train_std\n",
    "    model.fit(X_train_sc, y_train)\n",
    "    \n",
    "    X_new_sc = x_new_sc.to_frame().T\n",
    "    output = model.predict(X_new_sc)\n",
    "    pred_dict[row[\"Parish\"]] = output[0]"
   ]
  },
  {
   "cell_type": "code",
   "execution_count": 58,
   "metadata": {},
   "outputs": [
    {
     "data": {
      "image/png": "[encoded data removed]",
      "text/plain": [
       "<Figure size 360x1080 with 1 Axes>"
      ]
     },
     "metadata": {
      "needs_background": "light"
     },
     "output_type": "display_data"
    }
   ],
   "source": [
    "pred_lst = pred_dict.items()\n",
    "\n",
    "pred_x,pred_y = zip(*pred_lst)\n",
    "\n",
    "plt.figure(figsize=(5,15))\n",
    "plt.barh(pred_x,pred_y, label=\"Predicted Grad Rate\")\n",
    "plt.barh(la_df[\"Parish\"], la_df[\"Graduation Rate\"],alpha=.5, label=\"Actual Grad Rate\")\n",
    "plt.legend()\n",
    "plt.title(\"LA schools predicted grad rate based on NJ training data\")\n",
    "plt.show()"
   ]
  },
  {
   "cell_type": "markdown",
   "metadata": {},
   "source": [
    "Now that we know that these factors are not all that affects graduation rates, it raises the question which factors do? Let us plot parish/districts along with thier graduation rates to see if there are any paterns that emerge."
   ]
  },
  {
   "cell_type": "code",
   "execution_count": 59,
   "metadata": {},
   "outputs": [],
   "source": [
    "la_shp = \"la_coords/cb_2017_22_unsd_500k.shp\" #read in shp data\n",
    "la_coords_df = gpd.read_file(la_shp)\n",
    "\n",
    "nj_shp = \"nj_coords/School_Districts_-_Unified_for_New_Jersey.shp\"\n",
    "nj_coords_df = gpd.read_file(nj_shp)"
   ]
  },
  {
   "cell_type": "code",
   "execution_count": 60,
   "metadata": {},
   "outputs": [
    {
     "data": {
      "text/html": [
       "<div>\n",
       "<style scoped>\n",
       "    .dataframe tbody tr th:only-of-type {\n",
       "        vertical-align: middle;\n",
       "    }\n",
       "\n",
       "    .dataframe tbody tr th {\n",
       "        vertical-align: top;\n",
       "    }\n",
       "\n",
       "    .dataframe thead th {\n",
       "        text-align: right;\n",
       "    }\n",
       "</style>\n",
       "<table border=\"1\" class=\"dataframe\">\n",
       "  <thead>\n",
       "    <tr style=\"text-align: right;\">\n",
       "      <th></th>\n",
       "      <th>OBJECTID</th>\n",
       "      <th>NJDOE_ID_U</th>\n",
       "      <th>DIST_NAME</th>\n",
       "      <th>UNSDLEA</th>\n",
       "      <th>SD_TYPE</th>\n",
       "      <th>GEOID</th>\n",
       "      <th>SHAPE_Leng</th>\n",
       "      <th>SHAPE_Area</th>\n",
       "      <th>geometry</th>\n",
       "    </tr>\n",
       "  </thead>\n",
       "  <tbody>\n",
       "    <tr>\n",
       "      <th>0</th>\n",
       "      <td>1</td>\n",
       "      <td>31-0900</td>\n",
       "      <td>Clifton Public School District</td>\n",
       "      <td>03300</td>\n",
       "      <td>U</td>\n",
       "      <td>3403300</td>\n",
       "      <td>93587.550073</td>\n",
       "      <td>3.185731e+08</td>\n",
       "      <td>POLYGON ((586200.830 748865.950, 586207.500 74...</td>\n",
       "    </tr>\n",
       "    <tr>\n",
       "      <th>1</th>\n",
       "      <td>2</td>\n",
       "      <td>31-4010</td>\n",
       "      <td>Paterson Public School District</td>\n",
       "      <td>12690</td>\n",
       "      <td>U</td>\n",
       "      <td>3412690</td>\n",
       "      <td>72340.892571</td>\n",
       "      <td>2.423302e+08</td>\n",
       "      <td>POLYGON ((593721.253 761150.470, 593752.120 76...</td>\n",
       "    </tr>\n",
       "    <tr>\n",
       "      <th>2</th>\n",
       "      <td>3</td>\n",
       "      <td>23-4090</td>\n",
       "      <td>Perth Amboy Public School District</td>\n",
       "      <td>12930</td>\n",
       "      <td>U</td>\n",
       "      <td>3412930</td>\n",
       "      <td>56665.046535</td>\n",
       "      <td>1.442618e+08</td>\n",
       "      <td>POLYGON ((557560.957 622772.385, 557527.360 62...</td>\n",
       "    </tr>\n",
       "    <tr>\n",
       "      <th>3</th>\n",
       "      <td>4</td>\n",
       "      <td>23-4660</td>\n",
       "      <td>Sayreville School District</td>\n",
       "      <td>14640</td>\n",
       "      <td>U</td>\n",
       "      <td>3414640</td>\n",
       "      <td>152811.145696</td>\n",
       "      <td>4.901217e+08</td>\n",
       "      <td>POLYGON ((550048.370 610031.392, 550079.007 61...</td>\n",
       "    </tr>\n",
       "    <tr>\n",
       "      <th>4</th>\n",
       "      <td>5</td>\n",
       "      <td>41-1840</td>\n",
       "      <td>Greenwich Township School District</td>\n",
       "      <td>06210</td>\n",
       "      <td>U</td>\n",
       "      <td>3406210</td>\n",
       "      <td>75613.395351</td>\n",
       "      <td>2.953442e+08</td>\n",
       "      <td>POLYGON ((330502.198 668920.149, 331159.582 66...</td>\n",
       "    </tr>\n",
       "  </tbody>\n",
       "</table>\n",
       "</div>"
      ],
      "text/plain": [
       "   OBJECTID NJDOE_ID_U                           DIST_NAME UNSDLEA SD_TYPE  \\\n",
       "0         1    31-0900      Clifton Public School District   03300       U   \n",
       "1         2    31-4010     Paterson Public School District   12690       U   \n",
       "2         3    23-4090  Perth Amboy Public School District   12930       U   \n",
       "3         4    23-4660          Sayreville School District   14640       U   \n",
       "4         5    41-1840  Greenwich Township School District   06210       U   \n",
       "\n",
       "     GEOID     SHAPE_Leng    SHAPE_Area  \\\n",
       "0  3403300   93587.550073  3.185731e+08   \n",
       "1  3412690   72340.892571  2.423302e+08   \n",
       "2  3412930   56665.046535  1.442618e+08   \n",
       "3  3414640  152811.145696  4.901217e+08   \n",
       "4  3406210   75613.395351  2.953442e+08   \n",
       "\n",
       "                                            geometry  \n",
       "0  POLYGON ((586200.830 748865.950, 586207.500 74...  \n",
       "1  POLYGON ((593721.253 761150.470, 593752.120 76...  \n",
       "2  POLYGON ((557560.957 622772.385, 557527.360 62...  \n",
       "3  POLYGON ((550048.370 610031.392, 550079.007 61...  \n",
       "4  POLYGON ((330502.198 668920.149, 331159.582 66...  "
      ]
     },
     "execution_count": 60,
     "metadata": {},
     "output_type": "execute_result"
    }
   ],
   "source": [
    "nj_coords_df.head()"
   ]
  },
  {
   "cell_type": "code",
   "execution_count": 61,
   "metadata": {},
   "outputs": [],
   "source": [
    "def filter_parish(entry):\n",
    "    entry = get_lower(entry)\n",
    "    return re.sub(r\" parish school district\", r\"\", entry)\n",
    "\n",
    "def filter_dist(entry):\n",
    "    entry = entry.upper()\n",
    "    entry = re.sub(r\" PUBLIC\", r\"\", entry)\n",
    "    entry = re.sub(r\" SCHOOL\", r\"\", entry)\n",
    "    entry = re.sub(r\" DISTRICT\", r\"\", entry)\n",
    "    return entry"
   ]
  },
  {
   "cell_type": "code",
   "execution_count": 62,
   "metadata": {},
   "outputs": [],
   "source": [
    "la_coords_df[\"NAME\"] = la_coords_df[\"NAME\"].apply(filter_parish)\n",
    "nj_coords_df[\"DIST_NAME\"] = nj_coords_df[\"DIST_NAME\"].apply(filter_dist)"
   ]
  },
  {
   "cell_type": "code",
   "execution_count": 63,
   "metadata": {},
   "outputs": [],
   "source": [
    "la_coords_df = la_coords_df.merge(la_df, left_on=\"NAME\", right_on=\"Parish\", how=\"left\")\n",
    "nj_coords_df = nj_coords_df.merge(nj_finances, left_on=\"DIST_NAME\", right_on=\"District\", how=\"left\")"
   ]
  },
  {
   "cell_type": "code",
   "execution_count": 64,
   "metadata": {},
   "outputs": [
    {
     "data": {
      "text/html": [
       "<div>\n",
       "<style scoped>\n",
       "    .dataframe tbody tr th:only-of-type {\n",
       "        vertical-align: middle;\n",
       "    }\n",
       "\n",
       "    .dataframe tbody tr th {\n",
       "        vertical-align: top;\n",
       "    }\n",
       "\n",
       "    .dataframe thead th {\n",
       "        text-align: right;\n",
       "    }\n",
       "</style>\n",
       "<table border=\"1\" class=\"dataframe\">\n",
       "  <thead>\n",
       "    <tr style=\"text-align: right;\">\n",
       "      <th></th>\n",
       "      <th>OBJECTID</th>\n",
       "      <th>NJDOE_ID_U</th>\n",
       "      <th>DIST_NAME</th>\n",
       "      <th>UNSDLEA</th>\n",
       "      <th>SD_TYPE</th>\n",
       "      <th>GEOID</th>\n",
       "      <th>SHAPE_Leng</th>\n",
       "      <th>SHAPE_Area</th>\n",
       "      <th>geometry</th>\n",
       "      <th>District</th>\n",
       "      <th>Graduation Rate</th>\n",
       "      <th>FOUR_YR_ADJ_COHORT_COUNT</th>\n",
       "      <th>GRADUATED_COUNT</th>\n",
       "      <th>Total Revenue</th>\n",
       "      <th>Enrollment</th>\n",
       "      <th>Revenue per Pupil</th>\n",
       "      <th>log(rev/pupil)</th>\n",
       "      <th>Appropriations</th>\n",
       "      <th>Monetary Difference</th>\n",
       "      <th>TeacherRatio</th>\n",
       "    </tr>\n",
       "  </thead>\n",
       "  <tbody>\n",
       "    <tr>\n",
       "      <th>0</th>\n",
       "      <td>1</td>\n",
       "      <td>31-0900</td>\n",
       "      <td>CLIFTON</td>\n",
       "      <td>03300</td>\n",
       "      <td>U</td>\n",
       "      <td>3403300</td>\n",
       "      <td>93587.550073</td>\n",
       "      <td>3.185731e+08</td>\n",
       "      <td>POLYGON ((586200.830 748865.950, 586207.500 74...</td>\n",
       "      <td>NaN</td>\n",
       "      <td>NaN</td>\n",
       "      <td>NaN</td>\n",
       "      <td>NaN</td>\n",
       "      <td>NaN</td>\n",
       "      <td>NaN</td>\n",
       "      <td>NaN</td>\n",
       "      <td>NaN</td>\n",
       "      <td>NaN</td>\n",
       "      <td>NaN</td>\n",
       "      <td>NaN</td>\n",
       "    </tr>\n",
       "    <tr>\n",
       "      <th>1</th>\n",
       "      <td>2</td>\n",
       "      <td>31-4010</td>\n",
       "      <td>PATERSON</td>\n",
       "      <td>12690</td>\n",
       "      <td>U</td>\n",
       "      <td>3412690</td>\n",
       "      <td>72340.892571</td>\n",
       "      <td>2.423302e+08</td>\n",
       "      <td>POLYGON ((593721.253 761150.470, 593752.120 76...</td>\n",
       "      <td>NaN</td>\n",
       "      <td>NaN</td>\n",
       "      <td>NaN</td>\n",
       "      <td>NaN</td>\n",
       "      <td>NaN</td>\n",
       "      <td>NaN</td>\n",
       "      <td>NaN</td>\n",
       "      <td>NaN</td>\n",
       "      <td>NaN</td>\n",
       "      <td>NaN</td>\n",
       "      <td>NaN</td>\n",
       "    </tr>\n",
       "    <tr>\n",
       "      <th>2</th>\n",
       "      <td>3</td>\n",
       "      <td>23-4090</td>\n",
       "      <td>PERTH AMBOY</td>\n",
       "      <td>12930</td>\n",
       "      <td>U</td>\n",
       "      <td>3412930</td>\n",
       "      <td>56665.046535</td>\n",
       "      <td>1.442618e+08</td>\n",
       "      <td>POLYGON ((557560.957 622772.385, 557527.360 62...</td>\n",
       "      <td>NaN</td>\n",
       "      <td>NaN</td>\n",
       "      <td>NaN</td>\n",
       "      <td>NaN</td>\n",
       "      <td>NaN</td>\n",
       "      <td>NaN</td>\n",
       "      <td>NaN</td>\n",
       "      <td>NaN</td>\n",
       "      <td>NaN</td>\n",
       "      <td>NaN</td>\n",
       "      <td>NaN</td>\n",
       "    </tr>\n",
       "    <tr>\n",
       "      <th>3</th>\n",
       "      <td>4</td>\n",
       "      <td>23-4660</td>\n",
       "      <td>SAYREVILLE</td>\n",
       "      <td>14640</td>\n",
       "      <td>U</td>\n",
       "      <td>3414640</td>\n",
       "      <td>152811.145696</td>\n",
       "      <td>4.901217e+08</td>\n",
       "      <td>POLYGON ((550048.370 610031.392, 550079.007 61...</td>\n",
       "      <td>NaN</td>\n",
       "      <td>NaN</td>\n",
       "      <td>NaN</td>\n",
       "      <td>NaN</td>\n",
       "      <td>NaN</td>\n",
       "      <td>NaN</td>\n",
       "      <td>NaN</td>\n",
       "      <td>NaN</td>\n",
       "      <td>NaN</td>\n",
       "      <td>NaN</td>\n",
       "      <td>NaN</td>\n",
       "    </tr>\n",
       "    <tr>\n",
       "      <th>4</th>\n",
       "      <td>5</td>\n",
       "      <td>41-1840</td>\n",
       "      <td>GREENWICH TOWNSHIP</td>\n",
       "      <td>06210</td>\n",
       "      <td>U</td>\n",
       "      <td>3406210</td>\n",
       "      <td>75613.395351</td>\n",
       "      <td>2.953442e+08</td>\n",
       "      <td>POLYGON ((330502.198 668920.149, 331159.582 66...</td>\n",
       "      <td>NaN</td>\n",
       "      <td>NaN</td>\n",
       "      <td>NaN</td>\n",
       "      <td>NaN</td>\n",
       "      <td>NaN</td>\n",
       "      <td>NaN</td>\n",
       "      <td>NaN</td>\n",
       "      <td>NaN</td>\n",
       "      <td>NaN</td>\n",
       "      <td>NaN</td>\n",
       "      <td>NaN</td>\n",
       "    </tr>\n",
       "  </tbody>\n",
       "</table>\n",
       "</div>"
      ],
      "text/plain": [
       "   OBJECTID NJDOE_ID_U           DIST_NAME UNSDLEA SD_TYPE    GEOID  \\\n",
       "0         1    31-0900             CLIFTON   03300       U  3403300   \n",
       "1         2    31-4010            PATERSON   12690       U  3412690   \n",
       "2         3    23-4090         PERTH AMBOY   12930       U  3412930   \n",
       "3         4    23-4660          SAYREVILLE   14640       U  3414640   \n",
       "4         5    41-1840  GREENWICH TOWNSHIP   06210       U  3406210   \n",
       "\n",
       "      SHAPE_Leng    SHAPE_Area  \\\n",
       "0   93587.550073  3.185731e+08   \n",
       "1   72340.892571  2.423302e+08   \n",
       "2   56665.046535  1.442618e+08   \n",
       "3  152811.145696  4.901217e+08   \n",
       "4   75613.395351  2.953442e+08   \n",
       "\n",
       "                                            geometry District  \\\n",
       "0  POLYGON ((586200.830 748865.950, 586207.500 74...      NaN   \n",
       "1  POLYGON ((593721.253 761150.470, 593752.120 76...      NaN   \n",
       "2  POLYGON ((557560.957 622772.385, 557527.360 62...      NaN   \n",
       "3  POLYGON ((550048.370 610031.392, 550079.007 61...      NaN   \n",
       "4  POLYGON ((330502.198 668920.149, 331159.582 66...      NaN   \n",
       "\n",
       "   Graduation Rate  FOUR_YR_ADJ_COHORT_COUNT  GRADUATED_COUNT  Total Revenue  \\\n",
       "0              NaN                       NaN              NaN            NaN   \n",
       "1              NaN                       NaN              NaN            NaN   \n",
       "2              NaN                       NaN              NaN            NaN   \n",
       "3              NaN                       NaN              NaN            NaN   \n",
       "4              NaN                       NaN              NaN            NaN   \n",
       "\n",
       "   Enrollment  Revenue per Pupil  log(rev/pupil)  Appropriations  \\\n",
       "0         NaN                NaN             NaN             NaN   \n",
       "1         NaN                NaN             NaN             NaN   \n",
       "2         NaN                NaN             NaN             NaN   \n",
       "3         NaN                NaN             NaN             NaN   \n",
       "4         NaN                NaN             NaN             NaN   \n",
       "\n",
       "   Monetary Difference  TeacherRatio  \n",
       "0                  NaN           NaN  \n",
       "1                  NaN           NaN  \n",
       "2                  NaN           NaN  \n",
       "3                  NaN           NaN  \n",
       "4                  NaN           NaN  "
      ]
     },
     "execution_count": 64,
     "metadata": {},
     "output_type": "execute_result"
    }
   ],
   "source": [
    "nj_coords_df.head()"
   ]
  },
  {
   "cell_type": "code",
   "execution_count": 65,
   "metadata": {},
   "outputs": [
    {
     "data": {
      "image/png": "[encoded data removed]",
      "text/plain": [
       "<Figure size 1440x720 with 4 Axes>"
      ]
     },
     "metadata": {
      "needs_background": "light"
     },
     "output_type": "display_data"
    }
   ],
   "source": [
    "fig,ax = plt.subplots(1,2,figsize = (20,10))\n",
    "\n",
    "la_coords_df.plot(column=\"Graduation Rate\", cmap = 'Blues', linewidth=1, ax=ax[0],edgecolor = '0.8',legend=True)\n",
    "nj_coords_df.plot(column=\"Graduation Rate\", cmap = 'Greens', linewidth=1, ax=ax[1],edgecolor = '0.8',legend=True)\n",
    "ax[0].set_axis_off()\n",
    "ax[1].set_axis_off()\n",
    "\n",
    "ax[0].set_title(\"Graduation Rates by Parish\",loc=\"center\")\n",
    "ax[1].set_title(\"Graduation Rates by Disrict\",loc=\"center\")\n",
    "\n",
    "plt.show()"
   ]
  },
  {
   "cell_type": "markdown",
   "metadata": {},
   "source": [
    "Even though most data is missing in New Jersey and some in Louisiana (in white), with the data that is represented there does not seem to be any relation between graduation rate and location. Future exploration could focus on the search for the factors that are most influencial to a child's education."
   ]
  },
  {
   "cell_type": "markdown",
   "metadata": {},
   "source": [
    "___\n",
    "## Closing Thoughts and Final Goals:\n",
    "\n",
    "So far, little has been found in terms of correlation between funding and academic performance of school districts. The team has found this to be surprising, especially considering this was found across both data sets. While strange, this information could be used to pinpoint school districts that may be collecting a strong amount of money, only to spend it in an irresponsible way. More investigation could be further complete to detemrine why school districts with high funding amounts are underperforming in both states, and vise-versa.\n",
    "\n",
    "As a result of the initial exploratory data analysis completed on data sets relating to financial information and academic performance of both New Jersey and Louisiana school districts, the team has deteremined new questions to consider in the future:\n",
    "\n",
    "- **What relationships exist between variables of financial, or otherwise demographic, data and academic performance of school districts?**\n",
    "    - i.e. does student/teacher ratio, diversity, or enrollment size relate to academic performance?\n",
    "- **If a relationship is found, can the team predict the relative academic performances of the school districts of states, given the relevant data?**\n",
    "\n",
    "For these questions, we are looking to test whether academic performance is dependent on other aspects of school districts. Other ways the team plans on testing for relationships is by numerically calculating $r^2$ values and other statistics that represent the strength of relationships between two variables.\n",
    "\n",
    "It's vital that the team continues to test new attributes the school districts in search for relevant relationships. Even if none are found, however, it should be interesting to note the absence of such relationships when testing variables that are expected to relate to one another.</br> </br>\n",
    "\n",
    "The team's next steps primarily involve three main strategies:\n",
    "- **Test new financial, identity, demographic, or other attributes of each school district and compare them to academic performance**\n",
    "- **Determine more methods to evaluate student performance, beyond average ACT score and 4-year graduation rate**\n",
    "- **If necessary, supplement data with more states to confirm results found**"
   ]
  },
  {
   "cell_type": "code",
   "execution_count": 69,
   "metadata": {},
   "outputs": [
    {
     "name": "stdout",
     "output_type": "stream",
     "text": [
      "[NbConvertApp] Converting notebook Final_Tutorial.ipynb to html\n",
      "[NbConvertApp] Writing 1374392 bytes to Final_Tutorial.html\n"
     ]
    }
   ],
   "source": [
    "!jupyter nbconvert --to html Final_Tutorial.ipynb "
   ]
  },
  {
   "cell_type": "code",
   "execution_count": null,
   "metadata": {},
   "outputs": [],
   "source": []
  }
 ],
 "metadata": {
  "interpreter": {
   "hash": "4bd3767b9a68b1809be1a8a3b2146e6067673f8776213bfbf5c8fe8ac7d04b67"
  },
  "kernelspec": {
   "display_name": "Python 3 (ipykernel)",
   "language": "python",
   "name": "python3"
  },
  "language_info": {
   "codemirror_mode": {
    "name": "ipython",
    "version": 3
   },
   "file_extension": ".py",
   "mimetype": "text/x-python",
   "name": "python",
   "nbconvert_exporter": "python",
   "pygments_lexer": "ipython3",
   "version": "3.8.8"
  }
 },
 "nbformat": 4,
 "nbformat_minor": 2
}
