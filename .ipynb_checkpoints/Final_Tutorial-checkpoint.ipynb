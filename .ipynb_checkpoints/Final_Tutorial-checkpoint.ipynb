{
 "cells": [
  {
   "cell_type": "markdown",
   "metadata": {},
   "source": [
    "# [https://nickouellet.github.io](https://nickouellet.github.io)"
   ]
  },
  {
   "cell_type": "markdown",
   "metadata": {},
   "source": [
    "# Nick Ouellet and Garrett Gilliom"
   ]
  },
  {
   "cell_type": "markdown",
   "metadata": {},
   "source": [
    "# Investigating K-12 Academic Performance Based on District Data"
   ]
  },
  {
   "cell_type": "markdown",
   "metadata": {},
   "source": [
    "## Project Goals\n",
    "The team, **Nick Ouellet and Garrett Gilliom**, will be investigating data sets related to public school districts that measure student, faculty, and staff demographics, school district academic performance and finances, and more. So far, the team has come across two data sets for Louisiana school districts and many more for New Jersey school districts. Collectively, the data measures different variables and attributes of each state's school districts across the same year; the data is also well-populated and taken from each state's Department of Education, which is a reputable source.\n",
    "\n",
    "The following tutorial will investigate the following questions:\n",
    "- **What relationships exist between variables of financial, or otherwise demographic, data and the academic performance of school districts?** Examples:\n",
    "    * How important a role does teacher compensation play in testing scores?\n",
    "    * Is overall funding or spending of school district at all indicative of its academic performance?\n",
    "    * Which areas are most effective at promoting successful test scores? For example, does allocating money to extracurriculars like sports aid or hinder testing scores?\n",
    "- **Louisiana is consistently ranked as a low-performing state, education-wise. What differences exist between Louisiana and other high-performaing states that may highlight why Louisiana is ranked as such?**\n",
    "- **Can data from one or a small group of states allow for the prediction of academic performance of other states' school districts?**\n",
    "\n",
    "### Collaboration Plan\n",
    "The team plans to meet once a week to work on this project to finalize our project vision, determine objectives, and assist each other where necessary. We will also be communicating thoroughly over text messages to keep each other updated with task progress and will be using Google Docs to keep an ongoing list of to-do items that’s accessible by each of us at all times. The team has also set up a shared Github repository to store, coordinate, and update our code."
   ]
  },
  {
   "cell_type": "code",
   "execution_count": 1,
   "metadata": {},
   "outputs": [
    {
     "ename": "ModuleNotFoundError",
     "evalue": "No module named 'geopandas'",
     "output_type": "error",
     "traceback": [
      "\u001b[0;31m---------------------------------------------------------------------------\u001b[0m",
      "\u001b[0;31mModuleNotFoundError\u001b[0m                       Traceback (most recent call last)",
      "\u001b[0;32m/var/folders/k6/q1kyrwrd2h399jd7zf2kq80w0000gn/T/ipykernel_15643/2892847329.py\u001b[0m in \u001b[0;36m<module>\u001b[0;34m\u001b[0m\n\u001b[1;32m      5\u001b[0m \u001b[0;32mimport\u001b[0m \u001b[0mseaborn\u001b[0m \u001b[0;32mas\u001b[0m \u001b[0msns\u001b[0m\u001b[0;34m\u001b[0m\u001b[0;34m\u001b[0m\u001b[0m\n\u001b[1;32m      6\u001b[0m \u001b[0;31m#import shapefile as shp\u001b[0m\u001b[0;34m\u001b[0m\u001b[0;34m\u001b[0m\u001b[0;34m\u001b[0m\u001b[0m\n\u001b[0;32m----> 7\u001b[0;31m \u001b[0;32mimport\u001b[0m \u001b[0mgeopandas\u001b[0m \u001b[0;32mas\u001b[0m \u001b[0mgpd\u001b[0m\u001b[0;34m\u001b[0m\u001b[0;34m\u001b[0m\u001b[0m\n\u001b[0m\u001b[1;32m      8\u001b[0m \u001b[0mpd\u001b[0m\u001b[0;34m.\u001b[0m\u001b[0mset_option\u001b[0m\u001b[0;34m(\u001b[0m\u001b[0;34m\"display.max_rows\"\u001b[0m\u001b[0;34m,\u001b[0m \u001b[0;32mNone\u001b[0m\u001b[0;34m,\u001b[0m \u001b[0;34m\"display.max_columns\"\u001b[0m\u001b[0;34m,\u001b[0m \u001b[0;32mNone\u001b[0m\u001b[0;34m)\u001b[0m\u001b[0;34m\u001b[0m\u001b[0;34m\u001b[0m\u001b[0m\n",
      "\u001b[0;31mModuleNotFoundError\u001b[0m: No module named 'geopandas'"
     ]
    }
   ],
   "source": [
    "import pandas as pd \n",
    "import numpy as np\n",
    "import re\n",
    "import matplotlib.pyplot as plt\n",
    "import seaborn as sns\n",
    "import shapefile as shp\n",
    "import geopandas as gpd\n",
    "pd.set_option(\"display.max_rows\", None, \"display.max_columns\", None)"
   ]
  },
  {
   "cell_type": "markdown",
   "metadata": {},
   "source": [
    "## Louisiana: Initial Investigation"
   ]
  },
  {
   "cell_type": "markdown",
   "metadata": {},
   "source": [
    "## Louisiana Data: Finances\n",
    "This first table is from the [U.S. Department of Education National Center for Education Statistics Common Code of Data (CCD)](https://nces.ed.gov/ccd/elsi/tableGenerator.aspx). Their website allows users to make specific queries to their database to get personalized data; the team opted to focus on 2016-2017 data on Louisiana public school districts, each of which is its own observation and row, and included nearly all variable measurements to be included for each district, including diversity levels within the district, pupil/teacher ratio, total revenue from different sources, and expenditures. The team chose this data set because it provides data on many points and variables that may be relevant upon further investigation; the years chosen were also found to be relatively well-populated and up-to-date."
   ]
  },
  {
   "cell_type": "code",
   "execution_count": null,
   "metadata": {},
   "outputs": [],
   "source": [
    "info_df = pd.read_csv(r'LA_districts_2017.csv') #import financial/teacher/pupil info per district of LA\n",
    "info_df.head()"
   ]
  },
  {
   "cell_type": "markdown",
   "metadata": {},
   "source": [
    "This data table not only includes parish (equivalent to districts) information, but information about each school. Because we only wish to study parish data, we will drop the rest of the columns."
   ]
  },
  {
   "cell_type": "code",
   "execution_count": null,
   "metadata": {},
   "outputs": [],
   "source": [
    "def check_parish(entry):\n",
    "    if re.search(r'PARISH',entry) == None:\n",
    "        return \"not a parish\"\n",
    "    return entry"
   ]
  },
  {
   "cell_type": "code",
   "execution_count": null,
   "metadata": {},
   "outputs": [],
   "source": [
    "info_df['Agency Name'] = info_df['Agency Name'].apply(check_parish) #mark all entries that are no parishes\n",
    "info_df = info_df[info_df[\"Agency Name\"] != \"not a parish\"]\n",
    "print(len(info_df)) #we know we have succedded because there are 64 entries and 64 parishes in LA"
   ]
  },
  {
   "cell_type": "markdown",
   "metadata": {},
   "source": [
    "We are only studying Louisiana schools, so will will drop the columns that give us redundant data (namely 'State Name [District] Latest available year' and 'State Name [District] 2016-17'). We will also drop 'Agency Name [District]' column because we already are representing that info and 'Agency Type [District] 2016-17' because we know we are only dealing with districts."
   ]
  },
  {
   "cell_type": "code",
   "execution_count": null,
   "metadata": {},
   "outputs": [],
   "source": [
    "info_df.drop(columns = [\"State Name [District] Latest available year\", \"State Name [District] 2016-17\", \"Agency Name [District] 2016-17\",\"Agency Type [District] 2016-17\"], inplace = True)\n",
    "info_df = info_df.reset_index(drop=True) #reset the numberical index to be 0-63 to accomidate for dropped rows\n"
   ]
  },
  {
   "cell_type": "markdown",
   "metadata": {},
   "source": [
    "Now we will rename certain columns to remove excess wording."
   ]
  },
  {
   "cell_type": "code",
   "execution_count": null,
   "metadata": {},
   "outputs": [],
   "source": [
    "info_df = info_df.rename(columns = { \"Agency Name\": \"Parish\",\n",
    "                                     \"Total Students All Grades (Includes AE) [District] 2016-17\":\"Total Students\",\n",
    "                                     'Male Students [District] 2016-17': \"Male Students\",\n",
    "                                     'Female Students [District] 2016-17':\"Female Students\", \n",
    "                                     'American Indian/Alaska Native - male [District] 2016-17': 'American Indian/Alaska Native - Male',\n",
    "                                     \"American Indian/Alaska Native - female [District] 2016-17\": \"American Indian/Alaska Native - Female\",\n",
    "                                     'Asian or Asian/Pacific Islander - male [District] 2016-17':\"Asian or Asian/Pacific Islander - Male\",\n",
    "                                     'Asian or Asian/Pacific Islander - female [District] 2016-17': \"Asian or Asian/Pacific Islander - Female\",\n",
    "                                     \"Total General Revenue (TOTALREV) [District Finance] 2016-17\": \"Total Revenue\",\n",
    "                                     \"Total Revenue - Federal Sources (TFEDREV) [District Finance] 2016-17\": \"Federal Revenue\", \n",
    "                                     \"Total Revenue - State Sources (TSTREV) [District Finance] 2016-17\": \"State Revenue\", \n",
    "                                     \"Total Revenue - Local Sources (TLOCREV) [District Finance] 2016-17\": \"Local Revenue\",\n",
    "                                     \"Total Revenue (TOTALREV) per Pupil (V33) [District Finance] 2016-17\": \"Revenue per Pupil\", \n",
    "                                     \"Instruction Expenditures - Total (E13) [District Finance] 2016-17\": \"Instruction Expendeture\", \n",
    "                                     \"Salary - Instruction Expenditures (Z33) [District Finance] 2016-17\": \"Salary Expendeture\", \n",
    "                                     'Hispanic - male [District] 2016-17': \"Hispanic - Male\",\n",
    "                                    'Hispanic - female [District] 2016-17':\"Hispanic - Female\",\n",
    "                                    'Black or African American - male [District] 2016-17':\"Black or African American - Male\",\n",
    "                                    'Black or African American - female [District] 2016-17':\"Black or African American - Female\",\n",
    "                                    'White - male [District] 2016-17':\"White - Male\",\n",
    "                                    'White - female [District] 2016-17':\"White - Female\",\n",
    "                                    'Nat. Hawaiian or Other Pacific Isl. - male [District] 2016-17':\"Nat. Hawaiian or Other Pacific Isl. - Male\",\n",
    "                                    'Nat. Hawaiian or Other Pacific Isl. - female [District] 2016-17':\"Nat. Hawaiian or Other Pacific Isl. - Female\",\n",
    "                                    'Two or More Races - male [District] 2016-17':\"Two or More Races - Male\",\n",
    "                                    'Two or More Races - female [District] 2016-17':\"Two or More Races - Female\",\n",
    "                                    'Full-Time Equivalent (FTE) Teachers [District] 2016-17':\"Full-Time Teachers\",\n",
    "                                    'Pupil/Teacher Ratio [District] 2016-17':\"Pupil/Teacher Ratio\",\n",
    "                                    'Kindergarten Teachers [District] 2016-17':\"Kindergarten Teachers\",\n",
    "                                    'Elementary Teachers [District] 2016-17':\"Elementary Teachers\",\n",
    "                                    'Secondary Teachers [District] 2016-17':\"Secondary Teachers\",\n",
    "                                    'Total Staff [District] 2016-17':\"Total Staff\"\n",
    "                                     })"
   ]
  },
  {
   "cell_type": "markdown",
   "metadata": {},
   "source": [
    "Now, we will remove the \"PARISH\" values from each row entry under the Parish column and also return the entries as lower case."
   ]
  },
  {
   "cell_type": "code",
   "execution_count": null,
   "metadata": {},
   "outputs": [],
   "source": [
    "def remove_Parish(entry):\n",
    "    return re.sub(r\" PARISH\", r\"\", entry)\n",
    "\n",
    "def get_lower(entry):\n",
    "    return entry.lower()"
   ]
  },
  {
   "cell_type": "code",
   "execution_count": null,
   "metadata": {},
   "outputs": [],
   "source": [
    "info_df['Parish'] = info_df['Parish'].apply(remove_Parish)\n",
    "info_df['Parish'] = info_df['Parish'].apply(get_lower)"
   ]
  },
  {
   "cell_type": "markdown",
   "metadata": {},
   "source": [
    "Let's now remove all missing data and replace it with NaN."
   ]
  },
  {
   "cell_type": "code",
   "execution_count": null,
   "metadata": {},
   "outputs": [],
   "source": [
    "def replace_empty_with_NAN(entry):\n",
    "    entry = str(entry)\n",
    "    if re.search(\"–\", entry) != None:\n",
    "        return np.nan\n",
    "    elif re.search('=\"0\"',entry) != None:\n",
    "        return np.nan\n",
    "    elif re.search('=\"0.00\"', entry) != None:\n",
    "        return np.nan\n",
    "    return entry\n"
   ]
  },
  {
   "cell_type": "code",
   "execution_count": null,
   "metadata": {},
   "outputs": [],
   "source": [
    "for col in info_df.columns:\n",
    "    info_df[col] = info_df[col].apply(replace_empty_with_NAN)"
   ]
  },
  {
   "cell_type": "markdown",
   "metadata": {},
   "source": [
    "Checking the dtypes, we find that the columns are not properly formatted so we make the appropriate changes. "
   ]
  },
  {
   "cell_type": "code",
   "execution_count": null,
   "metadata": {},
   "outputs": [],
   "source": [
    "info_df.dtypes.head()"
   ]
  },
  {
   "cell_type": "code",
   "execution_count": null,
   "metadata": {},
   "outputs": [],
   "source": [
    "lst_of_col = [\"Total Students\", \"Male Students\",\"Female Students\", \"American Indian/Alaska Native - Male\", \"American Indian/Alaska Native - Female\",\"Asian or Asian/Pacific Islander - Male\", \"Asian or Asian/Pacific Islander - Female\",\"Hispanic - Male\", \"Hispanic - Female\",\n",
    "\"Black or African American - Male\",\n",
    "\"Black or African American - Female\",\n",
    "\"White - Male\",\n",
    "\"White - Female\",\n",
    "\"Nat. Hawaiian or Other Pacific Isl. - Male\",\n",
    "\"Nat. Hawaiian or Other Pacific Isl. - Female\",\n",
    "\"Two or More Races - Male\",\n",
    "\"Two or More Races - Female\", \n",
    "\"Total Staff\",\n",
    "\"Total Revenue\",\n",
    "\"Federal Revenue\",\n",
    "\"State Revenue\",\n",
    "\"Local Revenue\",\n",
    "\"Revenue per Pupil\",\n",
    "\"Instruction Expendeture\",\n",
    "\"Salary Expendeture\",\n",
    "\"Full-Time Teachers\",\n",
    "\"Pupil/Teacher Ratio\",\n",
    "\"Kindergarten Teachers\",\n",
    "\"Elementary Teachers\",\n",
    "\"Secondary Teachers\"]\n",
    "\n",
    "for col in lst_of_col:\n",
    "    info_df[col] = info_df[col].astype('float')"
   ]
  },
  {
   "cell_type": "code",
   "execution_count": null,
   "metadata": {},
   "outputs": [],
   "source": [
    "info_df.dtypes.head() #much better"
   ]
  },
  {
   "cell_type": "code",
   "execution_count": null,
   "metadata": {},
   "outputs": [],
   "source": [
    "info_df.head() #a look at the final dataframe after data has been tidied"
   ]
  },
  {
   "cell_type": "markdown",
   "metadata": {},
   "source": [
    "___"
   ]
  },
  {
   "cell_type": "markdown",
   "metadata": {},
   "source": [
    "## Louisiana Data: Academic Performance\n",
    "The second dataset comes from the [Louisiana Department of Education](https://www.louisianabelieves.com/resources/library/performance-scores) and includes data relating to measurements of student performance, including a “Letter Grade,” Assessment Index/Index ACT, strength of diploma, cohort graduation rate index, and progress points. The folloiwng data can be downloaded by clicking on the \"2017 District Performance Scores\" link under \"District Performance Scores.\"\n",
    "\n",
    "Each school district is, again, separated as their own observation, which marks school districts as the unit of observation across both this and the former dataset. Again, this dataset comes from a reputable source, being the Louisiana Department of Education; the data also recognizes that some of its measurements may not be too complete or are unreliable and marks values as such; however, nearly every cell is filled in, so little cleaning will need to be done otherwise. This dataset may provide insight into the following questions:\n",
    "* What school districts perform best in Louisiana?\n",
    "* What performance-related measurements correlate with each other?\n",
    "* What are poorly performing districts struggling with?\n",
    "* What might poorly performing districts attempt to focus on to improve?\n"
   ]
  },
  {
   "cell_type": "code",
   "execution_count": null,
   "metadata": {},
   "outputs": [],
   "source": [
    "grades_df = pd.read_csv(r'performance_summary.csv') #import grading of each district of LA\n",
    "grades_df.head() #Livingston parish not reported due to flooding in '16-'17"
   ]
  },
  {
   "cell_type": "markdown",
   "metadata": {},
   "source": [
    "Rename 'District' column to 'Parish', and lower case all parish names as well as removing \"Parish\" from values."
   ]
  },
  {
   "cell_type": "code",
   "execution_count": null,
   "metadata": {},
   "outputs": [],
   "source": [
    "def remove_parish(entry):\n",
    "    return re.sub(r\" parish\", r\"\", entry)\n",
    "\n",
    "grades_df = grades_df.rename(columns = {\"District\": \"Parish\"})\n",
    "grades_df[\"Parish\"] = grades_df[\"Parish\"].apply(get_lower)\n",
    "grades_df[\"Parish\"] = grades_df[\"Parish\"].apply(remove_parish) #important to run this command after the get_lower() command because get_parish is only looking for lower case "
   ]
  },
  {
   "cell_type": "markdown",
   "metadata": {},
   "source": [
    "We have too much information right now, let's drop some unnecessary columns to de-cluter the dataframe."
   ]
  },
  {
   "cell_type": "code",
   "execution_count": null,
   "metadata": {},
   "outputs": [],
   "source": [
    "# Drop observstions in both tables that don't align and unnecessary columns\n",
    "grades_df = grades_df.loc[:62]\n",
    "grades_df = grades_df.drop([\"Unnamed: 21\"], axis=1)\n",
    "grades_df = grades_df.drop(columns = ['2017 Annual DPS ',\n",
    "       '2016 Letter Grade ', '2016 Annual DPS ',\n",
    "       '2017 Assessment Index\\nGrades 3-8*',\n",
    "       '2017 Dropout Credit Accumulation Index*',\n",
    "       '2017 Assessment Index\\nEnd-of-Course Exams*','Strength of Diploma (Graduation Index) (2015-16 Cohort)*',\n",
    "       '2017 Progress Points', '2016 Assessment Index\\nGrades 3-8*',\n",
    "       '2016 Dropout Credit Accumulation Index*',\n",
    "       '2016 Assessment Index\\nEnd-of-Course Exams*',\n",
    "       '2016 Assessment Index\\nACT*',\n",
    "       'Strength of Diploma (Graduation Index) (2014-15 Cohort)*',\n",
    "       ' Cohort Graduation Rate Index \\n(Points Earned for Cohort Graduation Rate)  \\n (2014-15 Cohort)*',\n",
    "       ' Cohort Graduation Rate (Actual Graduation Rate) (2014-15 Cohort)**',\n",
    "       '2016 Progress Points',' Cohort Graduation Rate Index \\n(Points Earned for Cohort Graduation Rate)      \\n(2015-16 Cohort)*'])\n",
    "grades_df = grades_df.rename(columns={\" Cohort Graduation Rate (Actual Graduation Rate) (2015-16 Cohort)**\":\"Graduation Rate\", \"2017 Letter Grade \": \"2017 Letter Grade\"})\n",
    "info_df = info_df.drop(31).reset_index().drop([\"index\"], axis=1)"
   ]
  },
  {
   "cell_type": "markdown",
   "metadata": {},
   "source": [
    "As of now, the ACT assesment index does not mean much. We will translate the ACT index score to an average score reflective of the actual ACT scores achieved by students. The scale is as follows ([from louisianabelieves.com](https://www.louisianabelieves.com/docs/default-source/district-support/using-the-school-performance-score-calculator.pdf)): <br/>\n",
    "\n",
    "ACT Score -> ACT Index Score <br/>\n",
    "0-17     ->    0.0 <br/>\n",
    "18       ->    70.0 <br/>\n",
    "19       ->    80.0 <br/> \n",
    "20       ->    90.0 <br/>\n",
    "21       ->    100.0 <br/>\n",
    "22       ->    103.4 <br/>\n",
    "23       ->    106.8 <br/>\n",
    "24       ->    110.2 <br/>\n"
   ]
  },
  {
   "cell_type": "code",
   "execution_count": null,
   "metadata": {},
   "outputs": [],
   "source": [
    "min_score, max_score = grades_df[\"2017 Assessment Index\\nACT*\"].min(),grades_df[\"2017 Assessment Index\\nACT*\"].max()\n",
    "print(\"Lowest ACT index:\",min_score)\n",
    "print(\"Highest ACT index:\", max_score)"
   ]
  },
  {
   "cell_type": "markdown",
   "metadata": {},
   "source": [
    "Since our highest score is a 106.0, we won't need to convert to a score higher than a 22 according to the table, and we will convert the lowest score to a 70."
   ]
  },
  {
   "cell_type": "code",
   "execution_count": null,
   "metadata": {},
   "outputs": [],
   "source": [
    "def convert_to_raw_act(entry):\n",
    "    if entry < 70:\n",
    "        return 17\n",
    "    elif entry < 80:\n",
    "        return 18\n",
    "    elif entry < 90:\n",
    "        return 19\n",
    "    elif entry < 100:\n",
    "        return 20\n",
    "    elif entry < 103.4:\n",
    "        return 21\n",
    "    else:\n",
    "        return 22"
   ]
  },
  {
   "cell_type": "code",
   "execution_count": null,
   "metadata": {},
   "outputs": [],
   "source": [
    "grades_df[\"Raw ACT Score\"] = grades_df[\"2017 Assessment Index\\nACT*\"].apply(convert_to_raw_act)\n",
    "grades_df = grades_df.drop(columns=[\"2017 Assessment Index\\nACT*\"])"
   ]
  },
  {
   "cell_type": "code",
   "execution_count": null,
   "metadata": {},
   "outputs": [],
   "source": [
    "# Merge grades and info into one large dataframe, where each row is an observation of a district\n",
    "la_df = grades_df.merge(info_df, on=[\"Parish\"])"
   ]
  },
  {
   "cell_type": "markdown",
   "metadata": {},
   "source": [
    "## The Final Louisiana Data set:"
   ]
  },
  {
   "cell_type": "code",
   "execution_count": null,
   "metadata": {},
   "outputs": [],
   "source": [
    "la_df.head()"
   ]
  },
  {
   "cell_type": "markdown",
   "metadata": {},
   "source": [
    "## Exploration of LA data:"
   ]
  },
  {
   "cell_type": "code",
   "execution_count": null,
   "metadata": {},
   "outputs": [],
   "source": [
    "sns.boxplot(x=la_df[\"Revenue per Pupil\"],y=la_df[\"2017 Letter Grade\"],order=[\"A\",\"B\",\"C\",\"D\"])"
   ]
  },
  {
   "cell_type": "markdown",
   "metadata": {},
   "source": [
    "Our intuition would tell us that the higher ranked schools would have a higher Revenue per Pupil, but upon further inspection we don't always see this to be true. While the median is highest in the highest ranked schools, we can see that the \"B\" rank schools actually have the lowest Revenue per Pupil ratio. Lets look at data that would indicate a sucessful education, namely ACT score."
   ]
  },
  {
   "cell_type": "code",
   "execution_count": null,
   "metadata": {},
   "outputs": [],
   "source": [
    "act_table = pd.crosstab(la_df[\"2017 Letter Grade\"], la_df[\"Raw ACT Score\"])\n",
    "act_table"
   ]
  },
  {
   "cell_type": "markdown",
   "metadata": {},
   "source": [
    "It seems like the highely rated schools produce a higher ACT score in general. Lets plot this information, along with graduation rates and total revenues."
   ]
  },
  {
   "cell_type": "code",
   "execution_count": null,
   "metadata": {},
   "outputs": [],
   "source": [
    "total_rev_fig, total_rev_ax = plt.subplots(1,2,figsize = (17,5))\n",
    "\n",
    "sns.scatterplot(y=la_df[\"Total Revenue\"], x = la_df[\"Raw ACT Score\"], data=la_df, hue=la_df[\"2017 Letter Grade\"],hue_order=[\"A\",\"B\",\"C\",\"D\"],ax=total_rev_ax[0])\n",
    "sns.scatterplot(y=la_df[\"Total Revenue\"], x = la_df[\"Graduation Rate\"], data=la_df, hue=la_df[\"2017 Letter Grade\"],hue_order=[\"A\",\"B\",\"C\",\"D\"],ax = total_rev_ax[1])"
   ]
  },
  {
   "cell_type": "markdown",
   "metadata": {},
   "source": [
    "These tables shows that a higher revenue does not always mean a better education. Clearly we have an example of a school with a C rank, low graduation rate, and low ACT score having the highest revenue in the entire state. Let us now plot the average ACT score and graduation rate against the revenue per pupil so that schools with large populations are not skewed.\n"
   ]
  },
  {
   "cell_type": "code",
   "execution_count": null,
   "metadata": {},
   "outputs": [],
   "source": [
    "rppfig,rppax = plt.subplots(1,2,figsize = (17,5))\n",
    "\n",
    "sns.scatterplot(y=la_df[\"Revenue per Pupil\"], x = la_df[\"Raw ACT Score\"], data=la_df, hue=la_df[\"2017 Letter Grade\"],hue_order=[\"A\",\"B\",\"C\",\"D\"], ax = rppax[0])\n",
    "sns.scatterplot(y=la_df[\"Revenue per Pupil\"], x = la_df[\"Graduation Rate\"], data=la_df, hue=la_df[\"2017 Letter Grade\"],hue_order=[\"A\",\"B\",\"C\",\"D\"],ax=rppax[1])"
   ]
  },
  {
   "cell_type": "markdown",
   "metadata": {},
   "source": [
    "We cannot say much in terms of Revenue per Pupil, ACT, and Graduation Rate as they do not seem to correlate much at all. Let us now explore a more successful school system: The New Jersey public school system."
   ]
  },
  {
   "cell_type": "markdown",
   "metadata": {},
   "source": [
    "___\n",
    "## New Jersey: a Basis for Comparison\n",
    "Let's take a look at another state's education data, namely New Jersey, which is a consistently ranked high by [reputable sources](https://www.nj.gov/governor/news/news/562021/20210309a.shtml) for their K-12 public education system. By investigating the relative differences between New Jersey and Louisiana's education systems, explanations for why Louisiana underperforms may be found. </br> </br>\n",
    "Similar to the Louisiana data sets, we'll look into district demographics, financial information, and performance statistics to examine the attributes across school districts."
   ]
  },
  {
   "cell_type": "markdown",
   "metadata": {},
   "source": [
    "### New Jersey Budgets\n",
    "2016-2017 financial data for New Jersey public schools will be used for analysis and taken from the website of New Jersey's Department of Education. The data sets, along with a layout file, can be found [here](https://www.nj.gov/education/finance/fp/ufb/2016/download.shtml)."
   ]
  },
  {
   "cell_type": "markdown",
   "metadata": {},
   "source": [
    "#### Revenues\n",
    "Let's first take a look at revenues, or how much money each school district in New Jersey and Louisiana are bringing in from the local, state, and federal levels. </br>\n",
    "We would expect that, on average, New Jersey public schools have more funding, as its schools are consistently rated highly compared to other states'. </br>\n",
    "We will first clean the data, as the revenue for each district is split amoungst many rows."
   ]
  },
  {
   "cell_type": "code",
   "execution_count": null,
   "metadata": {},
   "outputs": [],
   "source": [
    "nj_rev_df = pd.read_csv(r'nj_rev.csv')\n",
    "nj_rev_df = nj_rev_df[pd.notna(nj_rev_df[\"ACCOUNT\"])] # Remove subtotal observations\n",
    "nj_rev_df = nj_rev_df.drop(columns=[\"COUNTY_ID\", \"CONAME\", \"DISTRICT_ID\", \"LINE_NO\", \"ACCOUNT\", \"AMOUNT_2\", \"AMOUNT_3\"])\n",
    "nj_rev_df = nj_rev_df.rename(columns={\"AMOUNT_1\": \"Revenue\"})"
   ]
  },
  {
   "cell_type": "code",
   "execution_count": null,
   "metadata": {},
   "outputs": [],
   "source": [
    "# Group revenues together under one \"Revenue\" attribute\n",
    "nj_rev_cube = nj_rev_df.pivot_table(\n",
    "    index=\"DISTNAME\",\n",
    "    values=\"Revenue\", aggfunc=np.sum)\n",
    "nj_rev_cube.head()\n"
   ]
  },
  {
   "cell_type": "markdown",
   "metadata": {},
   "source": [
    "Much more neat and meaningful. </br>\n",
    "From this, we can determine both the total revenue of New Jersey public schools and average revenue across its school distrcits. Let's look at these numbers next to the saem statistics of Louisiana and its school districts to see how they line up."
   ]
  },
  {
   "cell_type": "code",
   "execution_count": null,
   "metadata": {},
   "outputs": [],
   "source": [
    "nj_rev_sum = nj_rev_cube[\"Revenue\"].sum()\n",
    "print(\"New Jersey total revenue:\", nj_rev_sum)\n",
    "nj_rev_count = nj_rev_cube[\"Revenue\"].count()\n",
    "print(\"New Jersey school district count:\", nj_rev_count)\n",
    "nj_rev_mean = nj_rev_cube[\"Revenue\"].mean()\n",
    "print(\"New Jersey average total revenue:\", nj_rev_mean)\n",
    "print()\n",
    "la_rev_sum = la_df[\"Total Revenue\"].sum()\n",
    "print(\"Louisiana total revenue:\", la_rev_sum)\n",
    "la_rev_count = la_df[\"Total Revenue\"].count()\n",
    "print(\"Louisiana school district count:\", la_rev_count)\n",
    "la_rev_mean = la_df[\"Total Revenue\"].mean()\n",
    "print(\"Louisiana average total revenue:\", la_rev_mean)"
   ]
  },
  {
   "cell_type": "markdown",
   "metadata": {},
   "source": [
    "From this, we can see that although New Jersey receives nearly 4x more revenue in total than Louisiana does,  Louisiana school districts receive more funding, on average, than those in New Jersey. It's clear that this is the case because New Jersey has far more school distrits than Louisiana does – nearly 10x as many.</br></br>\n",
    "When we view histograms of each, we see that both states have a few outliers receiving a lot of funding, with most receiving a much lower portion:"
   ]
  },
  {
   "cell_type": "code",
   "execution_count": null,
   "metadata": {},
   "outputs": [],
   "source": [
    "# https://stackoverflow.com/questions/45069828/how-to-plot-2-histograms-side-by-side\n",
    "fig, axes = plt.subplots(1,2,figsize=(10,3))\n",
    "\n",
    "axes[0].set_title('NJ')\n",
    "axes[1].set_title('LA')\n",
    "\n",
    "nj_rev_cube[\"Revenue\"].plot.hist(ax=axes[0],sharey=True)\n",
    "la_df[\"Total Revenue\"].plot.hist(ax=axes[1], sharey=True)"
   ]
  },
  {
   "cell_type": "markdown",
   "metadata": {},
   "source": [
    "By examining these distributions as a box plot, we can get a better sense of how the data is distributed:"
   ]
  },
  {
   "cell_type": "code",
   "execution_count": null,
   "metadata": {},
   "outputs": [],
   "source": [
    "sns.boxplot(data=[nj_rev_cube[\"Revenue\"], la_df[\"Total Revenue\"].rename(\"LA\")], orient=\"h\").set(xlabel='Total Revenue', ylabel=\"(LA)         State          (NJ)\")\n"
   ]
  },
  {
   "cell_type": "markdown",
   "metadata": {},
   "source": [
    "From this, we can tell that Louisiana's funding is spread out better than New Jersey's, as New Jersey's box plot reveals many outliers. Let's look at revenue per pupil, next:"
   ]
  },
  {
   "cell_type": "code",
   "execution_count": null,
   "metadata": {},
   "outputs": [],
   "source": [
    "# Create enrollment dataframe\n",
    "nj_enroll_df = pd.read_csv(r'nj_enroll.csv')\n",
    "nj_enroll_df = nj_enroll_df[nj_enroll_df[\"ENROLL_CAT\"] == \"Onroll (Full)\"] # Get just full amounts\n",
    "nj_enroll_df.reset_index(inplace=True)\n",
    "nj_enroll_df.drop(columns=[\"index\", \"COUNTY_ID\", \"CONAME\", \"DISTRICT_ID\", \"ENROLL_LINE_NO\", \"ENROLL_CAT\", \"AMOUNT_2\", \"AMOUNT_3\"], inplace=True)\n",
    "nj_enroll_df = nj_enroll_df.rename(columns={\"AMOUNT_1\":\"Enrollment\"})\n",
    "nj_enroll_df.head()"
   ]
  },
  {
   "cell_type": "code",
   "execution_count": null,
   "metadata": {},
   "outputs": [],
   "source": [
    "# Create revenue/pupil column\n",
    "nj_enroll_rev = nj_rev_cube.merge(nj_enroll_df, on=[\"DISTNAME\"], suffixes=(\"rev\", \"enroll\"))\n",
    "nj_enroll_rev = nj_enroll_rev[nj_enroll_rev[\"Enrollment\"] != 0]\n",
    "nj_enroll_rev[\"rev/pupil\"] = nj_enroll_rev[\"Revenue\"] / nj_enroll_rev[\"Enrollment\"]"
   ]
  },
  {
   "cell_type": "code",
   "execution_count": null,
   "metadata": {},
   "outputs": [],
   "source": [
    "print(\"NJ rev/pupil: \",nj_enroll_rev[\"rev/pupil\"].mean())\n",
    "print(\"LA rev/pupil:\",la_df[\"Revenue per Pupil\"].mean())"
   ]
  },
  {
   "cell_type": "markdown",
   "metadata": {},
   "source": [
    "Here we see that New Jersey spends far more money per pupil than Louisiana does – about 6.5x more. To better view this distribution, let's perform a log transform:"
   ]
  },
  {
   "cell_type": "code",
   "execution_count": null,
   "metadata": {},
   "outputs": [],
   "source": [
    "# Transform rev/pupil attribute\n",
    "nj_enroll_rev[\"log(rev/pupil)\"] = np.log(nj_enroll_rev[\"rev/pupil\"])\n",
    "la_df[\"log(Revenue per Pupil)\"] = np.log(la_df[\"Revenue per Pupil\"])\n",
    "nj_log = nj_enroll_rev[\"log(rev/pupil)\"].rename(\"NJ\")\n",
    "la_log = la_df[\"log(Revenue per Pupil)\"].rename(\"LA\")\n",
    "sns.boxplot(data=[nj_log, la_log], orient=\"h\").set(\n",
    "    xlabel='$ log(Revenue/Pupil)', \n",
    "    ylabel='(LA)         School         (NJ)',\n",
    "    title=\"NJ & LA Revenue/Pupil\"\n",
    ")"
   ]
  },
  {
   "cell_type": "markdown",
   "metadata": {},
   "source": [
    "From the above, we can see that the average rate of revenue per pupil is much higher for New Jersey school districts than for Louisiana school districts. The two metrics we've looked at, average total revenue and average total revenue per pupil, indicate opposing results. Let's incorporate a metric of academic performance or success, such as graduation rate, to determine whether either of these correllate with academic performance."
   ]
  },
  {
   "cell_type": "markdown",
   "metadata": {},
   "source": [
    "#### Revenue and Graduation Rate\n",
    "New Jersey Enrollment data, as published by New Jersey's Department of Education, can be found [here](https://www.nj.gov/education/schoolperformance/grad/ACGR.shtml) under \"2016 Adjusted Cohort 4 year Graduation rates (Excel)\""
   ]
  },
  {
   "cell_type": "code",
   "execution_count": null,
   "metadata": {},
   "outputs": [],
   "source": [
    "# Load in New Jersey Graduation data, convert to proper dtypes\n",
    "nj_grad_df = pd.read_csv(r'nj_grad.csv')\n",
    "nj_grad_all = nj_grad_df[nj_grad_df[\"SUBGROUP\"] == \"Districtwide\"]\n",
    "nj_grad_all.reset_index(inplace=True)\n",
    "nj_grad_all = nj_grad_all.drop(columns=[\"index\", \"COUNTY_ID\", \"COUNTY_NAME\", \"DISTRICT_ID\", \"SCHOOL_CODE\", \"SCHOOL_NAME\", \"SUBGROUP\", \"Unnamed: 10\"])\n",
    "\n",
    "grad_nums = pd.to_numeric(nj_grad_all[\"FOUR_YR_GRAD_RATE\"], errors=\"coerce\", downcast=\"integer\")\n",
    "grad_df = pd.DataFrame(grad_nums)\n",
    "nj_grad_all.pop(\"FOUR_YR_GRAD_RATE\")\n",
    "nj_grad_all = nj_grad_all.join(grad_df)\n",
    "\n",
    "grad_nums = pd.to_numeric(nj_grad_all[\"FOUR_YR_ADJ_COHORT_COUNT\"], errors=\"coerce\", downcast=\"integer\")\n",
    "grad_df = pd.DataFrame(grad_nums)\n",
    "nj_grad_all.pop(\"FOUR_YR_ADJ_COHORT_COUNT\")\n",
    "nj_grad_all = nj_grad_all.join(grad_df)\n",
    "\n",
    "grad_nums = pd.to_numeric(nj_grad_all[\"GRADUATED_COUNT\"], errors=\"coerce\", downcast=\"integer\")\n",
    "grad_df = pd.DataFrame(grad_nums)\n",
    "nj_grad_all.pop(\"GRADUATED_COUNT\")\n",
    "nj_grad_all = nj_grad_all.join(grad_df)\n",
    "\n",
    "grad_nums = pd.to_numeric(la_df[\"Graduation Rate\"], errors=\"coerce\", downcast=\"integer\")\n",
    "grad_df = pd.DataFrame(grad_nums)\n",
    "la_df.pop(\"Graduation Rate\")\n",
    "la_df = la_df.join(grad_df)\n"
   ]
  },
  {
   "cell_type": "code",
   "execution_count": null,
   "metadata": {},
   "outputs": [],
   "source": [
    "print(\"New Jersey average graduation rate:\", nj_grad_all[\"FOUR_YR_GRAD_RATE\"].mean())\n",
    "print(\"Louisiana average graduation rate:\", la_df[\"Graduation Rate\"].mean())"
   ]
  },
  {
   "cell_type": "markdown",
   "metadata": {},
   "source": [
    "We can see that the average 4 year graduation rate for New Jersey school districts is about 10% higher than that of Louisiana school districts. We'll create scatter plots to test whether a correlation between graduation rate and revenue statistics exists for both New Jersey and Louisiana schools."
   ]
  },
  {
   "cell_type": "code",
   "execution_count": null,
   "metadata": {},
   "outputs": [],
   "source": [
    "nj_combo = nj_grad_all.merge(nj_enroll_rev, left_on=\"DISTRICT_NAME\", right_on=\"DISTNAME\", how=\"inner\")\n",
    "nj_combo = nj_combo.rename(columns={\"DISTRICT_NAME\":\"District\",\n",
    "                         \"FOUR_YR_GRAD_RATE\": \"Graduation Rate\",\n",
    "                         \"rev/pupil\": \"Revenue per Pupil\",\n",
    "                         \"Revenue\": \"Total Revenue\" })"
   ]
  },
  {
   "cell_type": "markdown",
   "metadata": {},
   "source": [
    "From these two tables, we'll be able to plot points based on graduation rates and total revenue, enrollment, and revenue per pupil. To get a better sense of the distribution, we'll be limiting the New Jersey data set based on total revenue, as we've seen that a few isolated outliers exist that makes it difficult to differentiate between the rest of the points."
   ]
  },
  {
   "cell_type": "code",
   "execution_count": null,
   "metadata": {},
   "outputs": [],
   "source": [
    "def adjustSize(size):\n",
    "    return (size**1/600)*10\n",
    "\n",
    "\n",
    "sfig,sax = plt.subplots(1,2,figsize = (15,5))\n",
    "# Calculate sizes of plot points based on enrollment size, filtered by total revenue to remove outliers\n",
    "nj_sizes = nj_combo[nj_combo[\"Total Revenue\"] < 200000000][\"Enrollment\"].map(adjustSize)\n",
    "la_sizes = la_df[\"Total Students\"].map(adjustSize)\n",
    "\n",
    "la_df.plot.scatter(x=\"Total Revenue\", y=\"Graduation Rate\", s=la_sizes, title=\"Louisiana Data\",ax=sax[0])\n",
    "nj_combo[nj_combo[\"Total Revenue\"] < 200000000].plot.scatter(x=\"Total Revenue\", y=\"Graduation Rate\", s=nj_sizes,title=\"New Jersey Data\",ax=sax[1])"
   ]
  },
  {
   "cell_type": "markdown",
   "metadata": {},
   "source": [
    "From the above, we can see that not much of a correlation exists between revenue and 4-year graduation rates within school districts within either state. The size of each point corresponds to the number of enrolled students within each school, which was added for greater context when looking at the distribution of school districts.  </br> </br>\n",
    "Let's next test revenue per pupil:"
   ]
  },
  {
   "cell_type": "code",
   "execution_count": null,
   "metadata": {},
   "outputs": [],
   "source": [
    "def adjustSize(size):\n",
    "    return (size**1/800)*10\n",
    "\n",
    "dfig,dax = plt.subplots(1,2,figsize = (15,5))\n",
    "\n",
    "# Calculate sizes of plot points based on enrollment size, filtered revenue per pupil to remove outliers\n",
    "nj_sizes = nj_combo[nj_combo[\"Revenue per Pupil\"] < 30000][\"Enrollment\"].map(adjustSize)\n",
    "la_sizes = la_df[\"Total Students\"].map(adjustSize)\n",
    "\n",
    "la_df.plot.scatter(x=\"Revenue per Pupil\", y=\"Graduation Rate\", s=la_sizes,title=\"Louisiana Data\",ax = dax[0])\n",
    "nj_combo[nj_combo[\"Revenue per Pupil\"] < 30000].plot.scatter(x=\"Revenue per Pupil\", y=\"Graduation Rate\", s=nj_sizes, title=\"New Jersey Data\",ax=dax[1])"
   ]
  },
  {
   "cell_type": "markdown",
   "metadata": {},
   "source": [
    "These plots, too, produce little to no evidence of a correlation between graduation rates and revenues per pupil. Similar to before, the size of each point corresponds to the size of that school district's student population."
   ]
  },
  {
   "cell_type": "markdown",
   "metadata": {},
   "source": [
    "### Appropriations"
   ]
  },
  {
   "cell_type": "markdown",
   "metadata": {},
   "source": [
    "So far, the team has found no relevant relationship between funding and academic perforamnce of school districts. Next, the team will investigate whether appropriations and spending, rather than funding, has any sort of relationship with academic performance. Instruction materials and resources, teacher salaries, and other forms of education expenditures will be looked into."
   ]
  },
  {
   "cell_type": "code",
   "execution_count": null,
   "metadata": {},
   "outputs": [],
   "source": [
    "# Read in appropriations DataFrame\n",
    "nj_approp_df = pd.read_csv(r'nj_approp.csv')\n",
    "nj_approp_df[20:30]"
   ]
  },
  {
   "cell_type": "markdown",
   "metadata": {},
   "source": [
    "By looking at this data closely, it can be seen that a few observations exist without an account. These can be attributed to subtotals that should not be considered a part of the overall summation of monies. Let's filter our data to only work with observations with an actual account number related to each expense."
   ]
  },
  {
   "cell_type": "code",
   "execution_count": null,
   "metadata": {},
   "outputs": [],
   "source": [
    "# Drop observations with no account, drop irrelevant columns, rename relevant appropriations column\n",
    "nj_approp = nj_approp_df[nj_approp_df[\"account\"] != \"'\"]\n",
    "nj_approp = nj_approp.drop(columns=[\"county_id\", \"county_name\", \"district_id\",\n",
    "                                                  \"line_no\", \"account\", \"amount_2\", \"amount_3\"])\n",
    "nj_approp = nj_approp.rename(columns={\"amount_1\": \"Appropriations\"})"
   ]
  },
  {
   "cell_type": "code",
   "execution_count": null,
   "metadata": {
    "scrolled": true
   },
   "outputs": [],
   "source": [
    "# Sum appropriations values within each school district\n",
    "nj_app_cube = nj_approp.pivot_table(\n",
    "    index=\"district_name\",\n",
    "    values=\"Appropriations\", aggfunc=np.sum)\n",
    "nj_approp_totals = nj_app_cube.reset_index()\n",
    "nj_approp_totals.head()"
   ]
  },
  {
   "cell_type": "code",
   "execution_count": null,
   "metadata": {},
   "outputs": [],
   "source": [
    "def make_uppercase(district):\n",
    "    return district.upper()"
   ]
  },
  {
   "cell_type": "code",
   "execution_count": null,
   "metadata": {},
   "outputs": [],
   "source": [
    "nj_approp_totals['district_name'] = nj_approp_totals['district_name'].apply(make_uppercase)\n",
    "nj_approp_totals = nj_approp_totals.sort_values(by=\"district_name\")"
   ]
  },
  {
   "cell_type": "code",
   "execution_count": null,
   "metadata": {},
   "outputs": [],
   "source": [
    "nj_finances = nj_combo.merge(nj_approp_totals, left_on=\"DISTNAME\", right_on=\"district_name\", how=\"inner\")\n",
    "nj_finances = nj_finances.drop(columns=[\"district_name\", \"DISTNAME\"])"
   ]
  },
  {
   "cell_type": "code",
   "execution_count": null,
   "metadata": {},
   "outputs": [],
   "source": [
    "la_df[\"Total Expendeture\"] = la_df[\"Instruction Expendeture\"] + la_df[\"Salary Expendeture\"]"
   ]
  },
  {
   "cell_type": "markdown",
   "metadata": {},
   "source": [
    "At this point, we've successfully loaded in and processed total appropriations numbers for the New Jersey School districts that had available data. Next, let's take a look at how this feature compares across the LA and NJ school districts."
   ]
  },
  {
   "cell_type": "code",
   "execution_count": null,
   "metadata": {},
   "outputs": [],
   "source": [
    "nj_app_sum = nj_approp_totals[\"Appropriations\"].sum()\n",
    "print(\"New Jersey total appropriations:\", nj_app_sum)\n",
    "nj_app_count = nj_approp_totals[\"Appropriations\"].count()\n",
    "print(\"New Jersey school district count:\", nj_app_count)\n",
    "nj_app_mean = nj_approp_totals[\"Appropriations\"].mean()\n",
    "print(\"New Jersey average total appropriations:\", nj_app_mean)\n",
    "print()\n",
    "la_app_sum = la_df[\"Total Expendeture\"].sum()\n",
    "print(\"Louisiana total appropriations:\", la_app_sum)\n",
    "la_app_count = la_df[\"Total Expendeture\"].count()\n",
    "print(\"Louisiana school district count:\", la_app_count)\n",
    "la_app_mean = la_df[\"Total Expendeture\"].mean()\n",
    "print(\"Louisiana average total appropriations:\", la_app_mean)\n",
    "print()\n",
    "print(\"NJ/LA ratio for total appropriations\", nj_app_sum/la_app_sum)\n",
    "print(\"NJ/LA ratio for average total appropriations\", nj_app_mean/la_app_mean)"
   ]
  },
  {
   "cell_type": "markdown",
   "metadata": {},
   "source": [
    "From this data, we can see that NJ spends much more money in total, which makes sense considering how many more school districts it has. However, what's interesting is that LA school districts spend, on average, about twice as much as NJ school districts do. This reflects what we found earlier: that LA school districts bring in about 3 times more revenue per school district, on average, than those on NJ. These changes between the statistics are likely a result of the presence of massive outliers within the New Jersey school districts, as seen in the scatter plots throughout this analysis.\n",
    "<br><br>\n",
    "To explore further, let's investigate appropriations and revenue at the same time by computing their difference for each school district; this will be represented by a new \"Monetary Difference\" value. We'll be working with a slightly smaller data set for NJ, as not every school district could be accounted for during data work and processing."
   ]
  },
  {
   "cell_type": "code",
   "execution_count": null,
   "metadata": {},
   "outputs": [],
   "source": [
    "nj_finances[\"Monetary Difference\"] = nj_finances[\"Total Revenue\"] - nj_finances[\"Appropriations\"]\n",
    "la_df[\"Monetary Difference\"] = la_df[\"Total Revenue\"] - la_df[\"Total Expendeture\"]"
   ]
  },
  {
   "cell_type": "markdown",
   "metadata": {},
   "source": [
    "First, let's use a boxplot to get a sense of how this new value is distributed across each state. A positive value would indicate that more money is being brought in than being spent while a negative value means the reverse, where more money is being spent by the school district than is being brought in (a.k.a. going over budget)."
   ]
  },
  {
   "cell_type": "code",
   "execution_count": null,
   "metadata": {},
   "outputs": [],
   "source": [
    "box = sns.boxplot(data=[nj_finances[\"Monetary Difference\"], la_df[\"Monetary Difference\"]], orient=\"h\").set(\n",
    "    xlabel='$ Monetary Difference', \n",
    "    ylabel='(LA)         State            (NJ)',\n",
    "    title=\"Monetary Difference Distribution for NJ/LA Public School Districts\"\n",
    ")"
   ]
  },
  {
   "cell_type": "markdown",
   "metadata": {},
   "source": [
    "In New Jersey, it appears that most school districts are over-budget with a good portion being outliers that are __well__ over-budget. In Louisiana, on the other hand, the reverse is true: Most schools are just a bit under-budget with a few leaving lots of room to spare in terms of how much money they could spend.\n",
    "<br><br>\n",
    "Next, let's look at the relationship, if any, between graduation rate and appropriations for each state. To do so, we'll plot each variable combination on a scatter plot, similar to our methodology for investigating revenue and graduation rate:"
   ]
  },
  {
   "cell_type": "code",
   "execution_count": null,
   "metadata": {},
   "outputs": [],
   "source": [
    "def adjustSize(size):\n",
    "    return (size**1/600)*10\n",
    "\n",
    "afig,aax = plt.subplots(1,2,figsize = (15,5))\n",
    "# Calculate sizes of plot points, based on total revenue\n",
    "nj_app_sizes = nj_finances[nj_finances[\"Appropriations\"] < .6*1e9][\"Enrollment\"].map(adjustSize)\n",
    "\n",
    "la_df.plot.scatter(x=\"Total Expendeture\", y=\"Graduation Rate\", s=la_sizes, title=\"Louisiana Data\",ax = aax[0])\n",
    "nj_finances[nj_finances[\"Appropriations\"] < .6*1e9].plot.scatter(x=\"Appropriations\", y=\"Graduation Rate\", s=nj_app_sizes, title=\"New Jersey Data\",ax=aax[1])\n"
   ]
  },
  {
   "cell_type": "markdown",
   "metadata": {},
   "source": [
    "Before the investigation, the team expected to find evidence for a positive correlation between appropriations and graduation rate; it would make sense that the school districts that spend the most money on learning supplies and resources would garner the best performance metrics. However, from these plots, little evidence exists to support a strong argument for this relationship between the two variables. In fact, they appear to be negatively correlated, if anything, which is contradictory to what the team expected and similar to the results of the revenue vs. graduation rate plots.\n",
    "<br> <br>\n",
    "Finally, we'll look into whether a relationship exists between monetary difference, or how much a school district goes over/under budget, and graduation rate:"
   ]
  },
  {
   "cell_type": "code",
   "execution_count": null,
   "metadata": {},
   "outputs": [],
   "source": [
    "def adjustSize(size):\n",
    "    return (size**1/600)*10\n",
    "\n",
    "nj_diff = nj_finances[\"Monetary Difference\"]\n",
    "\n",
    "\n",
    "whisker = (nj_diff.quantile(.75)-nj_diff.quantile(.25)) * 1.5\n",
    "\n",
    "yfig, yax = plt.subplots(1,2,figsize = (15,5))\n",
    "# Calculate sizes of plot points, based on enrollment size\n",
    "\n",
    "nj_app_sizes = nj_finances[\"Enrollment\"].map(adjustSize)\n",
    "\n",
    "la_df.plot.scatter(x=\"Monetary Difference\", y=\"Graduation Rate\", s=la_sizes, title=\"Louisiana Data\",ax=yax[0])\n",
    "\n",
    "nj_finances.plot.scatter(x=\"Monetary Difference\", y=\"Graduation Rate\", s=nj_app_sizes, title=\"New Jersey Data\",ax=yax[1])\n"
   ]
  },
  {
   "cell_type": "markdown",
   "metadata": {},
   "source": [
    "A few observations can be made from the plots above. First, the vast majority of school districts are huddled around the 0 value for monetary difference in both plots. Thich makes sense, considering school districts likely aim to be on-par with their budget year after year. Those aforementioned districts also feature a variety of graduation rates, from the 70% range to nearly 95-100%. As the monetary values grow further from that center point, though, the graduation rate tends to move downward in both plots, albeit in different directions.\n",
    "<br><br>\n",
    "It should be noted that the presence of school districts that are so over or under budget may be an indicator of error, as the filtering performed on the data to calculate the total amounts of revenue and expenditures may either over-account or under-account funds. Furthermore, these plots only resemble data from a single year; further analysis would require how these graphs change over time to determine if the data is accurate or if a consistent trend is found for a school district."
   ]
  },
  {
   "cell_type": "markdown",
   "metadata": {},
   "source": [
    "## MODEL"
   ]
  },
  {
   "cell_type": "code",
   "execution_count": null,
   "metadata": {},
   "outputs": [],
   "source": [
    "def avoid_nan(x):\n",
    "    if pd.isna(x) == False:\n",
    "        return float(x)\n",
    "    return x\n",
    "\n",
    "def tofloat(x):\n",
    "    return float(x[:-2])"
   ]
  },
  {
   "cell_type": "code",
   "execution_count": null,
   "metadata": {},
   "outputs": [],
   "source": [
    "nj_student_ratio = pd.read_csv(r'StudentToStaffRatio.csv')\n",
    "nj_student_ratio = nj_student_ratio[:-1] #drop last row because bad data\n",
    "nj_student_ratio[\"TeacherRatio\"] = nj_student_ratio[\"TeacherRatio\"].apply(tofloat)\n",
    "nj_district_code_translate = pd.read_csv(r'DistrictHeader.csv')\n",
    "nj_district_code_translate.columns\n",
    "nj_student_ratio[\"DistrictCode\"] = nj_student_ratio[\"DistrictCode\"].apply(avoid_nan)\n",
    "nj_student_ratio = nj_student_ratio.merge(nj_district_code_translate,on= \"DistrictCode\",how=\"outer\")\n",
    "nj_student_ratio.head()\n",
    "nj_student_ratio = nj_student_ratio.drop(columns = [\n",
    "    \"CountyCode\",\n",
    "    \"DistrictCode\",\n",
    "    \"AdministratorsRatio\",\n",
    "    \"LibrarianMediaSpecialistsRatioDistrict\",\n",
    "    \"NursesRatioDistrict\",\n",
    "    \"CounselorsRatioDistrict\",\n",
    "    \"ChildStudyTeamRatioDistrict\",\n",
    "    \"COUNTY_CODE\",\n",
    "    \"COUNTY_NAME\",\n",
    "    \"GRADESPAN\"\n",
    "])"
   ]
  },
  {
   "cell_type": "code",
   "execution_count": null,
   "metadata": {},
   "outputs": [],
   "source": [
    "nj_student_ratio.rename(columns={\"DISTRICT_NAME\":\"District\"}, inplace=True)\n",
    "nj_finances = nj_finances.merge(nj_student_ratio, on=\"District\",how=\"inner\")"
   ]
  },
  {
   "cell_type": "code",
   "execution_count": null,
   "metadata": {},
   "outputs": [],
   "source": [
    "nj_finances = nj_finances.dropna()"
   ]
  },
  {
   "cell_type": "code",
   "execution_count": null,
   "metadata": {},
   "outputs": [],
   "source": [
    "from sklearn.neighbors import KNeighborsRegressor\n",
    "import math\n",
    "features = [\n",
    "            \"Appropriations\",\n",
    "            \"Total Revenue\",\n",
    "            \"Enrollment\",\n",
    "            \"TeacherRatio\"            \n",
    "            ]\n",
    "\n",
    "X_train = pd.get_dummies(nj_finances[features])\n",
    "\n",
    "X_train_mean = X_train.mean()\n",
    "X_train_std = X_train.std()\n",
    "X_train_sc = (X_train - X_train_mean) / X_train_std\n",
    "\n",
    "y_train = nj_finances[\"Graduation Rate\"]\n",
    "\n",
    "k = math.ceil(math.sqrt(len(nj_combo))) #accepted value of k is sqrt(N) where N is number of training points.\n",
    "model = KNeighborsRegressor(n_neighbors=k)\n",
    "\n",
    "\n",
    "pred_dict = {}\n",
    "for i,row in la_df.iterrows():\n",
    "    x_new = pd.Series(index=X_train.columns, dtype=float)\n",
    "    x_new[\"Appropriations\"] = row[\"Total Expendeture\"]\n",
    "    x_new[\"Total Revenue\"] = row[\"Total Revenue\"]\n",
    "    x_new[\"Enrollment\"] = row[\"Total Students\"]\n",
    "    x_new[\"TeacherRatio\"] = row[\"Pupil/Teacher Ratio\"]\n",
    "    # ...\n",
    "    x_new.fillna(0, inplace=True)\n",
    "    x_new_sc = (x_new - X_train_mean) / X_train_std\n",
    "    model.fit(X_train_sc, y_train)\n",
    "    \n",
    "    X_new_sc = x_new_sc.to_frame().T\n",
    "    output = model.predict(X_new_sc)\n",
    "    pred_dict[row[\"Parish\"]] = output[0]"
   ]
  },
  {
   "cell_type": "code",
   "execution_count": null,
   "metadata": {},
   "outputs": [],
   "source": [
    "pred_lst = pred_dict.items()\n",
    "\n",
    "pred_x,pred_y = zip(*pred_lst)\n",
    "\n",
    "plt.figure(figsize=(5,15))\n",
    "plt.barh(pred_x,pred_y, label=\"Predicted Grad Rate\")\n",
    "plt.barh(la_df[\"Parish\"], la_df[\"Graduation Rate\"],alpha=.5, label=\"Actual Grad Rate\")\n",
    "plt.legend()\n",
    "plt.title(\"LA schools predicted grad rate based on NJ training data\")\n",
    "plt.show()"
   ]
  },
  {
   "cell_type": "markdown",
   "metadata": {},
   "source": [
    "Now that we know that these factors are not all that affects graduation rates, it raises the question which factors do? Let us plot parish/districts along with thier graduation rates to see if there are any paterns that emerge."
   ]
  },
  {
   "cell_type": "code",
   "execution_count": null,
   "metadata": {},
   "outputs": [],
   "source": [
    "la_shp = \"la_coords/cb_2017_22_unsd_500k.shp\" #read in shp data\n",
    "la_coords_df = gpd.read_file(la_shp)"
   ]
  },
  {
   "cell_type": "code",
   "execution_count": null,
   "metadata": {},
   "outputs": [],
   "source": [
    "def filter_parish(entry):\n",
    "    entry = get_lower(entry)\n",
    "    return re.sub(r\" parish school district\", r\"\", entry)"
   ]
  },
  {
   "cell_type": "code",
   "execution_count": null,
   "metadata": {},
   "outputs": [],
   "source": [
    "la_coords_df[\"NAME\"] = la_coords_df[\"NAME\"].apply(filter_parish)"
   ]
  },
  {
   "cell_type": "code",
   "execution_count": null,
   "metadata": {},
   "outputs": [],
   "source": [
    "la_coords_df = la_coords_df.merge(la_df, left_on=\"NAME\", right_on=\"Parish\", how=\"left\")"
   ]
  },
  {
   "cell_type": "code",
   "execution_count": null,
   "metadata": {},
   "outputs": [],
   "source": [
    "fig, ax = plt.subplots(figsize=(15,10))\n",
    "la_coords_df.plot(column=\"Graduation Rate\", cmap = 'Blues', linewidth=1, ax=ax,edgecolor = '0.8',legend=True)\n",
    "ax.set_axis_off()\n",
    "ax.set_title(\"Graduation Rates by Parish\",loc=\"center\")\n",
    "plt.show()"
   ]
  },
  {
   "cell_type": "markdown",
   "metadata": {},
   "source": [
    "Even though some data is missing in Louisiana (in white), with the data that is represented there does not seem to be any relation between graduation rate and location. Future exploration could focus on the search for the factors that are most influencial to a child's education."
   ]
  },
  {
   "cell_type": "markdown",
   "metadata": {},
   "source": [
    "___\n",
    "## Closing Thoughts and Final Goals:\n",
    "\n",
    "So far, little has been found in terms of correlation between funding and academic performance of school districts. The team has found this to be surprising, especially considering this was found across both data sets. While strange, this information could be used to pinpoint school districts that may be collecting a strong amount of money, only to spend it in an irresponsible way. More investigation could be further complete to detemrine why school districts with high funding amounts are underperforming in both states, and vise-versa.\n",
    "\n",
    "As a result of the initial exploratory data analysis completed on data sets relating to financial information and academic performance of both New Jersey and Louisiana school districts, the team has deteremined new questions to consider in the future:\n",
    "\n",
    "- **What relationships exist between variables of financial, or otherwise demographic, data and academic performance of school districts?**\n",
    "    - i.e. does student/teacher ratio, diversity, or enrollment size relate to academic performance?\n",
    "- **If a relationship is found, can the team predict the relative academic performances of the school districts of states, given the relevant data?**\n",
    "\n",
    "For these questions, we are looking to test whether academic performance is dependent on other aspects of school districts. Other ways the team plans on testing for relationships is by numerically calculating $r^2$ values and other statistics that represent the strength of relationships between two variables.\n",
    "\n",
    "It's vital that the team continues to test new attributes the school districts in search for relevant relationships. Even if none are found, however, it should be interesting to note the absence of such relationships when testing variables that are expected to relate to one another.</br> </br>\n",
    "\n",
    "The team's next steps primarily involve three main strategies:\n",
    "- **Test new financial, identity, demographic, or other attributes of each school district and compare them to academic performance**\n",
    "- **Determine more methods to evaluate student performance, beyond average ACT score and 4-year graduation rate**\n",
    "- **If necessary, supplement data with more states to confirm results found**"
   ]
  },
  {
   "cell_type": "code",
   "execution_count": null,
   "metadata": {},
   "outputs": [],
   "source": [
    "!jupyter nbconvert --to html Final_Tutorial.ipynb "
   ]
  },
  {
   "cell_type": "code",
   "execution_count": null,
   "metadata": {},
   "outputs": [],
   "source": []
  }
 ],
 "metadata": {
  "interpreter": {
   "hash": "4bd3767b9a68b1809be1a8a3b2146e6067673f8776213bfbf5c8fe8ac7d04b67"
  },
  "kernelspec": {
   "display_name": "Python 3 (ipykernel)",
   "language": "python",
   "name": "python3"
  },
  "language_info": {
   "codemirror_mode": {
    "name": "ipython",
    "version": 3
   },
   "file_extension": ".py",
   "mimetype": "text/x-python",
   "name": "python",
   "nbconvert_exporter": "python",
   "pygments_lexer": "ipython3",
   "version": "3.8.3"
  }
 },
 "nbformat": 4,
 "nbformat_minor": 2
}
